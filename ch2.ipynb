{
 "cells": [
  {
   "cell_type": "markdown",
   "id": "9b127feb",
   "metadata": {},
   "source": [
    "## supervised learning"
   ]
  },
  {
   "cell_type": "markdown",
   "id": "0e1b8ccb",
   "metadata": {},
   "source": [
    "- classification\n",
    "    - binary classification\n",
    "    - multiclass classification"
   ]
  },
  {
   "cell_type": "markdown",
   "id": "7a19ae91",
   "metadata": {},
   "source": [
    "### 이진 분류\n",
    "positive class 와 negative class가 있음.\n",
    "positive class는 분류하고자 하는 대상이다."
   ]
  },
  {
   "cell_type": "markdown",
   "id": "727ad965",
   "metadata": {},
   "source": [
    "### 회귀\n",
    "연속적인 숫자, 또는 프로그래밍 용어로 말하면 floating point 를 예측하는 것이다."
   ]
  },
  {
   "cell_type": "markdown",
   "id": "8f3378b1",
   "metadata": {},
   "source": [
    "출력 값에 연속성이 있는지 찾아보면 회귀와 분류 문제를 쉽게 구분할 수 있다."
   ]
  },
  {
   "cell_type": "code",
   "execution_count": 94,
   "id": "8fc70182",
   "metadata": {},
   "outputs": [],
   "source": [
    "from IPython.display import display\n",
    "import numpy as np\n",
    "import matplotlib.pyplot as plt\n",
    "import pandas as pd\n",
    "import mglearn\n",
    "from sklearn.datasets import make_blobs\n",
    "from sklearn.model_selection import train_test_split\n",
    "\n",
    "from IPython.core.interactiveshell import InteractiveShell\n",
    "InteractiveShell.ast_node_interactivity = \"all\"\n",
    "\n",
    "%matplotlib notebook\n",
    "%matplotlib inline"
   ]
  },
  {
   "cell_type": "code",
   "execution_count": 95,
   "id": "6f0a4255",
   "metadata": {},
   "outputs": [
    {
     "name": "stderr",
     "output_type": "stream",
     "text": [
      "C:\\Users\\NCS\\anaconda3\\envs\\py\\lib\\site-packages\\sklearn\\utils\\deprecation.py:86: FutureWarning: Function make_blobs is deprecated; Please import make_blobs directly from scikit-learn\n",
      "  warnings.warn(msg, category=FutureWarning)\n"
     ]
    },
    {
     "data": {
      "text/plain": [
       "[<matplotlib.lines.Line2D at 0x1fe4975d3a0>,\n",
       " <matplotlib.lines.Line2D at 0x1fe4975d700>]"
      ]
     },
     "execution_count": 95,
     "metadata": {},
     "output_type": "execute_result"
    },
    {
     "data": {
      "text/plain": [
       "Text(0.5, 1.0, 'scatter of forge datasets')"
      ]
     },
     "execution_count": 95,
     "metadata": {},
     "output_type": "execute_result"
    },
    {
     "data": {
      "text/plain": [
       "<matplotlib.legend.Legend at 0x1fe4975d220>"
      ]
     },
     "execution_count": 95,
     "metadata": {},
     "output_type": "execute_result"
    },
    {
     "data": {
      "text/plain": [
       "Text(0.5, 0, '1st feature')"
      ]
     },
     "execution_count": 95,
     "metadata": {},
     "output_type": "execute_result"
    },
    {
     "data": {
      "text/plain": [
       "Text(0, 0.5, '2nd feature')"
      ]
     },
     "execution_count": 95,
     "metadata": {},
     "output_type": "execute_result"
    },
    {
     "name": "stdout",
     "output_type": "stream",
     "text": [
      "X.shape:  (26, 2)\n"
     ]
    },
    {
     "data": {
      "image/png": "[encoded data removed]",
      "text/plain": [
       "<Figure size 432x288 with 1 Axes>"
      ]
     },
     "metadata": {
      "needs_background": "light"
     },
     "output_type": "display_data"
    }
   ],
   "source": [
    "# make datasets\n",
    "X, y = mglearn.datasets.make_forge()\n",
    "\n",
    "# plotting scatter\n",
    "mglearn.discrete_scatter(X[:, 0], X[:, 1], y)\n",
    "plt.title(\"scatter of forge datasets\")\n",
    "plt.legend([\"class 0\", \"class1\"], loc = 4)\n",
    "plt.xlabel(\"1st feature\")\n",
    "plt.ylabel(\"2nd feature\")\n",
    "print(\"X.shape: \", X.shape)"
   ]
  },
  {
   "cell_type": "markdown",
   "id": "e50fd08c",
   "metadata": {},
   "source": [
    "위의 dataset의 shape은 26, 2 이다.\n",
    "\n",
    "회귀 알고리즘에는 인위적으로 만든 wave datasets을 사용한다.\n",
    "\n",
    "wave datasets 은 input feature 1개와 모델링할 target 변수 (또는 응답)을 가진다."
   ]
  },
  {
   "cell_type": "code",
   "execution_count": 96,
   "id": "54464073",
   "metadata": {},
   "outputs": [
    {
     "data": {
      "text/plain": [
       "[<matplotlib.lines.Line2D at 0x1fe497cf130>]"
      ]
     },
     "execution_count": 96,
     "metadata": {},
     "output_type": "execute_result"
    },
    {
     "data": {
      "text/plain": [
       "(-3.0, 3.0)"
      ]
     },
     "execution_count": 96,
     "metadata": {},
     "output_type": "execute_result"
    },
    {
     "data": {
      "text/plain": [
       "Text(0.5, 0, 'features')"
      ]
     },
     "execution_count": 96,
     "metadata": {},
     "output_type": "execute_result"
    },
    {
     "data": {
      "text/plain": [
       "Text(0, 0.5, 'targets')"
      ]
     },
     "execution_count": 96,
     "metadata": {},
     "output_type": "execute_result"
    },
    {
     "data": {
      "image/png": "[encoded data removed]",
      "text/plain": [
       "<Figure size 432x288 with 1 Axes>"
      ]
     },
     "metadata": {
      "needs_background": "light"
     },
     "output_type": "display_data"
    }
   ],
   "source": [
    "X, y = mglearn.datasets.make_wave(n_samples=40)\n",
    "plt.plot(X, y, 'o')\n",
    "plt.ylim(-3, 3)\n",
    "plt.xlabel(\"features\")\n",
    "plt.ylabel(\"targets\")"
   ]
  },
  {
   "cell_type": "code",
   "execution_count": 97,
   "id": "73edd84c",
   "metadata": {},
   "outputs": [
    {
     "name": "stdout",
     "output_type": "stream",
     "text": [
      "cancer.keys():\n",
      " dict_keys(['data', 'target', 'frame', 'target_names', 'DESCR', 'feature_names', 'filename'])\n"
     ]
    }
   ],
   "source": [
    "from sklearn.datasets import load_breast_cancer\n",
    "cancer = load_breast_cancer()\n",
    "print(\"cancer.keys():\\n\", cancer.keys())\n",
    "# sklearn에 있는 dataset은 bunch 객체이다.\n",
    "# 딕셔너리와 비슷하지만 bunch['key'] 대신 bunch.key 를 사용할 수 있다."
   ]
  },
  {
   "cell_type": "code",
   "execution_count": 98,
   "id": "6b252def",
   "metadata": {},
   "outputs": [
    {
     "name": "stdout",
     "output_type": "stream",
     "text": [
      "(569, 30)\n"
     ]
    }
   ],
   "source": [
    "print(cancer.data.shape)"
   ]
  },
  {
   "cell_type": "code",
   "execution_count": 99,
   "id": "b8860dad",
   "metadata": {},
   "outputs": [
    {
     "name": "stdout",
     "output_type": "stream",
     "text": [
      "# of samples for class\n",
      " {'malignant': 212, 'benign': 357}\n"
     ]
    }
   ],
   "source": [
    "print(\"# of samples for class\\n\",\n",
    "     {n: v for n, v in zip(cancer.target_names, np.bincount(cancer.target))})"
   ]
  },
  {
   "cell_type": "code",
   "execution_count": 100,
   "id": "4e8dd1f9",
   "metadata": {},
   "outputs": [
    {
     "name": "stdout",
     "output_type": "stream",
     "text": [
      "name of features\n",
      " ['mean radius' 'mean texture' 'mean perimeter' 'mean area'\n",
      " 'mean smoothness' 'mean compactness' 'mean concavity'\n",
      " 'mean concave points' 'mean symmetry' 'mean fractal dimension'\n",
      " 'radius error' 'texture error' 'perimeter error' 'area error'\n",
      " 'smoothness error' 'compactness error' 'concavity error'\n",
      " 'concave points error' 'symmetry error' 'fractal dimension error'\n",
      " 'worst radius' 'worst texture' 'worst perimeter' 'worst area'\n",
      " 'worst smoothness' 'worst compactness' 'worst concavity'\n",
      " 'worst concave points' 'worst symmetry' 'worst fractal dimension']\n"
     ]
    }
   ],
   "source": [
    "print(\"name of features\\n\", cancer.feature_names)"
   ]
  },
  {
   "cell_type": "markdown",
   "id": "9a4b5d9e",
   "metadata": {},
   "source": [
    "### boston housing price prediction"
   ]
  },
  {
   "cell_type": "code",
   "execution_count": 101,
   "id": "c9c3f386",
   "metadata": {},
   "outputs": [
    {
     "name": "stdout",
     "output_type": "stream",
     "text": [
      "(506, 13)\n"
     ]
    }
   ],
   "source": [
    "from sklearn.datasets import load_boston\n",
    "boston = load_boston()\n",
    "print(boston.data.shape)"
   ]
  },
  {
   "cell_type": "code",
   "execution_count": 102,
   "id": "6d66f180",
   "metadata": {},
   "outputs": [
    {
     "name": "stdout",
     "output_type": "stream",
     "text": [
      "(506, 104)\n"
     ]
    }
   ],
   "source": [
    "X, y = mglearn.datasets.load_extended_boston()\n",
    "print(X.shape)"
   ]
  },
  {
   "cell_type": "code",
   "execution_count": 103,
   "id": "76521b35",
   "metadata": {},
   "outputs": [
    {
     "name": "stderr",
     "output_type": "stream",
     "text": [
      "C:\\Users\\NCS\\anaconda3\\envs\\py\\lib\\site-packages\\sklearn\\utils\\deprecation.py:86: FutureWarning: Function make_blobs is deprecated; Please import make_blobs directly from scikit-learn\n",
      "  warnings.warn(msg, category=FutureWarning)\n"
     ]
    },
    {
     "data": {
      "image/png": "[encoded data removed]",
      "text/plain": [
       "<Figure size 432x288 with 1 Axes>"
      ]
     },
     "metadata": {
      "needs_background": "light"
     },
     "output_type": "display_data"
    }
   ],
   "source": [
    "mglearn.plots.plot_knn_classification(n_neighbors=1)"
   ]
  },
  {
   "cell_type": "code",
   "execution_count": 104,
   "id": "dee35a78",
   "metadata": {},
   "outputs": [
    {
     "name": "stderr",
     "output_type": "stream",
     "text": [
      "C:\\Users\\NCS\\anaconda3\\envs\\py\\lib\\site-packages\\sklearn\\utils\\deprecation.py:86: FutureWarning: Function make_blobs is deprecated; Please import make_blobs directly from scikit-learn\n",
      "  warnings.warn(msg, category=FutureWarning)\n"
     ]
    }
   ],
   "source": [
    "from sklearn.model_selection import train_test_split\n",
    "X, y = mglearn.datasets.make_forge()\n",
    "\n",
    "X_train, X_test, y_train, y_test = train_test_split(X, y, random_state=0)"
   ]
  },
  {
   "cell_type": "code",
   "execution_count": 105,
   "id": "7940c29b",
   "metadata": {},
   "outputs": [],
   "source": [
    "from sklearn.neighbors import KNeighborsClassifier\n",
    "clf = KNeighborsClassifier(n_neighbors=3)"
   ]
  },
  {
   "cell_type": "code",
   "execution_count": 106,
   "id": "9bd41da0",
   "metadata": {},
   "outputs": [
    {
     "data": {
      "text/plain": [
       "KNeighborsClassifier(n_neighbors=3)"
      ]
     },
     "execution_count": 106,
     "metadata": {},
     "output_type": "execute_result"
    }
   ],
   "source": [
    "clf.fit(X_train, y_train)"
   ]
  },
  {
   "cell_type": "code",
   "execution_count": 107,
   "id": "e1f03d0b",
   "metadata": {},
   "outputs": [
    {
     "name": "stdout",
     "output_type": "stream",
     "text": [
      "[1 0 1 0 1 0 0]\n"
     ]
    }
   ],
   "source": [
    "print(clf.predict(X_test))"
   ]
  },
  {
   "cell_type": "code",
   "execution_count": 108,
   "id": "4fe8a66e",
   "metadata": {},
   "outputs": [
    {
     "name": "stdout",
     "output_type": "stream",
     "text": [
      "performance: 0.8571428571428571\n"
     ]
    }
   ],
   "source": [
    "print(\"performance:\", clf.score(X_test, y_test))"
   ]
  },
  {
   "cell_type": "code",
   "execution_count": 109,
   "id": "9df2d0dc",
   "metadata": {},
   "outputs": [
    {
     "data": {
      "text/plain": [
       "[<matplotlib.lines.Line2D at 0x1fe4a8906d0>,\n",
       " <matplotlib.lines.Line2D at 0x1fe4a890a00>]"
      ]
     },
     "execution_count": 109,
     "metadata": {},
     "output_type": "execute_result"
    },
    {
     "data": {
      "text/plain": [
       "Text(0.5, 1.0, 'neighbors: 1')"
      ]
     },
     "execution_count": 109,
     "metadata": {},
     "output_type": "execute_result"
    },
    {
     "data": {
      "text/plain": [
       "Text(0.5, 0, 'feature 1')"
      ]
     },
     "execution_count": 109,
     "metadata": {},
     "output_type": "execute_result"
    },
    {
     "data": {
      "text/plain": [
       "Text(0, 0.5, 'feature 2')"
      ]
     },
     "execution_count": 109,
     "metadata": {},
     "output_type": "execute_result"
    },
    {
     "data": {
      "text/plain": [
       "[<matplotlib.lines.Line2D at 0x1fe4a8a2430>,\n",
       " <matplotlib.lines.Line2D at 0x1fe4a8a2760>]"
      ]
     },
     "execution_count": 109,
     "metadata": {},
     "output_type": "execute_result"
    },
    {
     "data": {
      "text/plain": [
       "Text(0.5, 1.0, 'neighbors: 3')"
      ]
     },
     "execution_count": 109,
     "metadata": {},
     "output_type": "execute_result"
    },
    {
     "data": {
      "text/plain": [
       "Text(0.5, 0, 'feature 1')"
      ]
     },
     "execution_count": 109,
     "metadata": {},
     "output_type": "execute_result"
    },
    {
     "data": {
      "text/plain": [
       "Text(0, 0.5, 'feature 2')"
      ]
     },
     "execution_count": 109,
     "metadata": {},
     "output_type": "execute_result"
    },
    {
     "data": {
      "text/plain": [
       "[<matplotlib.lines.Line2D at 0x1fe4a8ae190>,\n",
       " <matplotlib.lines.Line2D at 0x1fe4a8ae4c0>]"
      ]
     },
     "execution_count": 109,
     "metadata": {},
     "output_type": "execute_result"
    },
    {
     "data": {
      "text/plain": [
       "Text(0.5, 1.0, 'neighbors: 9')"
      ]
     },
     "execution_count": 109,
     "metadata": {},
     "output_type": "execute_result"
    },
    {
     "data": {
      "text/plain": [
       "Text(0.5, 0, 'feature 1')"
      ]
     },
     "execution_count": 109,
     "metadata": {},
     "output_type": "execute_result"
    },
    {
     "data": {
      "text/plain": [
       "Text(0, 0.5, 'feature 2')"
      ]
     },
     "execution_count": 109,
     "metadata": {},
     "output_type": "execute_result"
    },
    {
     "data": {
      "text/plain": [
       "<matplotlib.legend.Legend at 0x1fe49912c40>"
      ]
     },
     "execution_count": 109,
     "metadata": {},
     "output_type": "execute_result"
    },
    {
     "data": {
      "image/png": "[encoded data removed]",
      "text/plain": [
       "<Figure size 720x216 with 3 Axes>"
      ]
     },
     "metadata": {},
     "output_type": "display_data"
    }
   ],
   "source": [
    "fig, axes = plt.subplots(1, 3, figsize=(10,3))\n",
    "\n",
    "for n_neighbors, ax in zip([1, 3, 9], axes):\n",
    "    clf = KNeighborsClassifier(n_neighbors=n_neighbors).fit(X, y)\n",
    "    mglearn.plots.plot_2d_separator(clf, X, fill=True, eps=0.5, ax=ax, alpha=0.4)\n",
    "    mglearn.discrete_scatter(X[:, 0], X[:, 1], y, ax=ax)\n",
    "    ax.set_title(\"neighbors: {}\".format(n_neighbors))\n",
    "    ax.set_xlabel(\"feature 1\")\n",
    "    ax.set_ylabel(\"feature 2\")\n",
    "axes[0].legend(loc=3)                        "
   ]
  },
  {
   "cell_type": "code",
   "execution_count": 110,
   "id": "a3e88bec",
   "metadata": {},
   "outputs": [],
   "source": [
    "from sklearn.datasets import load_breast_cancer\n",
    "\n",
    "cancer = load_breast_cancer()\n",
    "X_train, X_test, y_train, y_test = train_test_split(\n",
    "    cancer.data, cancer.target, stratify=cancer.target, random_state=66)"
   ]
  },
  {
   "cell_type": "code",
   "execution_count": 111,
   "id": "2e7b68e7",
   "metadata": {},
   "outputs": [
    {
     "data": {
      "text/plain": [
       "KNeighborsClassifier(n_neighbors=1)"
      ]
     },
     "execution_count": 111,
     "metadata": {},
     "output_type": "execute_result"
    },
    {
     "data": {
      "text/plain": [
       "KNeighborsClassifier(n_neighbors=2)"
      ]
     },
     "execution_count": 111,
     "metadata": {},
     "output_type": "execute_result"
    },
    {
     "data": {
      "text/plain": [
       "KNeighborsClassifier(n_neighbors=3)"
      ]
     },
     "execution_count": 111,
     "metadata": {},
     "output_type": "execute_result"
    },
    {
     "data": {
      "text/plain": [
       "KNeighborsClassifier(n_neighbors=4)"
      ]
     },
     "execution_count": 111,
     "metadata": {},
     "output_type": "execute_result"
    },
    {
     "data": {
      "text/plain": [
       "KNeighborsClassifier()"
      ]
     },
     "execution_count": 111,
     "metadata": {},
     "output_type": "execute_result"
    },
    {
     "data": {
      "text/plain": [
       "KNeighborsClassifier(n_neighbors=6)"
      ]
     },
     "execution_count": 111,
     "metadata": {},
     "output_type": "execute_result"
    },
    {
     "data": {
      "text/plain": [
       "KNeighborsClassifier(n_neighbors=7)"
      ]
     },
     "execution_count": 111,
     "metadata": {},
     "output_type": "execute_result"
    },
    {
     "data": {
      "text/plain": [
       "KNeighborsClassifier(n_neighbors=8)"
      ]
     },
     "execution_count": 111,
     "metadata": {},
     "output_type": "execute_result"
    },
    {
     "data": {
      "text/plain": [
       "KNeighborsClassifier(n_neighbors=9)"
      ]
     },
     "execution_count": 111,
     "metadata": {},
     "output_type": "execute_result"
    },
    {
     "data": {
      "text/plain": [
       "KNeighborsClassifier(n_neighbors=10)"
      ]
     },
     "execution_count": 111,
     "metadata": {},
     "output_type": "execute_result"
    }
   ],
   "source": [
    "train_accuracy = []\n",
    "test_accuracy = []\n",
    "# apply n_neighbors 1 to 10\n",
    "neighbors_settings = range(1, 11)\n",
    "\n",
    "for n_neighbors in neighbors_settings:\n",
    "    # create model\n",
    "    clf = KNeighborsClassifier(n_neighbors=n_neighbors)\n",
    "    clf.fit(X_train, y_train)\n",
    "    # store acc of train set\n",
    "    train_accuracy.append(clf.score(X_train, y_train))\n",
    "    # store acc of test set\n",
    "    test_accuracy.append(clf.score(X_test, y_test))"
   ]
  },
  {
   "cell_type": "code",
   "execution_count": 112,
   "id": "0e08ab3c",
   "metadata": {},
   "outputs": [
    {
     "data": {
      "text/plain": [
       "[<matplotlib.lines.Line2D at 0x1fe47c54430>]"
      ]
     },
     "execution_count": 112,
     "metadata": {},
     "output_type": "execute_result"
    },
    {
     "data": {
      "text/plain": [
       "[<matplotlib.lines.Line2D at 0x1fe464ef0d0>]"
      ]
     },
     "execution_count": 112,
     "metadata": {},
     "output_type": "execute_result"
    },
    {
     "data": {
      "text/plain": [
       "Text(0, 0.5, 'acc')"
      ]
     },
     "execution_count": 112,
     "metadata": {},
     "output_type": "execute_result"
    },
    {
     "data": {
      "text/plain": [
       "Text(0.5, 0, 'n_neighbors')"
      ]
     },
     "execution_count": 112,
     "metadata": {},
     "output_type": "execute_result"
    },
    {
     "data": {
      "text/plain": [
       "<matplotlib.legend.Legend at 0x1fe4a8b6be0>"
      ]
     },
     "execution_count": 112,
     "metadata": {},
     "output_type": "execute_result"
    },
    {
     "data": {
      "image/png": "[encoded data removed]",
      "text/plain": [
       "<Figure size 432x288 with 1 Axes>"
      ]
     },
     "metadata": {
      "needs_background": "light"
     },
     "output_type": "display_data"
    }
   ],
   "source": [
    "plt.plot(neighbors_settings, train_accuracy, label=\"train acc\")\n",
    "plt.plot(neighbors_settings, test_accuracy, label=\"test acc\")\n",
    "plt.ylabel(\"acc\")\n",
    "plt.xlabel(\"n_neighbors\")\n",
    "plt.legend()"
   ]
  },
  {
   "cell_type": "code",
   "execution_count": 113,
   "id": "fe18ec1e",
   "metadata": {},
   "outputs": [
    {
     "data": {
      "image/png": "[encoded data removed]",
      "text/plain": [
       "<Figure size 720x432 with 1 Axes>"
      ]
     },
     "metadata": {
      "needs_background": "light"
     },
     "output_type": "display_data"
    }
   ],
   "source": [
    "mglearn.plots.plot_knn_regression(n_neighbors=1)"
   ]
  },
  {
   "cell_type": "code",
   "execution_count": 114,
   "id": "5ca618d4",
   "metadata": {},
   "outputs": [
    {
     "data": {
      "image/png": "[encoded data removed]",
      "text/plain": [
       "<Figure size 720x432 with 1 Axes>"
      ]
     },
     "metadata": {
      "needs_background": "light"
     },
     "output_type": "display_data"
    }
   ],
   "source": [
    "mglearn.plots.plot_knn_regression(n_neighbors=3)"
   ]
  },
  {
   "cell_type": "code",
   "execution_count": 115,
   "id": "26a1aeae",
   "metadata": {},
   "outputs": [],
   "source": [
    "from sklearn.neighbors import KNeighborsRegressor"
   ]
  },
  {
   "cell_type": "code",
   "execution_count": 116,
   "id": "759c73c1",
   "metadata": {},
   "outputs": [],
   "source": [
    "X, y = mglearn.datasets.make_wave(n_samples=40)"
   ]
  },
  {
   "cell_type": "code",
   "execution_count": 117,
   "id": "7f385e02",
   "metadata": {},
   "outputs": [],
   "source": [
    "X_train, X_test, y_train, y_test = train_test_split(X, y, random_state=0)\n",
    "reg = KNeighborsRegressor(n_neighbors=3)"
   ]
  },
  {
   "cell_type": "code",
   "execution_count": 118,
   "id": "14e9232a",
   "metadata": {},
   "outputs": [
    {
     "data": {
      "text/plain": [
       "KNeighborsRegressor(n_neighbors=3)"
      ]
     },
     "execution_count": 118,
     "metadata": {},
     "output_type": "execute_result"
    }
   ],
   "source": [
    "reg.fit(X_train, y_train)"
   ]
  },
  {
   "cell_type": "code",
   "execution_count": 119,
   "id": "ba8184ee",
   "metadata": {},
   "outputs": [
    {
     "name": "stdout",
     "output_type": "stream",
     "text": [
      "[-0.05396539  0.35686046  1.13671923 -1.89415682 -1.13881398 -1.63113382\n",
      "  0.35686046  0.91241374 -0.44680446 -1.13881398]\n"
     ]
    }
   ],
   "source": [
    "print(reg.predict(X_test))"
   ]
  },
  {
   "cell_type": "code",
   "execution_count": 120,
   "id": "ec159336",
   "metadata": {},
   "outputs": [
    {
     "name": "stdout",
     "output_type": "stream",
     "text": [
      "0.8344172446249605\n"
     ]
    }
   ],
   "source": [
    "print(reg.score(X_test, y_test))"
   ]
  },
  {
   "cell_type": "code",
   "execution_count": 121,
   "id": "b2e401f8",
   "metadata": {},
   "outputs": [
    {
     "data": {
      "text/plain": [
       "KNeighborsRegressor(n_neighbors=1)"
      ]
     },
     "execution_count": 121,
     "metadata": {},
     "output_type": "execute_result"
    },
    {
     "data": {
      "text/plain": [
       "[<matplotlib.lines.Line2D at 0x1fe494f93d0>]"
      ]
     },
     "execution_count": 121,
     "metadata": {},
     "output_type": "execute_result"
    },
    {
     "data": {
      "text/plain": [
       "[<matplotlib.lines.Line2D at 0x1fe494f9d30>]"
      ]
     },
     "execution_count": 121,
     "metadata": {},
     "output_type": "execute_result"
    },
    {
     "data": {
      "text/plain": [
       "[<matplotlib.lines.Line2D at 0x1fe49925640>]"
      ]
     },
     "execution_count": 121,
     "metadata": {},
     "output_type": "execute_result"
    },
    {
     "data": {
      "text/plain": [
       "Text(0.5, 1.0, '1 neighbors train score: 1.00 test score: 0.35')"
      ]
     },
     "execution_count": 121,
     "metadata": {},
     "output_type": "execute_result"
    },
    {
     "data": {
      "text/plain": [
       "Text(0.5, 0, 'feature')"
      ]
     },
     "execution_count": 121,
     "metadata": {},
     "output_type": "execute_result"
    },
    {
     "data": {
      "text/plain": [
       "Text(0, 0.5, 'target')"
      ]
     },
     "execution_count": 121,
     "metadata": {},
     "output_type": "execute_result"
    },
    {
     "data": {
      "text/plain": [
       "KNeighborsRegressor(n_neighbors=3)"
      ]
     },
     "execution_count": 121,
     "metadata": {},
     "output_type": "execute_result"
    },
    {
     "data": {
      "text/plain": [
       "[<matplotlib.lines.Line2D at 0x1fe494f9580>]"
      ]
     },
     "execution_count": 121,
     "metadata": {},
     "output_type": "execute_result"
    },
    {
     "data": {
      "text/plain": [
       "[<matplotlib.lines.Line2D at 0x1fe495715e0>]"
      ]
     },
     "execution_count": 121,
     "metadata": {},
     "output_type": "execute_result"
    },
    {
     "data": {
      "text/plain": [
       "[<matplotlib.lines.Line2D at 0x1fe49571940>]"
      ]
     },
     "execution_count": 121,
     "metadata": {},
     "output_type": "execute_result"
    },
    {
     "data": {
      "text/plain": [
       "Text(0.5, 1.0, '3 neighbors train score: 0.82 test score: 0.83')"
      ]
     },
     "execution_count": 121,
     "metadata": {},
     "output_type": "execute_result"
    },
    {
     "data": {
      "text/plain": [
       "Text(0.5, 0, 'feature')"
      ]
     },
     "execution_count": 121,
     "metadata": {},
     "output_type": "execute_result"
    },
    {
     "data": {
      "text/plain": [
       "Text(0, 0.5, 'target')"
      ]
     },
     "execution_count": 121,
     "metadata": {},
     "output_type": "execute_result"
    },
    {
     "data": {
      "text/plain": [
       "KNeighborsRegressor(n_neighbors=9)"
      ]
     },
     "execution_count": 121,
     "metadata": {},
     "output_type": "execute_result"
    },
    {
     "data": {
      "text/plain": [
       "[<matplotlib.lines.Line2D at 0x1fe49571b80>]"
      ]
     },
     "execution_count": 121,
     "metadata": {},
     "output_type": "execute_result"
    },
    {
     "data": {
      "text/plain": [
       "[<matplotlib.lines.Line2D at 0x1fe49582040>]"
      ]
     },
     "execution_count": 121,
     "metadata": {},
     "output_type": "execute_result"
    },
    {
     "data": {
      "text/plain": [
       "[<matplotlib.lines.Line2D at 0x1fe49582310>]"
      ]
     },
     "execution_count": 121,
     "metadata": {},
     "output_type": "execute_result"
    },
    {
     "data": {
      "text/plain": [
       "Text(0.5, 1.0, '9 neighbors train score: 0.73 test score: 0.65')"
      ]
     },
     "execution_count": 121,
     "metadata": {},
     "output_type": "execute_result"
    },
    {
     "data": {
      "text/plain": [
       "Text(0.5, 0, 'feature')"
      ]
     },
     "execution_count": 121,
     "metadata": {},
     "output_type": "execute_result"
    },
    {
     "data": {
      "text/plain": [
       "Text(0, 0.5, 'target')"
      ]
     },
     "execution_count": 121,
     "metadata": {},
     "output_type": "execute_result"
    },
    {
     "data": {
      "text/plain": [
       "<matplotlib.legend.Legend at 0x1fe4980a760>"
      ]
     },
     "execution_count": 121,
     "metadata": {},
     "output_type": "execute_result"
    },
    {
     "data": {
      "image/png": "[encoded data removed]",
      "text/plain": [
       "<Figure size 1080x288 with 3 Axes>"
      ]
     },
     "metadata": {
      "needs_background": "light"
     },
     "output_type": "display_data"
    }
   ],
   "source": [
    "fig, axes = plt.subplots(1, 3, figsize=(15,4))\n",
    "line = np.linspace(-3, 3, 1000).reshape(-1,1)\n",
    "\n",
    "for n_neighbors, ax in zip([1, 3, 9], axes):\n",
    "    # predict with 1, 3, 9 neighbors\n",
    "    reg = KNeighborsRegressor(n_neighbors=n_neighbors)\n",
    "    reg.fit(X_train, y_train)\n",
    "    ax.plot(line, reg.predict(line))\n",
    "    ax.plot(X_train, y_train, '^', c=mglearn.cm2(0), markersize=8)\n",
    "    ax.plot(X_test, y_test, 'v', c=mglearn.cm2(1), markersize=8)\n",
    "    \n",
    "    ax.set_title(\"{} neighbors train score: {:.2f} test score: {:.2f}\".format(\n",
    "        n_neighbors, reg.score(X_train, y_train),\n",
    "        reg.score(X_test, y_test)))\n",
    "    ax.set_xlabel(\"feature\")\n",
    "    ax.set_ylabel(\"target\")\n",
    "axes[0].legend([\"prediction\", \"train data/target\",\n",
    "               \"test data/target\"], loc=\"best\")"
   ]
  },
  {
   "cell_type": "markdown",
   "id": "c9f5b26a",
   "metadata": {},
   "source": [
    "일반적으로 KN classifier 에 중요한 parameters 는 2개이다.\n",
    "- 데이터 포인트 사이의 거리를 재는 방법\n",
    "- 이웃의 수\n",
    "\n",
    "실제로 이웃의 수는 3개나 5개 정도로 적을 때 잘 작동하지만, 이 매개변수는 잘 조정해야 한다.\n",
    "\n",
    "거리 재는 방법은 보통 여러 환경에서 잘 동작하는 유클리디안 거리 방식을 사용한다."
   ]
  },
  {
   "cell_type": "markdown",
   "id": "e7555784",
   "metadata": {},
   "source": [
    "### linear model\n",
    "input features 에 따른 선형 함수를 만들어 예측을 수행한다."
   ]
  },
  {
   "cell_type": "code",
   "execution_count": 122,
   "id": "b2d09006",
   "metadata": {},
   "outputs": [
    {
     "name": "stdout",
     "output_type": "stream",
     "text": [
      "w[0]: 0.393906  b: -0.031804\n"
     ]
    },
    {
     "data": {
      "image/png": "[encoded data removed]",
      "text/plain": [
       "<Figure size 576x576 with 1 Axes>"
      ]
     },
     "metadata": {
      "needs_background": "light"
     },
     "output_type": "display_data"
    }
   ],
   "source": [
    "mglearn.plots.plot_linear_regression_wave()"
   ]
  },
  {
   "cell_type": "markdown",
   "id": "e35c3af0",
   "metadata": {},
   "source": [
    "회귀를 위한 선형 모델은 특성이 하나일 땐 직선, 두 개일 땐 평면이 되며, 더 높은 차원(features 가 더 많음) 에서는 초평면 hyperplane이 되는 회귀 모델의 특징을 가지고 있다."
   ]
  },
  {
   "cell_type": "markdown",
   "id": "7ada24c3",
   "metadata": {},
   "source": [
    "선형 회귀linear regression 또는 최소제곱법Ordinary Least Squares은 가장 간단하고 오래된 회귀용 선형 알고리즘이다. 선형 회귀는 예측과 훈련 세트에 있는 target y 사이의 평균제곱오차 mean squared error를 최소화하는 파라미터 w 와 b를 찾는다.\n",
    "\n",
    "MSE는 pred와 target 값의 차이의 제곱해 더한 후 샘플의 개수로 나눈 것이다.\n",
    "\n",
    "(pred^2 + target^2) / N\n",
    "\n",
    "선형 회귀는 매개변수가 없는 것이 장점이다. 하지만 모델의 복잡도를 제어할 방법이 없는 것이 단점이다."
   ]
  },
  {
   "cell_type": "code",
   "execution_count": 123,
   "id": "375d1492",
   "metadata": {},
   "outputs": [],
   "source": [
    "from sklearn.linear_model import LinearRegression\n",
    "X, y = mglearn.datasets.make_wave(n_samples=60)\n",
    "X_train, X_test, y_train, y_test = train_test_split(X, y, random_state=42)\n",
    "\n",
    "lr = LinearRegression().fit(X_train, y_train)"
   ]
  },
  {
   "cell_type": "markdown",
   "id": "2ae9083c",
   "metadata": {},
   "source": [
    "기울기 파라미터 w 는 가중치weight 또는 계수coefficient 라고 하며 lr 객체의 coef_ 속성에 저장되어 있다.\n",
    "\n",
    "편향 offset 또는 절편intercept 파라미터 b 는 intercept_ 속성에 저장되어 있다."
   ]
  },
  {
   "cell_type": "code",
   "execution_count": 124,
   "id": "9be93796",
   "metadata": {},
   "outputs": [
    {
     "name": "stdout",
     "output_type": "stream",
     "text": [
      "[0.39390555]\n"
     ]
    }
   ],
   "source": [
    "print(lr.coef_)"
   ]
  },
  {
   "cell_type": "code",
   "execution_count": 125,
   "id": "b56f4aed",
   "metadata": {},
   "outputs": [
    {
     "name": "stdout",
     "output_type": "stream",
     "text": [
      "-0.031804343026759746\n"
     ]
    }
   ],
   "source": [
    "print(lr.intercept_)"
   ]
  },
  {
   "cell_type": "code",
   "execution_count": 126,
   "id": "60d1cb7b",
   "metadata": {},
   "outputs": [
    {
     "name": "stdout",
     "output_type": "stream",
     "text": [
      "0.6700890315075756\n"
     ]
    }
   ],
   "source": [
    "print(lr.score(X_train, y_train))"
   ]
  },
  {
   "cell_type": "code",
   "execution_count": 127,
   "id": "6776f48e",
   "metadata": {},
   "outputs": [
    {
     "name": "stdout",
     "output_type": "stream",
     "text": [
      "0.65933685968637\n"
     ]
    }
   ],
   "source": [
    "print(lr.score(X_test, y_test))"
   ]
  },
  {
   "cell_type": "markdown",
   "id": "45fedd5f",
   "metadata": {},
   "source": [
    "위는 훈련할 features 가 적어서 underfitting 이 일어났다.\n",
    "\n",
    "아래는 보스턴 주택가격 데이터셋같은 복잡한 데이터셋에서 어떻게 동작하는지 보여준다."
   ]
  },
  {
   "cell_type": "code",
   "execution_count": 128,
   "id": "fb67ba3d",
   "metadata": {
    "scrolled": true
   },
   "outputs": [],
   "source": [
    "X, y = mglearn.datasets.load_extended_boston()"
   ]
  },
  {
   "cell_type": "code",
   "execution_count": 129,
   "id": "da4b1339",
   "metadata": {},
   "outputs": [],
   "source": [
    "X_train, X_test, y_train, y_test = train_test_split(X, y, random_state=0)\n",
    "lr = LinearRegression().fit(X_train, y_train)"
   ]
  },
  {
   "cell_type": "code",
   "execution_count": 130,
   "id": "759aa1fc",
   "metadata": {},
   "outputs": [
    {
     "name": "stdout",
     "output_type": "stream",
     "text": [
      "0.9520519609032726\n"
     ]
    }
   ],
   "source": [
    "print(lr.score(X_train, y_train))"
   ]
  },
  {
   "cell_type": "code",
   "execution_count": 131,
   "id": "e17c99a6",
   "metadata": {},
   "outputs": [
    {
     "name": "stdout",
     "output_type": "stream",
     "text": [
      "0.6074721959665925\n"
     ]
    }
   ],
   "source": [
    "print(lr.score(X_test, y_test))"
   ]
  },
  {
   "cell_type": "markdown",
   "id": "2a380a59",
   "metadata": {},
   "source": [
    "모델이 overfitting 되었다.\n",
    "\n",
    "따라서 복잡도를 제어할 수 있는 모델을 사용해야 한다.\n",
    "\n",
    "기본 선형 회구 방식 대신 가장 널리 쓰이는 모델은 리지 회귀이다."
   ]
  },
  {
   "cell_type": "markdown",
   "id": "c2bcc5bd",
   "metadata": {},
   "source": [
    "### 리지 회귀\n",
    "리지Ridge 도 회귀를 위한 선형 모델이기에 최소적합법에서 사용한 것과 가은 예측 함수를 사용한다. 하지만 리지 회귀에서의 가중치 w 선택은 훈련 데이터를 잘 예측하기 위해서 뿐만 아니라 추가 제약 조건을 만족시키기 위한 목적도 있다. \n",
    "\n",
    "가중치의 절댓값을 가능한 작게 만드는 것이다. 다시 말해 w의 모든 원소가 0에 가깝게 되길 원한다.\n",
    "\n",
    "직관적으로 생각하면 이는 모든 특성이 출력에 주는 영향을 최소한으로 만든다(기울기를 작게 만든다).\n",
    "\n",
    "이런 제약을 규제regularization 라고 한다. regularization은 overfitting 되지 않도록 모델을 강제로 제한하는 것이다. \n",
    "\n",
    "ridge regression에 사용하는 regularization 방식을 L2 regularization 이라고 한다."
   ]
  },
  {
   "cell_type": "code",
   "execution_count": 132,
   "id": "6f114374",
   "metadata": {},
   "outputs": [],
   "source": [
    "from sklearn.linear_model import Ridge"
   ]
  },
  {
   "cell_type": "code",
   "execution_count": 133,
   "id": "786b370f",
   "metadata": {},
   "outputs": [],
   "source": [
    "ridge = Ridge().fit(X_train, y_train)"
   ]
  },
  {
   "cell_type": "code",
   "execution_count": 134,
   "id": "e89b66bf",
   "metadata": {},
   "outputs": [
    {
     "name": "stdout",
     "output_type": "stream",
     "text": [
      "0.8857966585170941\n"
     ]
    }
   ],
   "source": [
    "print(ridge.score(X_train, y_train))"
   ]
  },
  {
   "cell_type": "code",
   "execution_count": 135,
   "id": "a2cb5e47",
   "metadata": {},
   "outputs": [
    {
     "name": "stdout",
     "output_type": "stream",
     "text": [
      "0.7527683481744751\n"
     ]
    }
   ],
   "source": [
    "print(ridge.score(X_test, y_test))"
   ]
  },
  {
   "cell_type": "markdown",
   "id": "0fcc4c96",
   "metadata": {},
   "source": [
    "ridge 는 모델을 단순하게(계수를 0에 가깝게) 해주고 train set 에 대한 성능 사이를 절충하는 법을 제공한다.\n",
    "\n",
    "사용자는 alpha 매개변수로 훈련 셋의 성능 대비 모델을 얼마나 단순화할지를 지정할 수 있다.\n",
    "\n",
    "위에선 default 값인 alpha=1 을 사용했다.\n",
    "\n",
    "최적의 alpha 값은 사용하는 데이터셋마다 다르므로 잘 찾아야 한다.\n",
    "\n",
    "alpha 값을 높이면 계수를 0에 더 가깝게 만들어서 훈련 셋의 성능은 나빠지지만 일반화에 도움을 줄 수 있다."
   ]
  },
  {
   "cell_type": "code",
   "execution_count": 136,
   "id": "f3f079d4",
   "metadata": {},
   "outputs": [
    {
     "name": "stdout",
     "output_type": "stream",
     "text": [
      "0.7882787115369615\n",
      "0.6359411489177312\n"
     ]
    }
   ],
   "source": [
    "ridge10 = Ridge(alpha=10).fit(X_train, y_train)\n",
    "print(ridge10.score(X_train, y_train))\n",
    "print(ridge10.score(X_test, y_test))"
   ]
  },
  {
   "cell_type": "code",
   "execution_count": 137,
   "id": "f1e3f509",
   "metadata": {},
   "outputs": [
    {
     "name": "stdout",
     "output_type": "stream",
     "text": [
      "0.9282273685001989\n",
      "0.7722067936479737\n"
     ]
    }
   ],
   "source": [
    "ridge01 = Ridge(alpha=0.1).fit(X_train, y_train)\n",
    "print(ridge01.score(X_train, y_train))\n",
    "print(ridge01.score(X_test, y_test))"
   ]
  },
  {
   "cell_type": "code",
   "execution_count": 138,
   "id": "dd88dad4",
   "metadata": {},
   "outputs": [
    {
     "data": {
      "text/plain": [
       "[<matplotlib.lines.Line2D at 0x1fe499e56d0>]"
      ]
     },
     "execution_count": 138,
     "metadata": {},
     "output_type": "execute_result"
    },
    {
     "data": {
      "text/plain": [
       "[<matplotlib.lines.Line2D at 0x1fe499e5b20>]"
      ]
     },
     "execution_count": 138,
     "metadata": {},
     "output_type": "execute_result"
    },
    {
     "data": {
      "text/plain": [
       "[<matplotlib.lines.Line2D at 0x1fe499e5e80>]"
      ]
     },
     "execution_count": 138,
     "metadata": {},
     "output_type": "execute_result"
    },
    {
     "data": {
      "text/plain": [
       "<matplotlib.legend.Legend at 0x1fe499e5df0>"
      ]
     },
     "execution_count": 138,
     "metadata": {},
     "output_type": "execute_result"
    },
    {
     "data": {
      "image/png": "[encoded data removed]",
      "text/plain": [
       "<Figure size 432x288 with 1 Axes>"
      ]
     },
     "metadata": {
      "needs_background": "light"
     },
     "output_type": "display_data"
    }
   ],
   "source": [
    "plt.plot(ridge10.coef_, '^', label=\"Ridge alpha=10\")\n",
    "plt.plot(ridge.coef_, 's', label=\"Ridge alpha=1\")\n",
    "plt.plot(ridge01.coef_, 'v', label=\"Ridge alpha=0.1\")\n",
    "plt.legend()"
   ]
  },
  {
   "cell_type": "markdown",
   "id": "5dda5cbb",
   "metadata": {},
   "source": [
    "alpha 값이 커질수록 일반화가 잘 되었고, alpha 값이 작아질 수록 일반화가 잘 되지 않는다. 일반선형회귀는 alpha 값이 0이다.\n",
    "\n",
    "아래는 데이터셋의 크기에 따른 모델의 성능 변화를 나타낸 그래프, 학습곡선 learning curve이다."
   ]
  },
  {
   "cell_type": "code",
   "execution_count": 139,
   "id": "eb7fd2e2",
   "metadata": {},
   "outputs": [
    {
     "data": {
      "image/png": "[encoded data removed]",
      "text/plain": [
       "<Figure size 432x288 with 1 Axes>"
      ]
     },
     "metadata": {
      "needs_background": "light"
     },
     "output_type": "display_data"
    }
   ],
   "source": [
    "mglearn.plots.plot_ridge_n_samples()"
   ]
  },
  {
   "cell_type": "code",
   "execution_count": 140,
   "id": "d7b478c6",
   "metadata": {},
   "outputs": [],
   "source": [
    "# learning curve of ridge and linear for boston housing price datasets"
   ]
  },
  {
   "cell_type": "code",
   "execution_count": 141,
   "id": "50403705",
   "metadata": {},
   "outputs": [],
   "source": [
    "# important thing\n",
    "# if there is many datas, no more efficiency from regularizations"
   ]
  },
  {
   "cell_type": "markdown",
   "id": "188721e7",
   "metadata": {},
   "source": [
    "### 라소 Lasso\n",
    "ridge 회귀에서와 같이 lasso 도 계수를 0에 가깝게 만드려고 한다. 하지만 방식이 조금 다르다. 이를 L1 regularization 이라 한다. \n",
    "\n",
    "L1 규제의 결과로 lasso 를 사용할 때 어떤 계수는 정말 0이 된다. 즉, 모델에서 완전히 제외되는 특성이 생긴다는 것이다. 어찌보면 특성 선택 feature selection이 자동으로 이워진다고 볼 수 있다. 일부 계수를 0으로 만들면 모델을 이해하기 쉬워지고 이 모델의 가장 중요한 특성이 무엇인지 드러내준다.\n",
    "\n",
    "아래는 확장된 보스턴 주택가격 데이터셋에 라소를 적용한 것이다."
   ]
  },
  {
   "cell_type": "code",
   "execution_count": 142,
   "id": "0cc1d411",
   "metadata": {},
   "outputs": [
    {
     "name": "stdout",
     "output_type": "stream",
     "text": [
      "train set acc\n",
      "0.29323768991114596\n"
     ]
    }
   ],
   "source": [
    "from sklearn.linear_model import Lasso\n",
    "\n",
    "lasso = Lasso().fit(X_train,y_train)\n",
    "print(\"train set acc\")\n",
    "print(lasso.score(X_train,y_train))"
   ]
  },
  {
   "cell_type": "code",
   "execution_count": 143,
   "id": "0c5edb00",
   "metadata": {},
   "outputs": [
    {
     "name": "stdout",
     "output_type": "stream",
     "text": [
      "test set acc\n",
      "0.20937503255272272\n"
     ]
    }
   ],
   "source": [
    "print(\"test set acc\")\n",
    "print(lasso.score(X_test, y_test))"
   ]
  },
  {
   "cell_type": "code",
   "execution_count": 144,
   "id": "1536cfe3",
   "metadata": {},
   "outputs": [
    {
     "name": "stdout",
     "output_type": "stream",
     "text": [
      "used features are\n",
      "4\n"
     ]
    }
   ],
   "source": [
    "print(\"used features are\")\n",
    "print(np.sum(lasso.coef_ != 0))"
   ]
  },
  {
   "cell_type": "markdown",
   "id": "37630732",
   "metadata": {},
   "source": [
    "lasso는 train set test set 모두 결과가 좋지 않다. 이는 underfitting 이다.\n",
    "104개의 특성 중 4개만 사용한 것을 볼 수 있다.\n",
    "\n",
    "ridge와 마찬가지로 lasso도 계수를 얼마나 강하게 0으로 보낼지 조절하는 alpha 매개변수를 지원한다.\n",
    "\n",
    "underfitting 을 줄이기 위해 alpha 값을 줄여보겠다. 이렇게 한다면 max_iter(반복 실행 최대 횟수)의 기본값을 늘려야 한다."
   ]
  },
  {
   "cell_type": "code",
   "execution_count": 145,
   "id": "14315638",
   "metadata": {},
   "outputs": [
    {
     "name": "stdout",
     "output_type": "stream",
     "text": [
      "0.8962226511086497\n"
     ]
    }
   ],
   "source": [
    "lasso001 = Lasso(alpha=0.01, max_iter=100000).fit(X_train, y_train)\n",
    "print(lasso001.score(X_train, y_train))"
   ]
  },
  {
   "cell_type": "code",
   "execution_count": 146,
   "id": "b5fb3f53",
   "metadata": {},
   "outputs": [
    {
     "name": "stdout",
     "output_type": "stream",
     "text": [
      "0.7656571174549981\n"
     ]
    }
   ],
   "source": [
    "print(lasso001.score(X_test, y_test))"
   ]
  },
  {
   "cell_type": "code",
   "execution_count": 147,
   "id": "62a0dc01",
   "metadata": {},
   "outputs": [
    {
     "name": "stdout",
     "output_type": "stream",
     "text": [
      "33\n"
     ]
    }
   ],
   "source": [
    "print(np.sum(lasso001.coef_ != 0))"
   ]
  },
  {
   "cell_type": "markdown",
   "id": "5c4412a8",
   "metadata": {},
   "source": [
    "alpha 값을 낮추면 모델의 복잡도가 증가해 성능이 증가하낟.\n",
    "\n",
    "ridge 보다 성능은 잘 나왔으며, 특성이 33개 뿐이라 모델을 분석하기 쉽다.\n",
    "\n",
    "alpha 값을 너무 낮추면 regularization 효과가 없어져 overfitting 되므로 linear regression 결과와 비슷해진다."
   ]
  },
  {
   "cell_type": "code",
   "execution_count": 148,
   "id": "74eb39ec",
   "metadata": {},
   "outputs": [
    {
     "name": "stdout",
     "output_type": "stream",
     "text": [
      "0.9515087977585442\n"
     ]
    },
    {
     "name": "stderr",
     "output_type": "stream",
     "text": [
      "C:\\Users\\NCS\\anaconda3\\envs\\py\\lib\\site-packages\\sklearn\\linear_model\\_coordinate_descent.py:530: ConvergenceWarning: Objective did not converge. You might want to increase the number of iterations. Duality gap: 49.58139715486732, tolerance: 3.233182126649077\n",
      "  model = cd_fast.enet_coordinate_descent(\n"
     ]
    }
   ],
   "source": [
    "lasso00001 = Lasso(alpha=0.00001, max_iter=100000).fit(X_train, y_train)\n",
    "print(lasso00001.score(X_train, y_train))"
   ]
  },
  {
   "cell_type": "code",
   "execution_count": 149,
   "id": "54e72c81",
   "metadata": {},
   "outputs": [
    {
     "name": "stdout",
     "output_type": "stream",
     "text": [
      "0.6193582257351486\n"
     ]
    }
   ],
   "source": [
    "print(lasso00001.score(X_test, y_test))"
   ]
  },
  {
   "cell_type": "code",
   "execution_count": 150,
   "id": "3ddd074a",
   "metadata": {},
   "outputs": [
    {
     "name": "stdout",
     "output_type": "stream",
     "text": [
      "103\n"
     ]
    }
   ],
   "source": [
    "print(np.sum(lasso00001.coef_ != 0))"
   ]
  },
  {
   "cell_type": "code",
   "execution_count": 151,
   "id": "7d539f45",
   "metadata": {},
   "outputs": [
    {
     "name": "stdout",
     "output_type": "stream",
     "text": [
      "plotting coefficient for each lasso models\n"
     ]
    },
    {
     "data": {
      "text/plain": [
       "[<matplotlib.lines.Line2D at 0x1fe49b28d60>]"
      ]
     },
     "execution_count": 151,
     "metadata": {},
     "output_type": "execute_result"
    },
    {
     "data": {
      "text/plain": [
       "[<matplotlib.lines.Line2D at 0x1fe49b28fa0>]"
      ]
     },
     "execution_count": 151,
     "metadata": {},
     "output_type": "execute_result"
    },
    {
     "data": {
      "text/plain": [
       "[<matplotlib.lines.Line2D at 0x1fe49b0d4c0>]"
      ]
     },
     "execution_count": 151,
     "metadata": {},
     "output_type": "execute_result"
    },
    {
     "data": {
      "text/plain": [
       "[<matplotlib.lines.Line2D at 0x1fe49b0d6d0>]"
      ]
     },
     "execution_count": 151,
     "metadata": {},
     "output_type": "execute_result"
    },
    {
     "data": {
      "image/png": "[encoded data removed]",
      "text/plain": [
       "<Figure size 432x288 with 1 Axes>"
      ]
     },
     "metadata": {
      "needs_background": "light"
     },
     "output_type": "display_data"
    }
   ],
   "source": [
    "print(\"plotting coefficient for each lasso models\")\n",
    "plt.plot(lasso.coef_, 's', label=\"Lasso alpha=1\")\n",
    "plt.plot(lasso001.coef_, '^', label=\"Lasso alpha=0.001\")\n",
    "plt.plot(lasso00001.coef_, 'v', label=\"Lasso alpha=0.00001\")\n",
    "plt.plot(ridge01.coef_, 'o', label=\"Ridge alpha=0.1\")"
   ]
  },
  {
   "cell_type": "markdown",
   "id": "54bfa08d",
   "metadata": {},
   "source": [
    "alpha=0.1 Ridge model은 alpha=0.01 Lasso model 과 성능이 비슷하지만 Ridge를 사용하면 어떤 계수도 0이 되지 않는다.\n",
    "\n",
    "실제로 이 두 모델 중 Ridge model을 더 선호한다.\n",
    "\n",
    "하지만 특성이 많고 그 중 이부분만 중요하다면 Lasso 가 더 좋은 선택일 수 있다.\n",
    "\n",
    "sklearn은 L1, L2 를 결합한 ElasticNet 도 제공한다. "
   ]
  },
  {
   "cell_type": "markdown",
   "id": "8cf4335e",
   "metadata": {},
   "source": [
    "### 분류용 선형 모델\n",
    "#### 이진 분류 binary classification\n",
    "회귀용 선형 모델에서는 출력 y^이 특성의 선형 함수였다. 즉 직선, 평면, 초평면이다.\n",
    "분류용 선형 모델에서 입력의 선형 함수는 결정 경계를 나타낸다.\n",
    "\n",
    "다른 말로하면 이진 선형 분류기는 선, 평면, 초평면을 사용해서 두 개의 클래스를 구분하는 분류기이다.\n",
    "\n",
    "선형 모델을 학습시키는 알고리즘을 다양하다. 아래는 분류 기준이다.\n",
    "- 특정 계수와 절편의 조합이 훈련 데이터에 얼마나 잘 맞는지 측정하는 방법\n",
    "- 사용할 수 있는 규제가 있는지, 있다면 어떤 방식인지\n"
   ]
  },
  {
   "cell_type": "markdown",
   "id": "25e8de16",
   "metadata": {},
   "source": [
    "가장 널리 알려진 두 개의 선형 분유 알고리즘은 linear_model.LogisticRegression에 구현된 logistic regression과 svm.LinearSVC (Support Vector Classifier) 에 구현된 suport vector machine 이다. \n",
    "\n",
    "LogisticRegression은 이름에 Regression이 들어가지만 회귀 알고리즘이 아니라 분류 알고리즘이므로 LinearRegression과 혼동하면 안 된다.\n",
    "\n",
    "아래는 forge datasets을 이용한 LogisticRegression과 LinearSVC 모델이다."
   ]
  },
  {
   "cell_type": "code",
   "execution_count": 152,
   "id": "9a541897",
   "metadata": {},
   "outputs": [],
   "source": [
    "from sklearn.linear_model import LogisticRegression\n",
    "from sklearn.svm import LinearSVC"
   ]
  },
  {
   "cell_type": "code",
   "execution_count": 153,
   "id": "6d504e71",
   "metadata": {},
   "outputs": [
    {
     "name": "stderr",
     "output_type": "stream",
     "text": [
      "C:\\Users\\NCS\\anaconda3\\envs\\py\\lib\\site-packages\\sklearn\\utils\\deprecation.py:86: FutureWarning: Function make_blobs is deprecated; Please import make_blobs directly from scikit-learn\n",
      "  warnings.warn(msg, category=FutureWarning)\n"
     ]
    },
    {
     "data": {
      "text/plain": [
       "[<matplotlib.lines.Line2D at 0x1fe49bba8b0>,\n",
       " <matplotlib.lines.Line2D at 0x1fe49bbabe0>]"
      ]
     },
     "execution_count": 153,
     "metadata": {},
     "output_type": "execute_result"
    },
    {
     "data": {
      "text/plain": [
       "Text(0.5, 1.0, 'LinearSVC')"
      ]
     },
     "execution_count": 153,
     "metadata": {},
     "output_type": "execute_result"
    },
    {
     "data": {
      "text/plain": [
       "[<matplotlib.lines.Line2D at 0x1fe49bc8550>,\n",
       " <matplotlib.lines.Line2D at 0x1fe49bc8a30>]"
      ]
     },
     "execution_count": 153,
     "metadata": {},
     "output_type": "execute_result"
    },
    {
     "data": {
      "text/plain": [
       "Text(0.5, 1.0, 'LogisticRegression')"
      ]
     },
     "execution_count": 153,
     "metadata": {},
     "output_type": "execute_result"
    },
    {
     "data": {
      "text/plain": [
       "<matplotlib.legend.Legend at 0x1fe49bba400>"
      ]
     },
     "execution_count": 153,
     "metadata": {},
     "output_type": "execute_result"
    },
    {
     "data": {
      "image/png": "[encoded data removed]",
      "text/plain": [
       "<Figure size 720x216 with 2 Axes>"
      ]
     },
     "metadata": {},
     "output_type": "display_data"
    }
   ],
   "source": [
    "X, y = mglearn.datasets.make_forge()\n",
    "fig, axes = plt.subplots(1, 2, figsize=(10,3))\n",
    "\n",
    "for model, ax in zip([LinearSVC(max_iter=5000), LogisticRegression()], axes):\n",
    "    clf = model.fit(X, y)\n",
    "    mglearn.plots.plot_2d_separator(clf, X, fill=False, eps=0.5,\n",
    "                                   ax=ax, alpha=0.7)\n",
    "    mglearn.discrete_scatter(X[:,0], X[:,1], y, ax=ax)\n",
    "    ax.set_title(clf.__class__.__name__)\n",
    "axes[0].legend()"
   ]
  },
  {
   "cell_type": "markdown",
   "id": "3992b680",
   "metadata": {},
   "source": [
    "LogisticRegession과 LinearSVC에서 규제의 강도를 결정하는 매개변수는 C이다. C의 값이 높아지면 규제가 감소한다.\n",
    "\n",
    "높은 C 값을 설정하면 이들은 훈련 셋에 가능한 최대로 맞추려 하고, 반면에 C 값을 낮추면 모델은 계수 벡터 w 가 0에 가까워지도록 만든다.\n",
    "\n",
    "C의 작동 방식을 다르게 설명할 수도 있다.\n",
    "\n",
    "C의 값이 낮아지면 데이터 포인트 중 다수에 맞추려고 하는 반면, C의 값을 높이면 개개의 데이터 포인트를 정확히 분류하려고 노력할 것이다."
   ]
  },
  {
   "cell_type": "code",
   "execution_count": 154,
   "id": "fc5884d4",
   "metadata": {},
   "outputs": [
    {
     "data": {
      "image/png": "[encoded data removed]",
      "text/plain": [
       "<Figure size 864x288 with 3 Axes>"
      ]
     },
     "metadata": {},
     "output_type": "display_data"
    }
   ],
   "source": [
    "mglearn.plots.plot_linear_svc_regularization()"
   ]
  },
  {
   "cell_type": "markdown",
   "id": "ec8ee7ee",
   "metadata": {},
   "source": [
    "오른쪽 모델은 overfitting 되었다."
   ]
  },
  {
   "cell_type": "markdown",
   "id": "99bc6b38",
   "metadata": {},
   "source": [
    "유방암 데이터셋을 사용해서 LogisticRegression을 좀더 자세히 보겠다."
   ]
  },
  {
   "cell_type": "code",
   "execution_count": 155,
   "id": "410edb33",
   "metadata": {},
   "outputs": [],
   "source": [
    "from sklearn.datasets import load_breast_cancer"
   ]
  },
  {
   "cell_type": "code",
   "execution_count": 156,
   "id": "2fbada62",
   "metadata": {},
   "outputs": [
    {
     "name": "stdout",
     "output_type": "stream",
     "text": [
      "train set\n",
      "0.9577464788732394\n",
      "test set\n",
      "0.958041958041958\n"
     ]
    }
   ],
   "source": [
    "cancer = load_breast_cancer()\n",
    "X_train, X_test, y_train,y_test = train_test_split(\n",
    "    cancer.data, cancer.target, stratify=cancer.target, random_state=42)\n",
    "\n",
    "# C=1 default\n",
    "logreg = LogisticRegression(max_iter=5000).fit(X_train,y_train)\n",
    "print(\"train set\")\n",
    "print(logreg.score(X_train,y_train))\n",
    "print(\"test set\")\n",
    "print(logreg.score(X_test, y_test))"
   ]
  },
  {
   "cell_type": "code",
   "execution_count": 157,
   "id": "f74a0435",
   "metadata": {},
   "outputs": [
    {
     "name": "stdout",
     "output_type": "stream",
     "text": [
      "0.9788732394366197\n",
      "0.965034965034965\n"
     ]
    }
   ],
   "source": [
    "logreg100  = LogisticRegression(C=100, max_iter=5000).fit(X_train,y_train)\n",
    "print(logreg100.score(X_train, y_train))\n",
    "print(logreg100.score(X_test, y_test))"
   ]
  },
  {
   "cell_type": "markdown",
   "id": "9cf9abfc",
   "metadata": {},
   "source": [
    "C=100을 사용하니 전체적인 정확도가 높아졌다. 이는 복잡도가 높은 모델일수록 서능이 좋음을 말해준다.\n",
    "\n",
    "아래는 C=0.01을 사용한 결과이다."
   ]
  },
  {
   "cell_type": "code",
   "execution_count": 158,
   "id": "df9fa13a",
   "metadata": {},
   "outputs": [
    {
     "name": "stdout",
     "output_type": "stream",
     "text": [
      "train set\n",
      "0.9530516431924883\n",
      "test set\n",
      "0.951048951048951\n"
     ]
    }
   ],
   "source": [
    "logreg001 = LogisticRegression(C=0.01, max_iter=5000).fit(X_train,y_train)\n",
    "print(\"train set\")\n",
    "print(logreg001.score(X_train, y_train))\n",
    "print(\"test set\")\n",
    "print(logreg001.score(X_test, y_test))"
   ]
  },
  {
   "cell_type": "markdown",
   "id": "38c80958",
   "metadata": {},
   "source": [
    "이미 underfitting 된 모델에서 더 규제를 가했으므로정확도가 더욱 감소한다."
   ]
  },
  {
   "cell_type": "code",
   "execution_count": 159,
   "id": "7221fb6e",
   "metadata": {},
   "outputs": [
    {
     "data": {
      "text/plain": [
       "[<matplotlib.lines.Line2D at 0x1fe49cc29d0>]"
      ]
     },
     "execution_count": 159,
     "metadata": {},
     "output_type": "execute_result"
    },
    {
     "data": {
      "text/plain": [
       "[<matplotlib.lines.Line2D at 0x1fe49cc2b20>]"
      ]
     },
     "execution_count": 159,
     "metadata": {},
     "output_type": "execute_result"
    },
    {
     "data": {
      "text/plain": [
       "[<matplotlib.lines.Line2D at 0x1fe49cc2e80>]"
      ]
     },
     "execution_count": 159,
     "metadata": {},
     "output_type": "execute_result"
    },
    {
     "data": {
      "text/plain": [
       "([<matplotlib.axis.XTick at 0x1fe49ca6760>,\n",
       "  <matplotlib.axis.XTick at 0x1fe49ca6100>,\n",
       "  <matplotlib.axis.XTick at 0x1fe49c9c040>,\n",
       "  <matplotlib.axis.XTick at 0x1fe49cd25b0>,\n",
       "  <matplotlib.axis.XTick at 0x1fe49cd2ac0>,\n",
       "  <matplotlib.axis.XTick at 0x1fe49cd2fd0>,\n",
       "  <matplotlib.axis.XTick at 0x1fe49cda520>,\n",
       "  <matplotlib.axis.XTick at 0x1fe49cd2610>,\n",
       "  <matplotlib.axis.XTick at 0x1fe49cda880>,\n",
       "  <matplotlib.axis.XTick at 0x1fe49cdad90>,\n",
       "  <matplotlib.axis.XTick at 0x1fe49ce02e0>,\n",
       "  <matplotlib.axis.XTick at 0x1fe49ce07f0>,\n",
       "  <matplotlib.axis.XTick at 0x1fe49ce0d00>,\n",
       "  <matplotlib.axis.XTick at 0x1fe49ce6250>,\n",
       "  <matplotlib.axis.XTick at 0x1fe49ce6760>,\n",
       "  <matplotlib.axis.XTick at 0x1fe49ce6c70>,\n",
       "  <matplotlib.axis.XTick at 0x1fe49ce04c0>,\n",
       "  <matplotlib.axis.XTick at 0x1fe49cda850>,\n",
       "  <matplotlib.axis.XTick at 0x1fe49ce6370>,\n",
       "  <matplotlib.axis.XTick at 0x1fe49cee370>,\n",
       "  <matplotlib.axis.XTick at 0x1fe49cee880>,\n",
       "  <matplotlib.axis.XTick at 0x1fe49ceed90>,\n",
       "  <matplotlib.axis.XTick at 0x1fe49cf42e0>,\n",
       "  <matplotlib.axis.XTick at 0x1fe49cf47f0>,\n",
       "  <matplotlib.axis.XTick at 0x1fe49cf4d00>,\n",
       "  <matplotlib.axis.XTick at 0x1fe49cf4520>,\n",
       "  <matplotlib.axis.XTick at 0x1fe49cee5b0>,\n",
       "  <matplotlib.axis.XTick at 0x1fe49cdaeb0>,\n",
       "  <matplotlib.axis.XTick at 0x1fe49cfb400>,\n",
       "  <matplotlib.axis.XTick at 0x1fe49cfb910>],\n",
       " [Text(0, 0, 'mean radius'),\n",
       "  Text(1, 0, 'mean texture'),\n",
       "  Text(2, 0, 'mean perimeter'),\n",
       "  Text(3, 0, 'mean area'),\n",
       "  Text(4, 0, 'mean smoothness'),\n",
       "  Text(5, 0, 'mean compactness'),\n",
       "  Text(6, 0, 'mean concavity'),\n",
       "  Text(7, 0, 'mean concave points'),\n",
       "  Text(8, 0, 'mean symmetry'),\n",
       "  Text(9, 0, 'mean fractal dimension'),\n",
       "  Text(10, 0, 'radius error'),\n",
       "  Text(11, 0, 'texture error'),\n",
       "  Text(12, 0, 'perimeter error'),\n",
       "  Text(13, 0, 'area error'),\n",
       "  Text(14, 0, 'smoothness error'),\n",
       "  Text(15, 0, 'compactness error'),\n",
       "  Text(16, 0, 'concavity error'),\n",
       "  Text(17, 0, 'concave points error'),\n",
       "  Text(18, 0, 'symmetry error'),\n",
       "  Text(19, 0, 'fractal dimension error'),\n",
       "  Text(20, 0, 'worst radius'),\n",
       "  Text(21, 0, 'worst texture'),\n",
       "  Text(22, 0, 'worst perimeter'),\n",
       "  Text(23, 0, 'worst area'),\n",
       "  Text(24, 0, 'worst smoothness'),\n",
       "  Text(25, 0, 'worst compactness'),\n",
       "  Text(26, 0, 'worst concavity'),\n",
       "  Text(27, 0, 'worst concave points'),\n",
       "  Text(28, 0, 'worst symmetry'),\n",
       "  Text(29, 0, 'worst fractal dimension')])"
      ]
     },
     "execution_count": 159,
     "metadata": {},
     "output_type": "execute_result"
    },
    {
     "data": {
      "text/plain": [
       "<matplotlib.collections.LineCollection at 0x1fe49cfbf40>"
      ]
     },
     "execution_count": 159,
     "metadata": {},
     "output_type": "execute_result"
    },
    {
     "data": {
      "text/plain": [
       "<matplotlib.legend.Legend at 0x1fe49ca63a0>"
      ]
     },
     "execution_count": 159,
     "metadata": {},
     "output_type": "execute_result"
    },
    {
     "data": {
      "image/png": "[encoded data removed]",
      "text/plain": [
       "<Figure size 432x288 with 1 Axes>"
      ]
     },
     "metadata": {
      "needs_background": "light"
     },
     "output_type": "display_data"
    }
   ],
   "source": [
    "plt.plot(logreg100.coef_.T, '^', label=\"C=100\")\n",
    "plt.plot(logreg.coef_.T, 'o', label=\"C=1\")\n",
    "plt.plot(logreg001.coef_.T, 'v', label=\"C=0.01\")\n",
    "plt.xticks(range(cancer.data.shape[1]), cancer.feature_names, rotation=90)\n",
    "xlims = plt.xlim()\n",
    "plt.hlines(0, xlims[0], xlims[1])\n",
    "plt.legend()"
   ]
  },
  {
   "cell_type": "markdown",
   "id": "ae114d31",
   "metadata": {},
   "source": [
    "이해하기 쉬운 모델을 원한다면 비록 모델이 몇 개의 특성만 사용하게 되겠지만 L1 규제를 사용하는 것이 좋다."
   ]
  },
  {
   "cell_type": "code",
   "execution_count": 160,
   "id": "c75cac1b",
   "metadata": {
    "scrolled": true
   },
   "outputs": [
    {
     "name": "stdout",
     "output_type": "stream",
     "text": [
      "train\n",
      "0.001 0.9131455399061033\n",
      "test\n",
      "0.001 0.9230769230769231\n"
     ]
    },
    {
     "data": {
      "text/plain": [
       "[<matplotlib.lines.Line2D at 0x1fe49d67280>]"
      ]
     },
     "execution_count": 160,
     "metadata": {},
     "output_type": "execute_result"
    },
    {
     "name": "stdout",
     "output_type": "stream",
     "text": [
      "train\n",
      "1 0.960093896713615\n",
      "test\n",
      "1 0.958041958041958\n"
     ]
    },
    {
     "data": {
      "text/plain": [
       "[<matplotlib.lines.Line2D at 0x1fe49d67760>]"
      ]
     },
     "execution_count": 160,
     "metadata": {},
     "output_type": "execute_result"
    },
    {
     "name": "stdout",
     "output_type": "stream",
     "text": [
      "train\n",
      "100 0.9859154929577465\n",
      "test\n",
      "100 0.9790209790209791\n"
     ]
    },
    {
     "data": {
      "text/plain": [
       "[<matplotlib.lines.Line2D at 0x1fe49d67df0>]"
      ]
     },
     "execution_count": 160,
     "metadata": {},
     "output_type": "execute_result"
    },
    {
     "data": {
      "image/png": "[encoded data removed]",
      "text/plain": [
       "<Figure size 432x288 with 1 Axes>"
      ]
     },
     "metadata": {
      "needs_background": "light"
     },
     "output_type": "display_data"
    }
   ],
   "source": [
    "for C, marker in zip([0.001, 1, 100], ['o', '^', 'v']):\n",
    "    lr_l1 = LogisticRegression(solver='liblinear', C=C, penalty=\"l1\", max_iter=1000).fit(X_train,y_train)\n",
    "    print(\"train\")\n",
    "    print(C, lr_l1.score(X_train,y_train))\n",
    "    print(\"test\")\n",
    "    print(C, lr_l1.score(X_test, y_test))\n",
    "    plt.plot(lr_l1.coef_.T, marker, label=str(C))"
   ]
  },
  {
   "cell_type": "markdown",
   "id": "b366b83b",
   "metadata": {},
   "source": [
    "이진 분류에서의 선형 모델과 회귀에서의 선형 모델 사이에는 유사점이 많다.\n",
    "\n"
   ]
  },
  {
   "cell_type": "markdown",
   "id": "f380364f",
   "metadata": {},
   "source": [
    "로지스틱 회귀를 제외하고 많은 선형 분류 모델은 태생적으로 이진 분류만을 지원한다. 즉 다중 클래스multiclass 를 지원하지 않는다.\n",
    "\n",
    "이진 분류 알고리즘을 다중 클래스 분류 알고리즘으로 확장하는 보편적인 기법은 일대다one-vs.-rest 방법이다. 일대다 방식은 각 클래스를 다른 모든 클래스와 구분하도록 이진 분류 모델을 학습시킨다. 예측할 때는 이렇게 만들어진 모든 이진 분류기가 작동해 가장 노은 점수를 내는 분류기의 클래스를 예측값으로 선택한다."
   ]
  },
  {
   "cell_type": "markdown",
   "id": "277ca6ce",
   "metadata": {},
   "source": [
    "다중 클래스 로지스틱 회귀 이면의 수학은 일대다 방식과 다르다. 하지만 여기서도 클래스마다 하나의 계수 벡터와 절편을 만들고, 예측 방법도 같다.\n",
    "\n",
    "세 개의 클래스를 가진 간단한 데이터셋에 일대다 방식을 적용해 볼 ㄳ이다.\n",
    "\n",
    "이 데이터셋은 2차원이며 각 클래스의 데이터는 정규분포(Gaussian distribution)을 따른다."
   ]
  },
  {
   "cell_type": "code",
   "execution_count": 161,
   "id": "fa6b8c60",
   "metadata": {},
   "outputs": [
    {
     "data": {
      "text/plain": [
       "[<matplotlib.lines.Line2D at 0x1fe4676da90>,\n",
       " <matplotlib.lines.Line2D at 0x1fe495c8340>,\n",
       " <matplotlib.lines.Line2D at 0x1fe49956700>]"
      ]
     },
     "execution_count": 161,
     "metadata": {},
     "output_type": "execute_result"
    },
    {
     "data": {
      "text/plain": [
       "<matplotlib.legend.Legend at 0x1fe49ce6d00>"
      ]
     },
     "execution_count": 161,
     "metadata": {},
     "output_type": "execute_result"
    },
    {
     "data": {
      "image/png": "[encoded data removed]",
      "text/plain": [
       "<Figure size 432x288 with 1 Axes>"
      ]
     },
     "metadata": {
      "needs_background": "light"
     },
     "output_type": "display_data"
    }
   ],
   "source": [
    "from sklearn.datasets import make_blobs\n",
    "\n",
    "X, y = make_blobs(random_state=42)\n",
    "mglearn.discrete_scatter(X[:,0], X[:,1], y)\n",
    "plt.legend([\"clss 0\", \"class 1\", \"class 2\"])"
   ]
  },
  {
   "cell_type": "code",
   "execution_count": 162,
   "id": "9d5cdc2b",
   "metadata": {},
   "outputs": [],
   "source": [
    "# we will train LinearSVC clssifier by this datasets"
   ]
  },
  {
   "cell_type": "code",
   "execution_count": 163,
   "id": "b56289ed",
   "metadata": {},
   "outputs": [
    {
     "name": "stdout",
     "output_type": "stream",
     "text": [
      "(3, 2)\n",
      "(3,)\n"
     ]
    }
   ],
   "source": [
    "linear_svm = LinearSVC().fit(X, y)\n",
    "print(linear_svm.coef_.shape)\n",
    "print(linear_svm.intercept_.shape)"
   ]
  },
  {
   "cell_type": "markdown",
   "id": "acfc6be7",
   "metadata": {},
   "source": [
    "coef_ 배열 크기는 (3,2). coef_ 의 rows는 세 개의 클래스에 각각 대응하는 coef vector를 담고 있으며, cols은 각 특성에 따른 intercept 값(이 데이터셋은 두 개)을 가지고 있다.\n",
    "\n",
    "intercept_는 각 클래스의 절편은 담은 1차원 벡터이다."
   ]
  },
  {
   "cell_type": "code",
   "execution_count": 164,
   "id": "aaf82f32",
   "metadata": {},
   "outputs": [
    {
     "data": {
      "text/plain": [
       "[<matplotlib.lines.Line2D at 0x1fe49a2eca0>,\n",
       " <matplotlib.lines.Line2D at 0x1fe49a2e850>,\n",
       " <matplotlib.lines.Line2D at 0x1fe49a2e2b0>]"
      ]
     },
     "execution_count": 164,
     "metadata": {},
     "output_type": "execute_result"
    },
    {
     "data": {
      "text/plain": [
       "[<matplotlib.lines.Line2D at 0x1fe49a49730>]"
      ]
     },
     "execution_count": 164,
     "metadata": {},
     "output_type": "execute_result"
    },
    {
     "data": {
      "text/plain": [
       "[<matplotlib.lines.Line2D at 0x1fe49a491c0>]"
      ]
     },
     "execution_count": 164,
     "metadata": {},
     "output_type": "execute_result"
    },
    {
     "data": {
      "text/plain": [
       "[<matplotlib.lines.Line2D at 0x1fe49a49d30>]"
      ]
     },
     "execution_count": 164,
     "metadata": {},
     "output_type": "execute_result"
    },
    {
     "data": {
      "text/plain": [
       "<matplotlib.legend.Legend at 0x1fe49a07730>"
      ]
     },
     "execution_count": 164,
     "metadata": {},
     "output_type": "execute_result"
    },
    {
     "data": {
      "image/png": "[encoded data removed]",
      "text/plain": [
       "<Figure size 432x288 with 1 Axes>"
      ]
     },
     "metadata": {
      "needs_background": "light"
     },
     "output_type": "display_data"
    }
   ],
   "source": [
    "mglearn.discrete_scatter(X[:,0], X[:,1], y)\n",
    "line = np.linspace(-15,15)\n",
    "for coef, intercept, color in zip(linear_svm.coef_, linear_svm.intercept_,\n",
    "                                 mglearn.cm3.colors):\n",
    "    plt.plot(line, -(line * coef[0] + intercept) / coef[1], c=color)\n",
    "    \n",
    "plt.legend(['c0', 'c1', 'c2', 'c0 border', 'c1 border', 'c2 border'])"
   ]
  },
  {
   "cell_type": "markdown",
   "id": "1e58ea2d",
   "metadata": {},
   "source": [
    "각각의 클래스에 따른 경계가 만들어졌다.\n",
    "\n",
    "각 클래스에 따라 0보다 크면 true 0보다 작으면 false를 가지며 분류될 것이다.\n",
    "\n",
    "#### 중앙의 삼각형 영역은 어떨까? \n",
    "세 분류기 모두 나머지로 분류한 이 곳의 데이터 포인트는 분류 공식의 결과가 가장 높은 클래스로 분류된다. 즉 가장 가까운 직선의 클래스가 된다."
   ]
  },
  {
   "cell_type": "code",
   "execution_count": 165,
   "id": "4bbb20a7",
   "metadata": {},
   "outputs": [
    {
     "data": {
      "text/plain": [
       "[<matplotlib.lines.Line2D at 0x1fe497a2b80>,\n",
       " <matplotlib.lines.Line2D at 0x1fe49785fd0>,\n",
       " <matplotlib.lines.Line2D at 0x1fe4978b6a0>]"
      ]
     },
     "execution_count": 165,
     "metadata": {},
     "output_type": "execute_result"
    },
    {
     "data": {
      "text/plain": [
       "[<matplotlib.lines.Line2D at 0x1fe49738700>]"
      ]
     },
     "execution_count": 165,
     "metadata": {},
     "output_type": "execute_result"
    },
    {
     "data": {
      "text/plain": [
       "[<matplotlib.lines.Line2D at 0x1fe49738880>]"
      ]
     },
     "execution_count": 165,
     "metadata": {},
     "output_type": "execute_result"
    },
    {
     "data": {
      "text/plain": [
       "[<matplotlib.lines.Line2D at 0x1fe49730d00>]"
      ]
     },
     "execution_count": 165,
     "metadata": {},
     "output_type": "execute_result"
    },
    {
     "data": {
      "image/png": "[encoded data removed]",
      "text/plain": [
       "<Figure size 432x288 with 1 Axes>"
      ]
     },
     "metadata": {},
     "output_type": "display_data"
    }
   ],
   "source": [
    "mglearn.plots.plot_2d_classification(linear_svm, X, fill=True, alpha=0.7)\n",
    "mglearn.discrete_scatter(X[:, 0], X[:, 1], y)\n",
    "line = np.linspace(-15,15)\n",
    "for coef, intercept, color in zip(linear_svm.coef_, linear_svm.intercept_,\n",
    "                                 mglearn.cm3.colors):\n",
    "    plt.plot(line,-(line * coef[0] + intercept) / coef[1], c=color)"
   ]
  },
  {
   "cell_type": "markdown",
   "id": "d3c697fe",
   "metadata": {},
   "source": [
    "세 개의 일대다 분류기가 만든 다중 클래스 결정 경계이다."
   ]
  },
  {
   "cell_type": "markdown",
   "id": "d0aa7cdf",
   "metadata": {},
   "source": [
    "선형 모델의 주요 매개변수는 회귀 모델에서는 alpha 였고 LinearSVC와 LogisticReression에서는 C 이다. alpha값이 클수록, C 값이 작을수록 모델이 단순해진다. \n",
    "\n",
    "특별히 회귀 모델에서 이 매개변수를 조정하는 일이 매우 중료하다. 보통 C와 alpha는 로그 스케일로 최적치를 정한다.\n",
    "\n",
    "그리고 L1 규제를 사용할지 L2 규제를 사용할지를 정해야 한다.\n",
    "\n",
    "중요한 특성이 많지 않다고 생각하면 l1, 그렇지 않으면 기본적으로 l2 규제를 사용해야 한다.\n"
   ]
  },
  {
   "cell_type": "markdown",
   "id": "b336b1c7",
   "metadata": {},
   "source": [
    "선형 모델은 학습 속도가 빠르고 예측도 빠르다. 매우 큰 데이터셋과 희소한 데이터셋에도 잘 작동한다.\n",
    "\n",
    "대용량이라면 기본설정보다 빨리 처리하도록 LogisticRegression 과 Ridge에 solver='sag' 옵션을 준다. 다른 대안으로는 선형모델의 대용량 처리 버전으로 구현된 SGDClassifier와 SGDRegressor를 사용한다."
   ]
  },
  {
   "cell_type": "markdown",
   "id": "dbd89aa5",
   "metadata": {},
   "source": [
    "선형 모델의 또 하나 장점은 앞서 본 공식을 사용해 예측이 어떻게 만들어지는지 비교적 쉽게 이해할 수 있다. 하지만 계수의 값들이 왜 그런지 명확하지 않을 때가 종종있다. 특히 특성들이 서로 깊게 연관되어 있다며 더욱 그렇다. 이럴 땐 계수를 분석하기도 매우 어려울 수 있다.\n",
    "\n"
   ]
  },
  {
   "cell_type": "markdown",
   "id": "1e7630d7",
   "metadata": {},
   "source": [
    "### 나이브 베이즈 분류기 naive bayes classifier\n",
    "naive bayes 분류기는 선형 모델과 매우 유사하다. logistic regression이나 linear SVC 같은 선형 분류기보다 훈련 속도가 빠른 편이지만, 그 대신 일반화 성능이 조금 약하다.\n",
    "\n",
    "나이브 베이즈 분류기가 효과적인 이유는 각 특성을 개별로 취급해 파라미터를 학습하고 각 특성에서 클래스별 통계를 단순하게 취합하기 때문이다.\n",
    "\n",
    "sklearn에 구현된 나이브 베이즈 분류기는 세 가지이다.\n",
    "- GaussianNB\n",
    "- BernoulliNB\n",
    "- MultinomialNB\n",
    "\n",
    "가우시안은 연속적인 어떤 데이터에도 적용할 수 있고 베르누이는 이진 데이터를, 멀티노미얼은 카운트 데이터(특성이 어떤 것을 헤아린 정수 카운트로, 예를 들면 문장에 나타난 단어의 횟수)에 적용된다. 베르누이, 멀티노미얼은 대부분 텍스트 데이터를 분류할 때 사용한다."
   ]
  },
  {
   "cell_type": "markdown",
   "id": "79d62ec5",
   "metadata": {},
   "source": [
    "베르누이 분류기는 각 클래스의 특성 중 0이 아닌 것이 몇 개 인지 센다."
   ]
  },
  {
   "cell_type": "code",
   "execution_count": 166,
   "id": "91b8c95b",
   "metadata": {},
   "outputs": [],
   "source": [
    "X = np.array([[0,1,0,1],\n",
    "             [1,0,1,1],\n",
    "             [0,0,0,1],\n",
    "             [1,0,1,0]])\n",
    "y = np.array([0,1,0,1])"
   ]
  },
  {
   "cell_type": "code",
   "execution_count": 167,
   "id": "9a1a46c7",
   "metadata": {},
   "outputs": [
    {
     "name": "stdout",
     "output_type": "stream",
     "text": [
      "feature counts\n",
      "{0: array([0, 1, 0, 2]), 1: array([2, 0, 2, 1])}\n"
     ]
    }
   ],
   "source": [
    "counts = {}\n",
    "for label in np.unique(y):\n",
    "    counts[label] = X[y == label].sum(axis=0)\n",
    "print(\"feature counts\")\n",
    "print(counts)"
   ]
  },
  {
   "cell_type": "code",
   "execution_count": 168,
   "id": "0e145697",
   "metadata": {},
   "outputs": [
    {
     "name": "stdout",
     "output_type": "stream",
     "text": [
      "[0 1]\n"
     ]
    }
   ],
   "source": [
    "print(np.unique(y))"
   ]
  },
  {
   "cell_type": "markdown",
   "id": "4764af29",
   "metadata": {},
   "source": [
    "멀티노미얼과 가우시안은 계산하는 통계 데이터의 종류가 조금 다르다. \n",
    "- 멀티노미얼\n",
    "    - 클래스별로 특성의 평균을 계산한다\n",
    "- 가우시안\n",
    "    - 클래스별로 각 특성의 표준편차와 평균을 저장한다\n",
    "\n",
    "예측할 땐 데이터 포인트를 클래스의 통계 값과 비교해서 가장 잘 맞는 클래스를 예측값으로 한다.\n",
    "\n",
    "멀티노미얼과 베르누이의 예측 공식은 선형 모델과 형태가 같다. 그러나 나이브 베이즈 모델의 coef_ 는 기울기 w가 아니라서 선형 모델과는 의미가 다르다."
   ]
  },
  {
   "cell_type": "markdown",
   "id": "a8167360",
   "metadata": {},
   "source": [
    "#### 장단점과 매개변수\n",
    "멀티노미얼과 베르누이는 alpha 매개변수 하나를 가지고 있다. alpha가 주어지면 알고리즘이 모든 특성에 양의 값을 가진 가상의 데이터 포인트를 alpha 개수만큼 추가한다. 이는 통계 데이터를 완만하게 만들어준다. \n",
    "\n",
    "alpha가 크면 더 완만해지고 모델의 복잡도가 낮아진다. alpha는 성능 향상에 크게 기여하지 않지만 이 값을 조정하면 어느 정도는 정확도를 높일 수 있다."
   ]
  },
  {
   "cell_type": "markdown",
   "id": "d51c0fb9",
   "metadata": {},
   "source": [
    "가우시안은 대부분 매우 고차원인 데이터셋에 사용하고, 베르누이와 멀티노미얼은 텍스트 같은 희소한 데이터를 카운트하는 데 사용한다.\n",
    "\n",
    "멀티노미얼은 보통 0이 아닌 특성이 비교적 많은 데이터셋 (e.g. 큰 문서) 에서 베르누이보다 성능이 높다."
   ]
  },
  {
   "cell_type": "markdown",
   "id": "767c122b",
   "metadata": {},
   "source": [
    "나이브 베이즈 모델과 선형 모델은 장단점은 비슷하다. 훈련과 예측 속도가 빠르며 훈련 과정을 이해하기 쉽다.\n",
    "\n",
    "희소한 고차원 데이터에서 잘 작동하며 비교적 매개변수에 민감하지 않다.\n",
    "\n",
    "선형 모델로 학습 시간이 너무 오래 걸리는 큰 데이터셋에는 나이브 베이즈 모델을 시도해볼 만하며 종종 사용된다."
   ]
  },
  {
   "cell_type": "markdown",
   "id": "274af110",
   "metadata": {},
   "source": [
    "### 결정 트리 decision tree\n",
    "분류와 회귀 문제에 널리 사용된다. 기본적으로 결정 트리는 결정에 다다르기 위해 예/아니오 질문을 이어 나가면서 학습한다."
   ]
  },
  {
   "cell_type": "markdown",
   "id": "49d5f855",
   "metadata": {},
   "source": [
    "일반적으로 트리 만들기를 모든 리프 노드가 순수 노드가 될 때까지 진행하면 모델이 매우 복잡해지고 훈련 데이터에 오버피팅된다. "
   ]
  },
  {
   "cell_type": "markdown",
   "id": "0f0c454e",
   "metadata": {},
   "source": [
    "오버피팅을 막는 전략은 크게 두 가지이다.\n",
    "\n",
    "- 사전 가지치기(pre-pruning)\n",
    "    - 트리 생성을 일찍 중단하는 전략\n",
    "        - 트리의 최대 깊이 제한\n",
    "        - 리프의 최대 개수 제한\n",
    "        - 노드가 분할하기 위한 포인트의 최소 개수 지정\n",
    "- 사후 가지치지 또는 가지치기(post-pruning or pruning)\n",
    "    - 트리를 만든 후 데이터 포인트가 적은 노드를 삭제하거나 병합하는 전략"
   ]
  },
  {
   "cell_type": "markdown",
   "id": "03e499c7",
   "metadata": {},
   "source": [
    "sklearn 에서 decision tree는 아래의 항목에 구현되어 있으며, sklearn은 사전 가지치기pre-pruning만 지원한다.\n",
    "\n",
    "- DecisionTreeRegressor\n",
    "- DecisionTreeClassifier"
   ]
  },
  {
   "cell_type": "code",
   "execution_count": 169,
   "id": "bccbb178",
   "metadata": {},
   "outputs": [],
   "source": [
    "from sklearn.tree import DecisionTreeClassifier"
   ]
  },
  {
   "cell_type": "code",
   "execution_count": 170,
   "id": "9f023df7",
   "metadata": {},
   "outputs": [
    {
     "data": {
      "text/plain": [
       "DecisionTreeClassifier(random_state=0)"
      ]
     },
     "execution_count": 170,
     "metadata": {},
     "output_type": "execute_result"
    }
   ],
   "source": [
    "cancer = load_breast_cancer()\n",
    "X_train, X_test, y_train, y_test = train_test_split(\n",
    "    cancer.data, cancer.target, stratify=cancer.target, random_state=42)\n",
    "tree = DecisionTreeClassifier(random_state=0)\n",
    "tree.fit(X_train,y_train)"
   ]
  },
  {
   "cell_type": "code",
   "execution_count": 171,
   "id": "5af1f0d1",
   "metadata": {},
   "outputs": [
    {
     "name": "stdout",
     "output_type": "stream",
     "text": [
      "train\n",
      "1.0\n",
      "test\n",
      "0.9370629370629371\n"
     ]
    }
   ],
   "source": [
    "print(\"train\")\n",
    "print(tree.score(X_train, y_train))\n",
    "print(\"test\")\n",
    "print(tree.score(X_test, y_test))"
   ]
  },
  {
   "cell_type": "markdown",
   "id": "7f6faa6b",
   "metadata": {},
   "source": [
    "모든 리프 노드가 순수 노드이므로 훈련 셋의 정확도는 100이다.\n",
    "\n",
    "\n",
    "즉 트리가 트레이닝 데이터의 모든 레이블을 완벽하게 기억할 만큼 충분히 깊게 만들어졌다. \n",
    "\n",
    "그리고 테스트 셋에 대한 퍼포먼스를 보면 오버피팅 된 것을 볼 수 있다.\n",
    "\n",
    "이제 사전 가지치기pre-pruning 를 적용해서 훈련 데이터에 완전히 학습되기 전에 트리의 성장을 막으려 한다.\n",
    "\n",
    "한 가지 방법은 일정 깊이에 도달하면 트리의 성장을 멈추게 하는 것이다.\n",
    "\n",
    "max_depth=4 옵션을 통해 제한해보겠다"
   ]
  },
  {
   "cell_type": "code",
   "execution_count": 172,
   "id": "572372c1",
   "metadata": {},
   "outputs": [
    {
     "data": {
      "text/plain": [
       "DecisionTreeClassifier(max_depth=4, random_state=0)"
      ]
     },
     "execution_count": 172,
     "metadata": {},
     "output_type": "execute_result"
    }
   ],
   "source": [
    "tree = DecisionTreeClassifier(max_depth=4, random_state=0)\n",
    "tree.fit(X_train, y_train)"
   ]
  },
  {
   "cell_type": "code",
   "execution_count": 173,
   "id": "1996498e",
   "metadata": {},
   "outputs": [
    {
     "name": "stdout",
     "output_type": "stream",
     "text": [
      "train\n",
      "0.9882629107981221\n",
      "test\n",
      "0.951048951048951\n"
     ]
    }
   ],
   "source": [
    "print(\"train\")\n",
    "print(tree.score(X_train,y_train))\n",
    "print(\"test\")\n",
    "print(tree.score(X_test, y_test))"
   ]
  },
  {
   "cell_type": "markdown",
   "id": "3a15e2cd",
   "metadata": {},
   "source": [
    "#### 결정 트리 분석 decision tree analysis\n"
   ]
  },
  {
   "cell_type": "code",
   "execution_count": 174,
   "id": "f12bd684",
   "metadata": {},
   "outputs": [],
   "source": [
    "from sklearn.tree import export_graphviz\n",
    "export_graphviz(tree, out_file=\"tree.dot\", class_names=[\"악성\", \"양성\"],\n",
    "               feature_names=cancer.feature_names, impurity=False, filled=True)"
   ]
  },
  {
   "cell_type": "code",
   "execution_count": null,
   "id": "97d9cad0",
   "metadata": {},
   "outputs": [],
   "source": []
  },
  {
   "cell_type": "code",
   "execution_count": 175,
   "id": "d15ebb7d",
   "metadata": {},
   "outputs": [],
   "source": [
    "# graphviz 는 에러가 겁나 뜬다.\n",
    "# 안 쓰는 게 나을 거 같다"
   ]
  },
  {
   "cell_type": "markdown",
   "id": "bc432733",
   "metadata": {},
   "source": [
    "### 트리의 특성 중요도\n",
    "전체 트리를 살펴보는 것은 어렵다. 따라서 트리가 어떻게 작동하는지 요약하는 속성들을 사용할 수 있다. 가장 널리 사용되는 속성은 트리를 만드는 결정에 각 특성이 얼마나 중요한지를 평가하는 특성 중요도feature importance 이다.\n",
    "\n",
    "특성 중요도는 0과 1 사이으이 숫자로, 각 특성에 대해 0 은 전혀 사용되지 않았다는 뜻이고 1은 완벽하게 타깃 클래스를 예측했다는 뜻이다. 특성 중요도의 전체 합은 1이다.\n"
   ]
  },
  {
   "cell_type": "code",
   "execution_count": 176,
   "id": "60b01e8e",
   "metadata": {},
   "outputs": [
    {
     "name": "stdout",
     "output_type": "stream",
     "text": [
      "[0.         0.         0.         0.         0.         0.\n",
      " 0.         0.         0.         0.         0.01019737 0.04839825\n",
      " 0.         0.         0.0024156  0.         0.         0.\n",
      " 0.         0.         0.72682851 0.0458159  0.         0.\n",
      " 0.0141577  0.         0.018188   0.1221132  0.01188548 0.        ]\n"
     ]
    }
   ],
   "source": [
    "print(tree.feature_importances_)"
   ]
  },
  {
   "cell_type": "code",
   "execution_count": 177,
   "id": "62d147c4",
   "metadata": {},
   "outputs": [
    {
     "data": {
      "image/png": "[encoded data removed]",
      "text/plain": [
       "<Figure size 432x288 with 1 Axes>"
      ]
     },
     "metadata": {
      "needs_background": "light"
     },
     "output_type": "display_data"
    }
   ],
   "source": [
    "def plot_feature_importances_cancer(model):\n",
    "    n_features = cancer.data.shape[1]\n",
    "    plt.barh(np.arange(n_features), model.feature_importances_, align='center')\n",
    "    plt.yticks(np.arange(n_features), cancer.feature_names)\n",
    "\n",
    "plot_feature_importances_cancer(tree)"
   ]
  },
  {
   "cell_type": "markdown",
   "id": "36796d62",
   "metadata": {},
   "source": [
    "첫번째 노드에서 사용한 특성인 worst radius 가 가장 중요한 특성으로 나타난다. 이 그래프는 첫 번째 노드에서 두 클래스를 괘 잘나누고 있다는 우리의 관찰을 뒷받침해준다.\n",
    "\n",
    "하지만 어떤 특성의 feature_importance_ 값이 낮다고 해서 이 특성이 유용하지 않다는 듯은 아니다. 단지 트리가 그 특성을 선택하지 않았을 분이며 다른 특성이 동일한 정보를 지니고 있어서 일 수도 있다.\n",
    "\n",
    "선형 모델의 계수와는 달리, 특성 중요도는 항상 양수다. 특성이 어떤 클래스를 지지하는지는 알 수 없다. \n",
    "\n",
    "현재 특성 중요도의 값은 worst radius 가 중요하다고 알려주지만 높은 반지름이 양성을 의미하는지 악성을 의미하는지는 알 수 없다."
   ]
  },
  {
   "cell_type": "code",
   "execution_count": 178,
   "id": "bea71439",
   "metadata": {},
   "outputs": [
    {
     "name": "stdout",
     "output_type": "stream",
     "text": [
      "Feature importances: [0. 1.]\n"
     ]
    },
    {
     "data": {
      "image/png": "[encoded data removed]",
      "text/plain": [
       "<Figure size 432x288 with 1 Axes>"
      ]
     },
     "metadata": {},
     "output_type": "display_data"
    }
   ],
   "source": [
    "tree = mglearn.plots.plot_tree_not_monotone()"
   ]
  },
  {
   "cell_type": "markdown",
   "id": "6731eea3",
   "metadata": {},
   "source": [
    "graphviz는 정말 쓰고 싶지 않다."
   ]
  },
  {
   "cell_type": "markdown",
   "id": "a3b3ba01",
   "metadata": {},
   "source": [
    "### 장단점과 매개변수\n",
    "결정 트리에서 모델 복잡도를 조절하는 매개변수는 트리가 완전히 만들어지기 전에 멈추게 하는 사전 가지치기 매개변수이다. 보통은 사전 가지치기 방법 중 max_depth, max_leaf_nodes, min_samples_leaf 중 하나만 지정해도 과대적합을 막는 데 충분하다.\n",
    "\n",
    "결정 트리가 이전에 소개한 다른 알고리즘들보다 나은 점은 두 가지이다.\n",
    "- 만들어진 모델을 쉽게 시각화할 수 있어 비전문가도 이해하기 쉽다.\n",
    "- 데이터의 스케일에 구애받지 않는다. \n",
    "\n",
    "각 특성이 개별적으로 처리되어 데이터 크기에 영향을 받지 않아 결정 트리에서는 특성의 정규화나 표준화 같은 전처리 과정이 필요 없다. 특히 특성의 스키가 서로 다르거나 이진 특성과 연속적인 특성이 혼합되어 있을 때도 잘 작동한다.\n",
    "\n",
    "결정 트리의 주요 단점은 사전 가지치기를 사용함에도 불구하고 과대적합되는 경향이 있어 일반화 성능이 좋지 않다는 것이다."
   ]
  },
  {
   "cell_type": "markdown",
   "id": "db1bb9d2",
   "metadata": {},
   "source": [
    "### 결정 트리의 앙상블\n",
    "앙상블ensemble 은 여러 머신러닝 모델을 연결하여 더 강력한 모델을 만드는 기법이다. \n",
    "\n",
    "- 랜덤 포레스트random forest\n",
    "- 그레디언트 부스팅gradient boosting\n",
    "\n",
    "이 결정 트리는 둘 다 모델을 구성하는 기본 요소로 결정 트리를 사용한다."
   ]
  },
  {
   "cell_type": "markdown",
   "id": "e08f6a38",
   "metadata": {},
   "source": [
    "### 랜덤 포레스트 random forest\n",
    "결정 트리의 주요 단점은 훈련 데이터에 과대적합되는 경향이 있다는 것이다. 랜덤 포레스트는 이 문제를 회피할 수 있다.\n",
    "\n",
    "랜덤 포레스트는 기본적으로 조금씩 다른 여러 결정 트리의 묶음이다. 랜덤 포레스트는 각 트리는 비교적 예측을 잘 할 수 있지만 데이터의 일부에 과대적합하는 경향을 가진다는 데 기초한다. 예로, 잘 작동하되 서로 다른 방향으로 과대적합된 트리를 많이 만들면 그 결과를 평균냄으로써 과대적합된 양을 줄일 수 있다.\n",
    "\n",
    "이런 전략을 구현하려면 결정 트리를 많이 만들어야 한다. 랜덤 포레스트는 이름에서 알 수 있듯이 트리들이 달라지도록 트리 생성 시 무작위성을 주입한다. \n",
    "\n",
    "트리를 만들 때 사용하는 데이터 포인트를 무작위로 선택하는 방법과 분할 테스트에서 특성을 무작위로 선택하는 방법을 살펴보겠다."
   ]
  },
  {
   "cell_type": "markdown",
   "id": "c2dc42a7",
   "metadata": {},
   "source": [
    "### 랜덤 포레스트 구축\n",
    "랜덤 포레스트 모델을 만들려면 생성할 트리의 개수를 정해야 한다. (RandomForestRegressor 나 RandomForestClassifier의 n_estimators 매개변수).\n",
    "\n",
    "여기에서는 트리가 10개 필요하다고 가정한다. 이 트리들은 오나전히 독립적으로 만들어져야 하므로 알고리즘은 각 트리가 고유하게 만들어지도록 무작위한 선택을 한다. 트리를 만들기 위해 먼데이터의 부트스트랩 샘플bootstrap sample 을 생성한다. \n",
    "\n",
    "다시 말해 n_samples 개의 데이터 포인트 주에서 무작위로 데이터를 n_samples 횟수만큼 반복 추출한다. 이 데이터셋은 원래 데이터셋 크기와 같지만, 어떤 데이터 포인트는 누락될 수도 있고, 어떤 데이터 포인트는 중복되어 들어 있을 수 있다.\n",
    "\n",
    "그다음 이렇게 만든 데이터셋으로 결정 트리를 만든다. \n",
    "\n",
    "이는 조금 다른 결정 트리 알고리즘을 가진다. 각 노드에서 전체 특성을 대상으로 최선의 테스트를 찾는 것이 아니고 알고리즘이 각 노드에서 후보 특성을 무작위로 선택한 후 이 후보들 중에서 최선의 테스트를 찾는다. \n",
    "\n",
    "부트스트랩 샘플링은 랜덤 포레스트의 트리가 조금식 다른 데이터셋을 이용해 만들어지도록 한다. 또 각 노드에서 특성의 일부만 사용하기 때문에 트리의 각 분기는 각기 다른 특성 부분 집합을 사용한다. 이 두 메커니즘이 합쳐져서 랜덤 포레스트의 모든 트리가 서로 달라지도록 만든다.\n",
    "\n",
    "이 방식에서 핵심 매개변수는 max_features이다. max_features를 n_features로 설정하면 트리의 각 분기에서 모든 특성을 고려하므로 특성 선택에 무작위성이 들어가지 않는다. (부트스트랩 샘플링으로 인한 무작위성은 그대로다.) max_features=1로 설정하면 투리의 분기는 테스트할 특성을 고를 필요거ㅏ 없게 되며 그냥 무작위로 건택한 특성의 임계값을 찾기만 하면 된다. \n",
    "\n",
    "결국 max_features 값을 크게 하면 랜덤 포레스트의 트리들은 매우 비슷해지고 가장 두드러진 특성을 이용해 데이터에 잘 맞춰질 것이다. max_featuers 값을 크게 하면 랜덤 포레스트의 트리들은 매우 비슷해지고 가장 두드러진 특성을 이용해 데이터에 잘 맞춰질 것이다. max_features 를 낮추면 랜덤 포레스트 트리들은 많이 달라지고 각 트리는 데이터에 맞추기 위해 깊어지게 된다.\n",
    "\n",
    "랜덤 포레스트로 예측을 할 때는 먼저 알고리즘이 모델에 있는 모든 트리의 예측을 만든다. 회귀의 경우에는 이 예측들을 평균하여 최종 예측을 만든다. 분류의 경우는 약한 투표 전략을 사용한다. 즉 각 알고리즘이 가능성 있는 출력 레이블의 확률을 제공함으로써 간점적인 예측을 한다. 트리들이 예측한 확률을 평균애ㅓ 가장 높은 확률을 가진 클래스가 예측값이 된다."
   ]
  },
  {
   "cell_type": "markdown",
   "id": "206f092a",
   "metadata": {},
   "source": [
    "### 랜덤 포레스트 분석\n",
    "앞서 사용한 two_moon 데이터셋을 가지고 트리 4개로 구성된 랜덤 포레스트 모델을 만들어보겠다."
   ]
  },
  {
   "cell_type": "code",
   "execution_count": 179,
   "id": "aaa8ad87",
   "metadata": {},
   "outputs": [],
   "source": [
    "from sklearn.ensemble import RandomForestClassifier\n",
    "from sklearn.datasets import make_moons\n",
    "\n",
    "X, y = make_moons(n_samples=100, noise=0.25, random_state=3)"
   ]
  },
  {
   "cell_type": "code",
   "execution_count": 180,
   "id": "c713230e",
   "metadata": {},
   "outputs": [],
   "source": [
    "X_train, X_test, y_train, y_test = train_test_split(X, y, stratify=y, random_state=42)"
   ]
  },
  {
   "cell_type": "code",
   "execution_count": 181,
   "id": "25048357",
   "metadata": {},
   "outputs": [
    {
     "data": {
      "text/plain": [
       "RandomForestClassifier(n_estimators=5, random_state=2)"
      ]
     },
     "execution_count": 181,
     "metadata": {},
     "output_type": "execute_result"
    }
   ],
   "source": [
    "forest = RandomForestClassifier(n_estimators=5, random_state=2)\n",
    "forest.fit(X_train, y_train)"
   ]
  },
  {
   "cell_type": "code",
   "execution_count": 186,
   "id": "52dc5cbe",
   "metadata": {},
   "outputs": [
    {
     "data": {
      "text/plain": [
       "<AxesSubplot:>"
      ]
     },
     "execution_count": 186,
     "metadata": {},
     "output_type": "execute_result"
    },
    {
     "data": {
      "text/plain": [
       "<AxesSubplot:>"
      ]
     },
     "execution_count": 186,
     "metadata": {},
     "output_type": "execute_result"
    },
    {
     "data": {
      "text/plain": [
       "<AxesSubplot:>"
      ]
     },
     "execution_count": 186,
     "metadata": {},
     "output_type": "execute_result"
    },
    {
     "data": {
      "text/plain": [
       "<AxesSubplot:>"
      ]
     },
     "execution_count": 186,
     "metadata": {},
     "output_type": "execute_result"
    },
    {
     "data": {
      "text/plain": [
       "<AxesSubplot:>"
      ]
     },
     "execution_count": 186,
     "metadata": {},
     "output_type": "execute_result"
    },
    {
     "data": {
      "text/plain": [
       "[<matplotlib.lines.Line2D at 0x1fe4a673b50>,\n",
       " <matplotlib.lines.Line2D at 0x1fe49b94ee0>]"
      ]
     },
     "execution_count": 186,
     "metadata": {},
     "output_type": "execute_result"
    },
    {
     "data": {
      "image/png": "[encoded data removed]",
      "text/plain": [
       "<Figure size 1440x720 with 6 Axes>"
      ]
     },
     "metadata": {},
     "output_type": "display_data"
    }
   ],
   "source": [
    "fig, axes = plt.subplots(2, 3, figsize=(20,10))\n",
    "for i, (ax, tree) in enumerate(zip(axes.ravel(), forest.estimators_)):\n",
    "    mglearn.plots.plot_tree_partition(X, y, tree, ax=ax)\n",
    "    \n",
    "mglearn.plots.plot_2d_separator(forest, X, fill=True, ax=axes[-1, -1], alpha=.4)\n",
    "mglearn.discrete_scatter(X[:,0],X[:,1],y)"
   ]
  },
  {
   "cell_type": "markdown",
   "id": "2a41927e",
   "metadata": {},
   "source": [
    "다섯 개의 트리가 만든 결정 경계 decision boundary 는 확연하게 다르다. 부트스트랩 샘플링 대문에 한쪽 트리에 나타나는 훈련 포인트가 다른 트리에는 포함되지 않을 수 있어 각 트리는 불완전하다. \n",
    "\n",
    "랜덤 포레스트는 개개의 트리보다는 덜 과대적합되고 훨씬 좋은 결정 경계를 만들어준다. 실제는 훨씬 많은 수백에서 수천 개의 트리를 사용하기 때문에 더 부드러운 결정경계가 만들어진다.\n",
    "\n",
    "다른 예로 유방암 데이터셋에 100개의 트리로 이뤄진 랜덤 포레스트를 적용해보겠다"
   ]
  },
  {
   "cell_type": "code",
   "execution_count": 187,
   "id": "033fd566",
   "metadata": {},
   "outputs": [],
   "source": [
    "X_train, X_test, y_train, y_test = train_test_split(cancer.data, cancer.target, random_state=0)"
   ]
  },
  {
   "cell_type": "code",
   "execution_count": 188,
   "id": "fbed09b5",
   "metadata": {},
   "outputs": [
    {
     "data": {
      "text/plain": [
       "RandomForestClassifier(random_state=0)"
      ]
     },
     "execution_count": 188,
     "metadata": {},
     "output_type": "execute_result"
    }
   ],
   "source": [
    "forest = RandomForestClassifier(n_estimators=100, random_state=0)\n",
    "forest.fit(X_train, y_train)"
   ]
  },
  {
   "cell_type": "code",
   "execution_count": 190,
   "id": "f3b26675",
   "metadata": {},
   "outputs": [
    {
     "name": "stdout",
     "output_type": "stream",
     "text": [
      "1.0\n",
      "0.972027972027972\n"
     ]
    }
   ],
   "source": [
    "print(forest.score(X_train, y_train))\n",
    "print(forest.score(X_test, y_test))"
   ]
  },
  {
   "cell_type": "markdown",
   "id": "deb48258",
   "metadata": {},
   "source": [
    "랜덤 포레스트로 아무런 매개변수 튜닝 없이 선형 모델이나 단열 결정 트리보다 높은 97% acc 를 냈다.\n",
    "\n",
    "단인 결정 트리에서 한 것처럼 max_features 매개변수를 조정하거나 사전 가지치기를 할 수도 있다. 하지만 랜덤 포레스트는 기본 설정으로돌 좋은 결과를 만들어줄 때가 많다."
   ]
  },
  {
   "cell_type": "code",
   "execution_count": 191,
   "id": "8591ebb6",
   "metadata": {},
   "outputs": [
    {
     "data": {
      "image/png": "[encoded data removed]",
      "text/plain": [
       "<Figure size 432x288 with 1 Axes>"
      ]
     },
     "metadata": {
      "needs_background": "light"
     },
     "output_type": "display_data"
    }
   ],
   "source": [
    "plot_feature_importances_cancer(forest)"
   ]
  },
  {
   "cell_type": "markdown",
   "id": "373207aa",
   "metadata": {},
   "source": [
    "### 장단점과 매개변수\n",
    "회귀와 분류에 있어서 랜덤 포레스트는 현재 가장 널리 사용되는 머신러닝 알고리즘이다. 랜덤 포레스트는 성능이 매우 뛰어나고 매개변수 튜닝을 많이 하지 않아도잘 작동하며 데이터의 스케일을 맞출 필요도 없다.\n",
    "\n",
    "기본적으로 랜덤 포레스트는 단일 트리의 단점을 보완하고 장점은 그대로 가지고 있다. 만약 의사 결정 과정을 간소하게 표현해야 한다면 단일 트리를 사용할 수 있다. 수십, 수백 개의 트리를 자세히 분석하기 어렵고 랜덤 포레스트의 트리는 (특성의 일부만 사용하므로) 결정 트리보다 더 깊어지는 경향도 있기 때문이다. 그러므로 비전문가에게 예측 과정을시각적으로 보여주기 위해서는 하나의 결정 트리가 더 좋은 선택이다. \n",
    "\n",
    "대량의 데이터셋에서 랜덤 포레스트 모델을 만들 때 다소 시간이 걸릴 수 잇지만 cpu 코어가 많다면 손쉽게 병렬처리할 수 있다. n_jobs 매개 변수를 이용해 사용할 코어 수를 지정할 수 있으며, n_jobs=-1 로 설정하면 컴퓨터의 모든 코어를 사용한다.\n",
    "\n",
    "랜덤 포레스트는 랜덤하기 때문에 다른 random_state 를 지정하거나 random_state 자체를 지정하지 않으면 전혀 다른 모델이 만들어진다. 그리고 랜덤 포레스트의 트리가 많을수록 random_state 값의 변화에 따른 변동이 적다. 만약 같은 결과를 만들어야 한다면 random_state 값을 고정해야 한다.\n",
    "\n",
    "랜덤 포레스트는 텍스트 데이터 같이 매우 차원이 높고 희소한 데이터에는 잘 작동하지 않는다. 이런 데이터에는 선형 모델이 더 적합하다. \n",
    "\n",
    "랜덤 포레스트는 매우 큰 데이터셋에도 잘 작동하며 훈련은 여러 cpu코어로 간단하게 병렬화할 수 있다. 하지만 랜덤 포레스트는 선형 모델보다 많은 메모리를 사용하며 훈련과 예측이 느리다. \n",
    "\n",
    "중요 매개변수는 n_estimators, max_featuers이고 max_depth 같은 사전 가지치기 pre-puning 옵션이 있다. n_estimators 는 클수록 좋다. 더 많은 트리를 평균하면 오버피팅을 줄여 더 안정적인 모델을 만든다. \n",
    "\n",
    "max_features는 각 트리가 얼마나 무작위가 될지를 결정하며 작은 max_features는 오버피팅을 줄여준다. 일반적으로 기본값을 쓰는 것이 좋은 방법이다.\n",
    "\n",
    "분류는 max_features=aqrt(n_features) 이고 회귀는 max_featuers=n_features 이다.\n",
    "\n",
    "max_features나 max_leaf_nodes 매개변수를 추가하면 가끔 성능이 향상되기도 하며, 훈련과 예측에 필요한 메모리와 시간을 많이 줄일 수도 있다."
   ]
  },
  {
   "cell_type": "markdown",
   "id": "8068181a",
   "metadata": {},
   "source": [
    "### 그레디언트 부스팅 회귀 트리 gradient boosting regression tree\n",
    "여러 개의 결정 트리를 묶어 강력한 모델을 만드는 또 다른 앙상블 방법이다. 이름은 회귀지만 회귀와 분류 모두에 사용할 수 있다. \n",
    "\n",
    "랜덤 포레스트와 달리 이전 트리의 오차를 보완하는 방식으로 순차적으로 트리를 만든다. 기본적으로 그레디언트 부스팅 회귀 트리에는 무작위성이 없다. 대신 강력한 사전 가지치기가 사용된다. 그레디언트 부스팅 트리는 보통 하나에서 다섯 정도의 깊지 않은 트리를 사용하므로 메모리를 적게 사용하고 예측도 빠르다. 이런 얕은 트리 같은 간단한 모델(약한 학습기 weak learner) 을 많이 연결하는 것이 아이디어다. 각각의 트리는 데이터의 일부에 대해서만 예측을 잘 수행할 수 있어 트리가 많이 추가될수록 성능이 좋아진다.\n",
    "\n",
    "앙상블 방식에 있는 사전 가지치기나 트리 개수 외에도 그레디언트 ㅅ부스팅에서 중요한 매개변수는 이전 트리의 오차를 얼마나 강하게 보정할 것인지를 제어하는 learning_rate 이다. 학습률이 크면 트리는 보정을 강하게 하기 때문에 복잡한 모델을 만든다. n_estimators 값을 키우면 앙상블에 트리가 더 많이 추가되어 모델의 복잡도가 커지고 훈련 세트에서의 실수를 바로잡을 기회가 더 많아진다.\n",
    "\n",
    "아래는 기본값인 깊이가 3인 트리 100개와 학습률 0.1 을 사용한 것이다."
   ]
  },
  {
   "cell_type": "code",
   "execution_count": 193,
   "id": "6d41a787",
   "metadata": {},
   "outputs": [],
   "source": [
    "from sklearn.ensemble import GradientBoostingClassifier\n",
    "\n",
    "X_train, X_test, y_train, y_test = train_test_split(cancer.data, cancer.target, random_state=0)"
   ]
  },
  {
   "cell_type": "code",
   "execution_count": 194,
   "id": "a57ffc8a",
   "metadata": {},
   "outputs": [
    {
     "data": {
      "text/plain": [
       "GradientBoostingClassifier(random_state=0)"
      ]
     },
     "execution_count": 194,
     "metadata": {},
     "output_type": "execute_result"
    }
   ],
   "source": [
    "gbrt = GradientBoostingClassifier(random_state=0)\n",
    "gbrt.fit(X_train, y_train)"
   ]
  },
  {
   "cell_type": "code",
   "execution_count": 196,
   "id": "958833c1",
   "metadata": {},
   "outputs": [
    {
     "name": "stdout",
     "output_type": "stream",
     "text": [
      "1.0\n",
      "0.965034965034965\n"
     ]
    }
   ],
   "source": [
    "print(gbrt.score(X_train, y_train))\n",
    "print(gbrt.score(X_test, y_test))\n",
    "# overfitting. refularization => max depth, pre-pruning"
   ]
  },
  {
   "cell_type": "code",
   "execution_count": 198,
   "id": "c2417203",
   "metadata": {},
   "outputs": [
    {
     "data": {
      "text/plain": [
       "GradientBoostingClassifier(max_depth=1, random_state=0)"
      ]
     },
     "execution_count": 198,
     "metadata": {},
     "output_type": "execute_result"
    }
   ],
   "source": [
    "gbrt = GradientBoostingClassifier(random_state=0, max_depth=1)\n",
    "gbrt.fit(X_train, y_train)"
   ]
  },
  {
   "cell_type": "code",
   "execution_count": 200,
   "id": "48d82fc9",
   "metadata": {},
   "outputs": [
    {
     "name": "stdout",
     "output_type": "stream",
     "text": [
      "0.9906103286384976\n",
      "0.972027972027972\n"
     ]
    }
   ],
   "source": [
    "print(gbrt.score(X_train, y_train))\n",
    "print(gbrt.score(X_test, y_test))"
   ]
  },
  {
   "cell_type": "code",
   "execution_count": 201,
   "id": "519cdf81",
   "metadata": {},
   "outputs": [
    {
     "data": {
      "text/plain": [
       "GradientBoostingClassifier(learning_rate=0.01, random_state=0)"
      ]
     },
     "execution_count": 201,
     "metadata": {},
     "output_type": "execute_result"
    }
   ],
   "source": [
    "gbrt = GradientBoostingClassifier(random_state=0, learning_rate=0.01)\n",
    "gbrt.fit(X_train, y_train)"
   ]
  },
  {
   "cell_type": "code",
   "execution_count": 202,
   "id": "46cafe97",
   "metadata": {},
   "outputs": [
    {
     "name": "stdout",
     "output_type": "stream",
     "text": [
      "0.9882629107981221\n",
      "0.965034965034965\n"
     ]
    }
   ],
   "source": [
    "print(gbrt.score(X_train, y_train))\n",
    "print(gbrt.score(X_test, y_test))"
   ]
  },
  {
   "cell_type": "markdown",
   "id": "8b4cfd54",
   "metadata": {},
   "source": [
    "max_depth 감소와 learning_rate 감소의 두 방식은 모델의 복잡도를 감소시킨다."
   ]
  },
  {
   "cell_type": "code",
   "execution_count": 205,
   "id": "1da6edd5",
   "metadata": {},
   "outputs": [
    {
     "data": {
      "text/plain": [
       "GradientBoostingClassifier(max_depth=1, random_state=0)"
      ]
     },
     "execution_count": 205,
     "metadata": {},
     "output_type": "execute_result"
    },
    {
     "data": {
      "image/png": "[encoded data removed]",
      "text/plain": [
       "<Figure size 432x288 with 1 Axes>"
      ]
     },
     "metadata": {
      "needs_background": "light"
     },
     "output_type": "display_data"
    }
   ],
   "source": [
    "gbrt = GradientBoostingClassifier(random_state=0, max_depth=1)\n",
    "gbrt.fit(X_train, y_train)\n",
    "\n",
    "plot_feature_importances_cancer(gbrt)"
   ]
  },
  {
   "cell_type": "markdown",
   "id": "70a7dcd6",
   "metadata": {},
   "source": [
    "그레디언트 부스팅 트리의 특성 중요도 그래프가 랜덤 포레스트와 비슷한 특성을 강조하다 있다. 하지만 일부 특성을 완전히 무시하고 있다.\n",
    "\n",
    "비슷한 종류의 데이터에서 그레디언트 부스팅과 랜덤 포ㅔ스트 둘 다 잘 작동하지만 보통 더 안정적인 랜덤 포레스트를 먼저 적용한다. 랜덤 포레스트가 잘 작동하더라도 예측 시간이 중요하거나 머신러닝 모델에서 마지막 성능가지 쥐어짜야 할 때 그레디언트 부스팅을 사용하면 도움이 된다."
   ]
  },
  {
   "cell_type": "markdown",
   "id": "558e9afb",
   "metadata": {},
   "source": [
    "### 장단점과 매개변수\n",
    "그레디언트 부스팅 결정 트리는 지도학습에서 가장 강력하고 널리 사용하는 모델 중 하나이다. 가장 큰 단점은 매개변수를 잘 조정해야 한다는 것과 훈련 시간이 길다는 것이다. 다른 트리 기반 모델처럼 특성의 스케일을 조정하지 않아도 되고 이진 특성이나 연속적인 특성에서도 잘 동작한다. 그리고 트리 기반 모델의 특성상 희소한 고차원 데이터에는 잘 작동하지 않는다.\n",
    "\n",
    "트리의 개수를 지정하는 n_estiators 와 이전 트리의 오차를 보정하는 정도를 조절하는 learning_rate 이다. 이 두 매개변수는 매우 깊게 연관되며 learning_rate을 낮추면 비슷한 복잡도의 모델을 만들기 위해서 더 ㅁ낳은 트리를 추가해야 한다. n_estimators가 클수록 좋은 랜덤 포레스트와는 달리 그레디언트 부스팅에서 n_estimators를 크게하면 모델이 복잡해지고 오버피팅될 가능성이 높아진다. 일반적인 관례는 가용한 시간과 메모리 한도에서 n_estimaotrs르 맞추고 나서 적절한 learninga_rate 을 찾는 것이다. \n",
    "\n",
    "GradientBoostingClassifier와 GradientBoostingRegressor 에 조기 종료를 위한 매개변수 n_iter_no_change와 validation_fraction이 추가되었다. \n",
    "\n",
    "중요한 또 다른 매개변수는 각 트리의 복잡도를 낮추는 max_depth(또는 max_leaf_nodes)이다. 보통 그레디언트 부스팅 모델에서는 max_depth를 매우 작게 설정하며 트리의 깊이가 5보다 깊어지지 않게 한다."
   ]
  },
  {
   "cell_type": "markdown",
   "id": "7d13ee6b",
   "metadata": {},
   "source": [
    "## 배깅, 엑스트라 트리, 에이다부스트\n",
    "여기선 sklearn의 다른 앙상블 알고리즘인 배깅bagging, 에이다부스트adaboost, 엑스트라 트리extra-trees 에 대해 살펴본다. "
   ]
  },
  {
   "cell_type": "code",
   "execution_count": 206,
   "id": "61636d99",
   "metadata": {},
   "outputs": [
    {
     "ename": "ModuleNotFoundError",
     "evalue": "No module named 'preamble'",
     "output_type": "error",
     "traceback": [
      "\u001b[1;31m---------------------------------------------------------------------------\u001b[0m",
      "\u001b[1;31mModuleNotFoundError\u001b[0m                       Traceback (most recent call last)",
      "\u001b[1;32m<ipython-input-206-ff75eab34a97>\u001b[0m in \u001b[0;36m<module>\u001b[1;34m\u001b[0m\n\u001b[1;32m----> 1\u001b[1;33m \u001b[1;32mfrom\u001b[0m \u001b[0mpreamble\u001b[0m \u001b[1;32mimport\u001b[0m \u001b[1;33m*\u001b[0m\u001b[1;33m\u001b[0m\u001b[1;33m\u001b[0m\u001b[0m\n\u001b[0m",
      "\u001b[1;31mModuleNotFoundError\u001b[0m: No module named 'preamble'"
     ]
    }
   ],
   "source": [
    "from preamble import *"
   ]
  },
  {
   "cell_type": "code",
   "execution_count": null,
   "id": "5a17b1c3",
   "metadata": {},
   "outputs": [],
   "source": []
  },
  {
   "cell_type": "code",
   "execution_count": null,
   "id": "876ecfaa",
   "metadata": {},
   "outputs": [],
   "source": []
  },
  {
   "cell_type": "code",
   "execution_count": null,
   "id": "7bde112a",
   "metadata": {},
   "outputs": [],
   "source": []
  },
  {
   "cell_type": "code",
   "execution_count": null,
   "id": "d686b4a4",
   "metadata": {},
   "outputs": [],
   "source": []
  },
  {
   "cell_type": "code",
   "execution_count": null,
   "id": "ce8fef67",
   "metadata": {},
   "outputs": [],
   "source": []
  },
  {
   "cell_type": "code",
   "execution_count": null,
   "id": "dbb170a5",
   "metadata": {},
   "outputs": [],
   "source": []
  },
  {
   "cell_type": "code",
   "execution_count": null,
   "id": "9b9a57d8",
   "metadata": {},
   "outputs": [],
   "source": []
  },
  {
   "cell_type": "code",
   "execution_count": null,
   "id": "4e808745",
   "metadata": {},
   "outputs": [],
   "source": []
  },
  {
   "cell_type": "code",
   "execution_count": null,
   "id": "8ace328d",
   "metadata": {},
   "outputs": [],
   "source": []
  },
  {
   "cell_type": "code",
   "execution_count": null,
   "id": "93b0d10f",
   "metadata": {},
   "outputs": [],
   "source": []
  },
  {
   "cell_type": "code",
   "execution_count": null,
   "id": "174e1dab",
   "metadata": {},
   "outputs": [],
   "source": []
  },
  {
   "cell_type": "code",
   "execution_count": null,
   "id": "66c6d405",
   "metadata": {},
   "outputs": [],
   "source": []
  },
  {
   "cell_type": "code",
   "execution_count": null,
   "id": "9a1771af",
   "metadata": {},
   "outputs": [],
   "source": []
  },
  {
   "cell_type": "code",
   "execution_count": null,
   "id": "4ed11389",
   "metadata": {},
   "outputs": [],
   "source": []
  },
  {
   "cell_type": "code",
   "execution_count": null,
   "id": "feab0086",
   "metadata": {},
   "outputs": [],
   "source": []
  },
  {
   "cell_type": "code",
   "execution_count": null,
   "id": "1b1157ce",
   "metadata": {},
   "outputs": [],
   "source": []
  },
  {
   "cell_type": "code",
   "execution_count": null,
   "id": "367a9408",
   "metadata": {},
   "outputs": [],
   "source": []
  },
  {
   "cell_type": "code",
   "execution_count": null,
   "id": "8af510e7",
   "metadata": {},
   "outputs": [],
   "source": []
  },
  {
   "cell_type": "code",
   "execution_count": null,
   "id": "e3c67fa7",
   "metadata": {},
   "outputs": [],
   "source": []
  },
  {
   "cell_type": "code",
   "execution_count": null,
   "id": "d3fcbfcd",
   "metadata": {},
   "outputs": [],
   "source": []
  },
  {
   "cell_type": "code",
   "execution_count": null,
   "id": "9b74f8c6",
   "metadata": {},
   "outputs": [],
   "source": []
  },
  {
   "cell_type": "code",
   "execution_count": null,
   "id": "b15fa25c",
   "metadata": {},
   "outputs": [],
   "source": []
  },
  {
   "cell_type": "code",
   "execution_count": null,
   "id": "b9da6c94",
   "metadata": {},
   "outputs": [],
   "source": []
  },
  {
   "cell_type": "code",
   "execution_count": null,
   "id": "b42774f0",
   "metadata": {},
   "outputs": [],
   "source": []
  },
  {
   "cell_type": "code",
   "execution_count": null,
   "id": "06555eab",
   "metadata": {},
   "outputs": [],
   "source": []
  },
  {
   "cell_type": "code",
   "execution_count": null,
   "id": "965f1b2e",
   "metadata": {},
   "outputs": [],
   "source": []
  },
  {
   "cell_type": "code",
   "execution_count": null,
   "id": "7fe47f80",
   "metadata": {},
   "outputs": [],
   "source": []
  },
  {
   "cell_type": "code",
   "execution_count": null,
   "id": "ac900553",
   "metadata": {},
   "outputs": [],
   "source": []
  },
  {
   "cell_type": "code",
   "execution_count": null,
   "id": "4510e964",
   "metadata": {},
   "outputs": [],
   "source": []
  },
  {
   "cell_type": "code",
   "execution_count": null,
   "id": "a0cda93f",
   "metadata": {},
   "outputs": [],
   "source": []
  },
  {
   "cell_type": "code",
   "execution_count": null,
   "id": "296efaf4",
   "metadata": {},
   "outputs": [],
   "source": []
  },
  {
   "cell_type": "code",
   "execution_count": null,
   "id": "efd398e3",
   "metadata": {},
   "outputs": [],
   "source": []
  },
  {
   "cell_type": "code",
   "execution_count": null,
   "id": "ea84c522",
   "metadata": {},
   "outputs": [],
   "source": []
  },
  {
   "cell_type": "code",
   "execution_count": null,
   "id": "bb98846b",
   "metadata": {},
   "outputs": [],
   "source": []
  },
  {
   "cell_type": "code",
   "execution_count": null,
   "id": "64ef27fa",
   "metadata": {},
   "outputs": [],
   "source": []
  },
  {
   "cell_type": "code",
   "execution_count": null,
   "id": "19ef7ad0",
   "metadata": {},
   "outputs": [],
   "source": []
  },
  {
   "cell_type": "code",
   "execution_count": null,
   "id": "cf5eca7b",
   "metadata": {},
   "outputs": [],
   "source": []
  },
  {
   "cell_type": "code",
   "execution_count": null,
   "id": "844fa4d8",
   "metadata": {},
   "outputs": [],
   "source": []
  },
  {
   "cell_type": "code",
   "execution_count": null,
   "id": "b9d77cee",
   "metadata": {},
   "outputs": [],
   "source": []
  }
 ],
 "metadata": {
  "kernelspec": {
   "display_name": "Python 3",
   "language": "python",
   "name": "python3"
  },
  "language_info": {
   "codemirror_mode": {
    "name": "ipython",
    "version": 3
   },
   "file_extension": ".py",
   "mimetype": "text/x-python",
   "name": "python",
   "nbconvert_exporter": "python",
   "pygments_lexer": "ipython3",
   "version": "3.8.5"
  }
 },
 "nbformat": 4,
 "nbformat_minor": 5
}
