{
 "cells": [
  {
   "cell_type": "markdown",
   "id": "9b127feb",
   "metadata": {},
   "source": [
    "## supervised learning"
   ]
  },
  {
   "cell_type": "markdown",
   "id": "0e1b8ccb",
   "metadata": {},
   "source": [
    "- classification\n",
    "    - binary classification\n",
    "    - multiclass classification"
   ]
  },
  {
   "cell_type": "markdown",
   "id": "7a19ae91",
   "metadata": {},
   "source": [
    "### 이진 분류\n",
    "positive class 와 negative class가 있음.\n",
    "positive class는 분류하고자 하는 대상이다."
   ]
  },
  {
   "cell_type": "markdown",
   "id": "727ad965",
   "metadata": {},
   "source": [
    "### 회귀\n",
    "연속적인 숫자, 또는 프로그래밍 용어로 말하면 floating point 를 예측하는 것이다."
   ]
  },
  {
   "cell_type": "markdown",
   "id": "8f3378b1",
   "metadata": {},
   "source": [
    "출력 값에 연속성이 있는지 찾아보면 회귀와 분류 문제를 쉽게 구분할 수 있다."
   ]
  },
  {
   "cell_type": "code",
   "execution_count": 1,
   "id": "8fc70182",
   "metadata": {},
   "outputs": [],
   "source": [
    "from IPython.display import display\n",
    "import numpy as np\n",
    "import matplotlib.pyplot as plt\n",
    "import pandas as pd\n",
    "import mglearn\n",
    "from sklearn.datasets import make_blobs\n",
    "from sklearn.model_selection import train_test_split\n",
    "\n",
    "from IPython.core.interactiveshell import InteractiveShell\n",
    "InteractiveShell.ast_node_interactivity = \"all\"\n",
    "\n",
    "%matplotlib notebook\n",
    "%matplotlib inline"
   ]
  },
  {
   "cell_type": "code",
   "execution_count": 2,
   "id": "6f0a4255",
   "metadata": {},
   "outputs": [
    {
     "name": "stderr",
     "output_type": "stream",
     "text": [
      "C:\\Users\\pc\\anaconda3\\envs\\py\\lib\\site-packages\\sklearn\\utils\\deprecation.py:87: FutureWarning: Function make_blobs is deprecated; Please import make_blobs directly from scikit-learn\n",
      "  warnings.warn(msg, category=FutureWarning)\n"
     ]
    },
    {
     "data": {
      "text/plain": [
       "[<matplotlib.lines.Line2D at 0x25ff6b19370>,\n",
       " <matplotlib.lines.Line2D at 0x25ff6b195b0>]"
      ]
     },
     "execution_count": 2,
     "metadata": {},
     "output_type": "execute_result"
    },
    {
     "data": {
      "text/plain": [
       "Text(0.5, 1.0, 'scatter of forge datasets')"
      ]
     },
     "execution_count": 2,
     "metadata": {},
     "output_type": "execute_result"
    },
    {
     "data": {
      "text/plain": [
       "<matplotlib.legend.Legend at 0x25ff6b197f0>"
      ]
     },
     "execution_count": 2,
     "metadata": {},
     "output_type": "execute_result"
    },
    {
     "data": {
      "text/plain": [
       "Text(0.5, 0, '1st feature')"
      ]
     },
     "execution_count": 2,
     "metadata": {},
     "output_type": "execute_result"
    },
    {
     "data": {
      "text/plain": [
       "Text(0, 0.5, '2nd feature')"
      ]
     },
     "execution_count": 2,
     "metadata": {},
     "output_type": "execute_result"
    },
    {
     "name": "stdout",
     "output_type": "stream",
     "text": [
      "X.shape:  (26, 2)\n"
     ]
    },
    {
     "data": {
      "image/png": "[encoded data removed]",
      "text/plain": [
       "<Figure size 432x288 with 1 Axes>"
      ]
     },
     "metadata": {
      "needs_background": "light"
     },
     "output_type": "display_data"
    }
   ],
   "source": [
    "# make datasets\n",
    "X, y = mglearn.datasets.make_forge()\n",
    "\n",
    "# plotting scatter\n",
    "mglearn.discrete_scatter(X[:, 0], X[:, 1], y)\n",
    "plt.title(\"scatter of forge datasets\")\n",
    "plt.legend([\"class 0\", \"class1\"], loc = 4)\n",
    "plt.xlabel(\"1st feature\")\n",
    "plt.ylabel(\"2nd feature\")\n",
    "print(\"X.shape: \", X.shape)"
   ]
  },
  {
   "cell_type": "markdown",
   "id": "e50fd08c",
   "metadata": {},
   "source": [
    "위의 dataset의 shape은 26, 2 이다.\n",
    "\n",
    "회귀 알고리즘에는 인위적으로 만든 wave datasets을 사용한다.\n",
    "\n",
    "wave datasets 은 input feature 1개와 모델링할 target 변수 (또는 응답)을 가진다."
   ]
  },
  {
   "cell_type": "code",
   "execution_count": 3,
   "id": "54464073",
   "metadata": {},
   "outputs": [
    {
     "data": {
      "text/plain": [
       "[<matplotlib.lines.Line2D at 0x25ff72de1f0>]"
      ]
     },
     "execution_count": 3,
     "metadata": {},
     "output_type": "execute_result"
    },
    {
     "data": {
      "text/plain": [
       "(-3.0, 3.0)"
      ]
     },
     "execution_count": 3,
     "metadata": {},
     "output_type": "execute_result"
    },
    {
     "data": {
      "text/plain": [
       "Text(0.5, 0, 'features')"
      ]
     },
     "execution_count": 3,
     "metadata": {},
     "output_type": "execute_result"
    },
    {
     "data": {
      "text/plain": [
       "Text(0, 0.5, 'targets')"
      ]
     },
     "execution_count": 3,
     "metadata": {},
     "output_type": "execute_result"
    },
    {
     "data": {
      "image/png": "[encoded data removed]",
      "text/plain": [
       "<Figure size 432x288 with 1 Axes>"
      ]
     },
     "metadata": {
      "needs_background": "light"
     },
     "output_type": "display_data"
    }
   ],
   "source": [
    "X, y = mglearn.datasets.make_wave(n_samples=40)\n",
    "plt.plot(X, y, 'o')\n",
    "plt.ylim(-3, 3)\n",
    "plt.xlabel(\"features\")\n",
    "plt.ylabel(\"targets\")"
   ]
  },
  {
   "cell_type": "code",
   "execution_count": 4,
   "id": "73edd84c",
   "metadata": {},
   "outputs": [
    {
     "name": "stdout",
     "output_type": "stream",
     "text": [
      "cancer.keys():\n",
      " dict_keys(['data', 'target', 'frame', 'target_names', 'DESCR', 'feature_names', 'filename', 'data_module'])\n"
     ]
    }
   ],
   "source": [
    "from sklearn.datasets import load_breast_cancer\n",
    "cancer = load_breast_cancer()\n",
    "print(\"cancer.keys():\\n\", cancer.keys())\n",
    "# sklearn에 있는 dataset은 bunch 객체이다.\n",
    "# 딕셔너리와 비슷하지만 bunch['key'] 대신 bunch.key 를 사용할 수 있다."
   ]
  },
  {
   "cell_type": "code",
   "execution_count": 5,
   "id": "6b252def",
   "metadata": {},
   "outputs": [
    {
     "name": "stdout",
     "output_type": "stream",
     "text": [
      "(569, 30)\n"
     ]
    }
   ],
   "source": [
    "print(cancer.data.shape)"
   ]
  },
  {
   "cell_type": "code",
   "execution_count": 6,
   "id": "b8860dad",
   "metadata": {},
   "outputs": [
    {
     "name": "stdout",
     "output_type": "stream",
     "text": [
      "# of samples for class\n",
      " {'malignant': 212, 'benign': 357}\n"
     ]
    }
   ],
   "source": [
    "print(\"# of samples for class\\n\",\n",
    "     {n: v for n, v in zip(cancer.target_names, np.bincount(cancer.target))})"
   ]
  },
  {
   "cell_type": "code",
   "execution_count": 7,
   "id": "4e8dd1f9",
   "metadata": {},
   "outputs": [
    {
     "name": "stdout",
     "output_type": "stream",
     "text": [
      "name of features\n",
      " ['mean radius' 'mean texture' 'mean perimeter' 'mean area'\n",
      " 'mean smoothness' 'mean compactness' 'mean concavity'\n",
      " 'mean concave points' 'mean symmetry' 'mean fractal dimension'\n",
      " 'radius error' 'texture error' 'perimeter error' 'area error'\n",
      " 'smoothness error' 'compactness error' 'concavity error'\n",
      " 'concave points error' 'symmetry error' 'fractal dimension error'\n",
      " 'worst radius' 'worst texture' 'worst perimeter' 'worst area'\n",
      " 'worst smoothness' 'worst compactness' 'worst concavity'\n",
      " 'worst concave points' 'worst symmetry' 'worst fractal dimension']\n"
     ]
    }
   ],
   "source": [
    "print(\"name of features\\n\", cancer.feature_names)"
   ]
  },
  {
   "cell_type": "markdown",
   "id": "9a4b5d9e",
   "metadata": {},
   "source": [
    "### boston housing price prediction"
   ]
  },
  {
   "cell_type": "code",
   "execution_count": 8,
   "id": "c9c3f386",
   "metadata": {},
   "outputs": [
    {
     "name": "stdout",
     "output_type": "stream",
     "text": [
      "(506, 13)\n"
     ]
    },
    {
     "name": "stderr",
     "output_type": "stream",
     "text": [
      "C:\\Users\\pc\\anaconda3\\envs\\py\\lib\\site-packages\\sklearn\\utils\\deprecation.py:87: FutureWarning: Function load_boston is deprecated; `load_boston` is deprecated in 1.0 and will be removed in 1.2.\n",
      "\n",
      "    The Boston housing prices dataset has an ethical problem. You can refer to\n",
      "    the documentation of this function for further details.\n",
      "\n",
      "    The scikit-learn maintainers therefore strongly discourage the use of this\n",
      "    dataset unless the purpose of the code is to study and educate about\n",
      "    ethical issues in data science and machine learning.\n",
      "\n",
      "    In this special case, you can fetch the dataset from the original\n",
      "    source::\n",
      "\n",
      "        import pandas as pd\n",
      "        import numpy as np\n",
      "\n",
      "\n",
      "        data_url = \"http://lib.stat.cmu.edu/datasets/boston\"\n",
      "        raw_df = pd.read_csv(data_url, sep=\"\\s+\", skiprows=22, header=None)\n",
      "        data = np.hstack([raw_df.values[::2, :], raw_df.values[1::2, :2]])\n",
      "        target = raw_df.values[1::2, 2]\n",
      "\n",
      "    Alternative datasets include the California housing dataset (i.e.\n",
      "    :func:`~sklearn.datasets.fetch_california_housing`) and the Ames housing\n",
      "    dataset. You can load the datasets as follows::\n",
      "\n",
      "        from sklearn.datasets import fetch_california_housing\n",
      "        housing = fetch_california_housing()\n",
      "\n",
      "    for the California housing dataset and::\n",
      "\n",
      "        from sklearn.datasets import fetch_openml\n",
      "        housing = fetch_openml(name=\"house_prices\", as_frame=True)\n",
      "\n",
      "    for the Ames housing dataset.\n",
      "    \n",
      "  warnings.warn(msg, category=FutureWarning)\n"
     ]
    }
   ],
   "source": [
    "from sklearn.datasets import load_boston\n",
    "boston = load_boston()\n",
    "print(boston.data.shape)"
   ]
  },
  {
   "cell_type": "code",
   "execution_count": 9,
   "id": "6d66f180",
   "metadata": {},
   "outputs": [
    {
     "name": "stdout",
     "output_type": "stream",
     "text": [
      "(506, 104)\n"
     ]
    }
   ],
   "source": [
    "X, y = mglearn.datasets.load_extended_boston()\n",
    "print(X.shape)"
   ]
  },
  {
   "cell_type": "code",
   "execution_count": 10,
   "id": "76521b35",
   "metadata": {},
   "outputs": [
    {
     "name": "stderr",
     "output_type": "stream",
     "text": [
      "C:\\Users\\pc\\anaconda3\\envs\\py\\lib\\site-packages\\sklearn\\utils\\deprecation.py:87: FutureWarning: Function make_blobs is deprecated; Please import make_blobs directly from scikit-learn\n",
      "  warnings.warn(msg, category=FutureWarning)\n"
     ]
    },
    {
     "data": {
      "image/png": "[encoded data removed]",
      "text/plain": [
       "<Figure size 432x288 with 1 Axes>"
      ]
     },
     "metadata": {
      "needs_background": "light"
     },
     "output_type": "display_data"
    }
   ],
   "source": [
    "mglearn.plots.plot_knn_classification(n_neighbors=1)"
   ]
  },
  {
   "cell_type": "code",
   "execution_count": 11,
   "id": "dee35a78",
   "metadata": {},
   "outputs": [
    {
     "name": "stderr",
     "output_type": "stream",
     "text": [
      "C:\\Users\\pc\\anaconda3\\envs\\py\\lib\\site-packages\\sklearn\\utils\\deprecation.py:87: FutureWarning: Function make_blobs is deprecated; Please import make_blobs directly from scikit-learn\n",
      "  warnings.warn(msg, category=FutureWarning)\n"
     ]
    }
   ],
   "source": [
    "from sklearn.model_selection import train_test_split\n",
    "X, y = mglearn.datasets.make_forge()\n",
    "\n",
    "X_train, X_test, y_train, y_test = train_test_split(X, y, random_state=0)"
   ]
  },
  {
   "cell_type": "code",
   "execution_count": 12,
   "id": "7940c29b",
   "metadata": {},
   "outputs": [],
   "source": [
    "from sklearn.neighbors import KNeighborsClassifier\n",
    "clf = KNeighborsClassifier(n_neighbors=3)"
   ]
  },
  {
   "cell_type": "code",
   "execution_count": 13,
   "id": "9bd41da0",
   "metadata": {},
   "outputs": [
    {
     "data": {
      "text/plain": [
       "KNeighborsClassifier(n_neighbors=3)"
      ]
     },
     "execution_count": 13,
     "metadata": {},
     "output_type": "execute_result"
    }
   ],
   "source": [
    "clf.fit(X_train, y_train)"
   ]
  },
  {
   "cell_type": "code",
   "execution_count": 14,
   "id": "e1f03d0b",
   "metadata": {},
   "outputs": [
    {
     "name": "stdout",
     "output_type": "stream",
     "text": [
      "[1 0 1 0 1 0 0]\n"
     ]
    }
   ],
   "source": [
    "print(clf.predict(X_test))"
   ]
  },
  {
   "cell_type": "code",
   "execution_count": 15,
   "id": "4fe8a66e",
   "metadata": {},
   "outputs": [
    {
     "name": "stdout",
     "output_type": "stream",
     "text": [
      "performance: 0.8571428571428571\n"
     ]
    }
   ],
   "source": [
    "print(\"performance:\", clf.score(X_test, y_test))"
   ]
  },
  {
   "cell_type": "code",
   "execution_count": 16,
   "id": "9df2d0dc",
   "metadata": {},
   "outputs": [
    {
     "data": {
      "text/plain": [
       "[<matplotlib.lines.Line2D at 0x25ff747fee0>,\n",
       " <matplotlib.lines.Line2D at 0x25ff7499190>]"
      ]
     },
     "execution_count": 16,
     "metadata": {},
     "output_type": "execute_result"
    },
    {
     "data": {
      "text/plain": [
       "Text(0.5, 1.0, 'neighbors: 1')"
      ]
     },
     "execution_count": 16,
     "metadata": {},
     "output_type": "execute_result"
    },
    {
     "data": {
      "text/plain": [
       "Text(0.5, 0, 'feature 1')"
      ]
     },
     "execution_count": 16,
     "metadata": {},
     "output_type": "execute_result"
    },
    {
     "data": {
      "text/plain": [
       "Text(0, 0.5, 'feature 2')"
      ]
     },
     "execution_count": 16,
     "metadata": {},
     "output_type": "execute_result"
    },
    {
     "data": {
      "text/plain": [
       "[<matplotlib.lines.Line2D at 0x25ff7499ca0>,\n",
       " <matplotlib.lines.Line2D at 0x25ff7499f10>]"
      ]
     },
     "execution_count": 16,
     "metadata": {},
     "output_type": "execute_result"
    },
    {
     "data": {
      "text/plain": [
       "Text(0.5, 1.0, 'neighbors: 3')"
      ]
     },
     "execution_count": 16,
     "metadata": {},
     "output_type": "execute_result"
    },
    {
     "data": {
      "text/plain": [
       "Text(0.5, 0, 'feature 1')"
      ]
     },
     "execution_count": 16,
     "metadata": {},
     "output_type": "execute_result"
    },
    {
     "data": {
      "text/plain": [
       "Text(0, 0.5, 'feature 2')"
      ]
     },
     "execution_count": 16,
     "metadata": {},
     "output_type": "execute_result"
    },
    {
     "data": {
      "text/plain": [
       "[<matplotlib.lines.Line2D at 0x25ff74aa3a0>,\n",
       " <matplotlib.lines.Line2D at 0x25ff74aa220>]"
      ]
     },
     "execution_count": 16,
     "metadata": {},
     "output_type": "execute_result"
    },
    {
     "data": {
      "text/plain": [
       "Text(0.5, 1.0, 'neighbors: 9')"
      ]
     },
     "execution_count": 16,
     "metadata": {},
     "output_type": "execute_result"
    },
    {
     "data": {
      "text/plain": [
       "Text(0.5, 0, 'feature 1')"
      ]
     },
     "execution_count": 16,
     "metadata": {},
     "output_type": "execute_result"
    },
    {
     "data": {
      "text/plain": [
       "Text(0, 0.5, 'feature 2')"
      ]
     },
     "execution_count": 16,
     "metadata": {},
     "output_type": "execute_result"
    },
    {
     "data": {
      "text/plain": [
       "<matplotlib.legend.Legend at 0x25ff747f2e0>"
      ]
     },
     "execution_count": 16,
     "metadata": {},
     "output_type": "execute_result"
    },
    {
     "data": {
      "image/png": "[encoded data removed]",
      "text/plain": [
       "<Figure size 720x216 with 3 Axes>"
      ]
     },
     "metadata": {},
     "output_type": "display_data"
    }
   ],
   "source": [
    "fig, axes = plt.subplots(1, 3, figsize=(10,3))\n",
    "\n",
    "for n_neighbors, ax in zip([1, 3, 9], axes):\n",
    "    clf = KNeighborsClassifier(n_neighbors=n_neighbors).fit(X, y)\n",
    "    mglearn.plots.plot_2d_separator(clf, X, fill=True, eps=0.5, ax=ax, alpha=0.4)\n",
    "    mglearn.discrete_scatter(X[:, 0], X[:, 1], y, ax=ax)\n",
    "    ax.set_title(\"neighbors: {}\".format(n_neighbors))\n",
    "    ax.set_xlabel(\"feature 1\")\n",
    "    ax.set_ylabel(\"feature 2\")\n",
    "axes[0].legend(loc=3)                        "
   ]
  },
  {
   "cell_type": "code",
   "execution_count": 17,
   "id": "a3e88bec",
   "metadata": {},
   "outputs": [],
   "source": [
    "from sklearn.datasets import load_breast_cancer\n",
    "\n",
    "cancer = load_breast_cancer()\n",
    "X_train, X_test, y_train, y_test = train_test_split(\n",
    "    cancer.data, cancer.target, stratify=cancer.target, random_state=66)"
   ]
  },
  {
   "cell_type": "code",
   "execution_count": 18,
   "id": "2e7b68e7",
   "metadata": {},
   "outputs": [
    {
     "data": {
      "text/plain": [
       "KNeighborsClassifier(n_neighbors=1)"
      ]
     },
     "execution_count": 18,
     "metadata": {},
     "output_type": "execute_result"
    },
    {
     "data": {
      "text/plain": [
       "KNeighborsClassifier(n_neighbors=2)"
      ]
     },
     "execution_count": 18,
     "metadata": {},
     "output_type": "execute_result"
    },
    {
     "data": {
      "text/plain": [
       "KNeighborsClassifier(n_neighbors=3)"
      ]
     },
     "execution_count": 18,
     "metadata": {},
     "output_type": "execute_result"
    },
    {
     "data": {
      "text/plain": [
       "KNeighborsClassifier(n_neighbors=4)"
      ]
     },
     "execution_count": 18,
     "metadata": {},
     "output_type": "execute_result"
    },
    {
     "data": {
      "text/plain": [
       "KNeighborsClassifier()"
      ]
     },
     "execution_count": 18,
     "metadata": {},
     "output_type": "execute_result"
    },
    {
     "data": {
      "text/plain": [
       "KNeighborsClassifier(n_neighbors=6)"
      ]
     },
     "execution_count": 18,
     "metadata": {},
     "output_type": "execute_result"
    },
    {
     "data": {
      "text/plain": [
       "KNeighborsClassifier(n_neighbors=7)"
      ]
     },
     "execution_count": 18,
     "metadata": {},
     "output_type": "execute_result"
    },
    {
     "data": {
      "text/plain": [
       "KNeighborsClassifier(n_neighbors=8)"
      ]
     },
     "execution_count": 18,
     "metadata": {},
     "output_type": "execute_result"
    },
    {
     "data": {
      "text/plain": [
       "KNeighborsClassifier(n_neighbors=9)"
      ]
     },
     "execution_count": 18,
     "metadata": {},
     "output_type": "execute_result"
    },
    {
     "data": {
      "text/plain": [
       "KNeighborsClassifier(n_neighbors=10)"
      ]
     },
     "execution_count": 18,
     "metadata": {},
     "output_type": "execute_result"
    }
   ],
   "source": [
    "train_accuracy = []\n",
    "test_accuracy = []\n",
    "# apply n_neighbors 1 to 10\n",
    "neighbors_settings = range(1, 11)\n",
    "\n",
    "for n_neighbors in neighbors_settings:\n",
    "    # create model\n",
    "    clf = KNeighborsClassifier(n_neighbors=n_neighbors)\n",
    "    clf.fit(X_train, y_train)\n",
    "    # store acc of train set\n",
    "    train_accuracy.append(clf.score(X_train, y_train))\n",
    "    # store acc of test set\n",
    "    test_accuracy.append(clf.score(X_test, y_test))"
   ]
  },
  {
   "cell_type": "code",
   "execution_count": 19,
   "id": "0e08ab3c",
   "metadata": {},
   "outputs": [
    {
     "data": {
      "text/plain": [
       "[<matplotlib.lines.Line2D at 0x25f800504c0>]"
      ]
     },
     "execution_count": 19,
     "metadata": {},
     "output_type": "execute_result"
    },
    {
     "data": {
      "text/plain": [
       "[<matplotlib.lines.Line2D at 0x25f80050850>]"
      ]
     },
     "execution_count": 19,
     "metadata": {},
     "output_type": "execute_result"
    },
    {
     "data": {
      "text/plain": [
       "Text(0, 0.5, 'acc')"
      ]
     },
     "execution_count": 19,
     "metadata": {},
     "output_type": "execute_result"
    },
    {
     "data": {
      "text/plain": [
       "Text(0.5, 0, 'n_neighbors')"
      ]
     },
     "execution_count": 19,
     "metadata": {},
     "output_type": "execute_result"
    },
    {
     "data": {
      "text/plain": [
       "<matplotlib.legend.Legend at 0x25f80050700>"
      ]
     },
     "execution_count": 19,
     "metadata": {},
     "output_type": "execute_result"
    },
    {
     "data": {
      "image/png": "[encoded data removed]",
      "text/plain": [
       "<Figure size 432x288 with 1 Axes>"
      ]
     },
     "metadata": {
      "needs_background": "light"
     },
     "output_type": "display_data"
    }
   ],
   "source": [
    "plt.plot(neighbors_settings, train_accuracy, label=\"train acc\")\n",
    "plt.plot(neighbors_settings, test_accuracy, label=\"test acc\")\n",
    "plt.ylabel(\"acc\")\n",
    "plt.xlabel(\"n_neighbors\")\n",
    "plt.legend()"
   ]
  },
  {
   "cell_type": "code",
   "execution_count": 20,
   "id": "fe18ec1e",
   "metadata": {},
   "outputs": [
    {
     "data": {
      "image/png": "[encoded data removed]",
      "text/plain": [
       "<Figure size 720x432 with 1 Axes>"
      ]
     },
     "metadata": {
      "needs_background": "light"
     },
     "output_type": "display_data"
    }
   ],
   "source": [
    "mglearn.plots.plot_knn_regression(n_neighbors=1)"
   ]
  },
  {
   "cell_type": "code",
   "execution_count": 21,
   "id": "5ca618d4",
   "metadata": {},
   "outputs": [
    {
     "data": {
      "image/png": "[encoded data removed]",
      "text/plain": [
       "<Figure size 720x432 with 1 Axes>"
      ]
     },
     "metadata": {
      "needs_background": "light"
     },
     "output_type": "display_data"
    }
   ],
   "source": [
    "mglearn.plots.plot_knn_regression(n_neighbors=3)"
   ]
  },
  {
   "cell_type": "code",
   "execution_count": 22,
   "id": "26a1aeae",
   "metadata": {},
   "outputs": [],
   "source": [
    "from sklearn.neighbors import KNeighborsRegressor"
   ]
  },
  {
   "cell_type": "code",
   "execution_count": 23,
   "id": "759c73c1",
   "metadata": {},
   "outputs": [],
   "source": [
    "X, y = mglearn.datasets.make_wave(n_samples=40)"
   ]
  },
  {
   "cell_type": "code",
   "execution_count": 24,
   "id": "7f385e02",
   "metadata": {},
   "outputs": [],
   "source": [
    "X_train, X_test, y_train, y_test = train_test_split(X, y, random_state=0)\n",
    "reg = KNeighborsRegressor(n_neighbors=3)"
   ]
  },
  {
   "cell_type": "code",
   "execution_count": 25,
   "id": "14e9232a",
   "metadata": {},
   "outputs": [
    {
     "data": {
      "text/plain": [
       "KNeighborsRegressor(n_neighbors=3)"
      ]
     },
     "execution_count": 25,
     "metadata": {},
     "output_type": "execute_result"
    }
   ],
   "source": [
    "reg.fit(X_train, y_train)"
   ]
  },
  {
   "cell_type": "code",
   "execution_count": 26,
   "id": "ba8184ee",
   "metadata": {},
   "outputs": [
    {
     "name": "stdout",
     "output_type": "stream",
     "text": [
      "[-0.05396539  0.35686046  1.13671923 -1.89415682 -1.13881398 -1.63113382\n",
      "  0.35686046  0.91241374 -0.44680446 -1.13881398]\n"
     ]
    }
   ],
   "source": [
    "print(reg.predict(X_test))"
   ]
  },
  {
   "cell_type": "code",
   "execution_count": 27,
   "id": "ec159336",
   "metadata": {},
   "outputs": [
    {
     "name": "stdout",
     "output_type": "stream",
     "text": [
      "0.8344172446249605\n"
     ]
    }
   ],
   "source": [
    "print(reg.score(X_test, y_test))"
   ]
  },
  {
   "cell_type": "code",
   "execution_count": 28,
   "id": "b2e401f8",
   "metadata": {},
   "outputs": [
    {
     "data": {
      "text/plain": [
       "KNeighborsRegressor(n_neighbors=1)"
      ]
     },
     "execution_count": 28,
     "metadata": {},
     "output_type": "execute_result"
    },
    {
     "data": {
      "text/plain": [
       "[<matplotlib.lines.Line2D at 0x25f81417a00>]"
      ]
     },
     "execution_count": 28,
     "metadata": {},
     "output_type": "execute_result"
    },
    {
     "data": {
      "text/plain": [
       "[<matplotlib.lines.Line2D at 0x25f81417fa0>]"
      ]
     },
     "execution_count": 28,
     "metadata": {},
     "output_type": "execute_result"
    },
    {
     "data": {
      "text/plain": [
       "[<matplotlib.lines.Line2D at 0x25f814282b0>]"
      ]
     },
     "execution_count": 28,
     "metadata": {},
     "output_type": "execute_result"
    },
    {
     "data": {
      "text/plain": [
       "Text(0.5, 1.0, '1 neighbors train score: 1.00 test score: 0.35')"
      ]
     },
     "execution_count": 28,
     "metadata": {},
     "output_type": "execute_result"
    },
    {
     "data": {
      "text/plain": [
       "Text(0.5, 0, 'feature')"
      ]
     },
     "execution_count": 28,
     "metadata": {},
     "output_type": "execute_result"
    },
    {
     "data": {
      "text/plain": [
       "Text(0, 0.5, 'target')"
      ]
     },
     "execution_count": 28,
     "metadata": {},
     "output_type": "execute_result"
    },
    {
     "data": {
      "text/plain": [
       "KNeighborsRegressor(n_neighbors=3)"
      ]
     },
     "execution_count": 28,
     "metadata": {},
     "output_type": "execute_result"
    },
    {
     "data": {
      "text/plain": [
       "[<matplotlib.lines.Line2D at 0x25f81428af0>]"
      ]
     },
     "execution_count": 28,
     "metadata": {},
     "output_type": "execute_result"
    },
    {
     "data": {
      "text/plain": [
       "[<matplotlib.lines.Line2D at 0x25f81428d90>]"
      ]
     },
     "execution_count": 28,
     "metadata": {},
     "output_type": "execute_result"
    },
    {
     "data": {
      "text/plain": [
       "[<matplotlib.lines.Line2D at 0x25f81389370>]"
      ]
     },
     "execution_count": 28,
     "metadata": {},
     "output_type": "execute_result"
    },
    {
     "data": {
      "text/plain": [
       "Text(0.5, 1.0, '3 neighbors train score: 0.82 test score: 0.83')"
      ]
     },
     "execution_count": 28,
     "metadata": {},
     "output_type": "execute_result"
    },
    {
     "data": {
      "text/plain": [
       "Text(0.5, 0, 'feature')"
      ]
     },
     "execution_count": 28,
     "metadata": {},
     "output_type": "execute_result"
    },
    {
     "data": {
      "text/plain": [
       "Text(0, 0.5, 'target')"
      ]
     },
     "execution_count": 28,
     "metadata": {},
     "output_type": "execute_result"
    },
    {
     "data": {
      "text/plain": [
       "KNeighborsRegressor(n_neighbors=9)"
      ]
     },
     "execution_count": 28,
     "metadata": {},
     "output_type": "execute_result"
    },
    {
     "data": {
      "text/plain": [
       "[<matplotlib.lines.Line2D at 0x25f813c6f10>]"
      ]
     },
     "execution_count": 28,
     "metadata": {},
     "output_type": "execute_result"
    },
    {
     "data": {
      "text/plain": [
       "[<matplotlib.lines.Line2D at 0x25f8143a3a0>]"
      ]
     },
     "execution_count": 28,
     "metadata": {},
     "output_type": "execute_result"
    },
    {
     "data": {
      "text/plain": [
       "[<matplotlib.lines.Line2D at 0x25f8143a670>]"
      ]
     },
     "execution_count": 28,
     "metadata": {},
     "output_type": "execute_result"
    },
    {
     "data": {
      "text/plain": [
       "Text(0.5, 1.0, '9 neighbors train score: 0.73 test score: 0.65')"
      ]
     },
     "execution_count": 28,
     "metadata": {},
     "output_type": "execute_result"
    },
    {
     "data": {
      "text/plain": [
       "Text(0.5, 0, 'feature')"
      ]
     },
     "execution_count": 28,
     "metadata": {},
     "output_type": "execute_result"
    },
    {
     "data": {
      "text/plain": [
       "Text(0, 0.5, 'target')"
      ]
     },
     "execution_count": 28,
     "metadata": {},
     "output_type": "execute_result"
    },
    {
     "data": {
      "text/plain": [
       "<matplotlib.legend.Legend at 0x25f8249ec10>"
      ]
     },
     "execution_count": 28,
     "metadata": {},
     "output_type": "execute_result"
    },
    {
     "data": {
      "image/png": "[encoded data removed]",
      "text/plain": [
       "<Figure size 1080x288 with 3 Axes>"
      ]
     },
     "metadata": {
      "needs_background": "light"
     },
     "output_type": "display_data"
    }
   ],
   "source": [
    "fig, axes = plt.subplots(1, 3, figsize=(15,4))\n",
    "line = np.linspace(-3, 3, 1000).reshape(-1,1)\n",
    "\n",
    "for n_neighbors, ax in zip([1, 3, 9], axes):\n",
    "    # predict with 1, 3, 9 neighbors\n",
    "    reg = KNeighborsRegressor(n_neighbors=n_neighbors)\n",
    "    reg.fit(X_train, y_train)\n",
    "    ax.plot(line, reg.predict(line))\n",
    "    ax.plot(X_train, y_train, '^', c=mglearn.cm2(0), markersize=8)\n",
    "    ax.plot(X_test, y_test, 'v', c=mglearn.cm2(1), markersize=8)\n",
    "    \n",
    "    ax.set_title(\"{} neighbors train score: {:.2f} test score: {:.2f}\".format(\n",
    "        n_neighbors, reg.score(X_train, y_train),\n",
    "        reg.score(X_test, y_test)))\n",
    "    ax.set_xlabel(\"feature\")\n",
    "    ax.set_ylabel(\"target\")\n",
    "axes[0].legend([\"prediction\", \"train data/target\",\n",
    "               \"test data/target\"], loc=\"best\")"
   ]
  },
  {
   "cell_type": "markdown",
   "id": "c9f5b26a",
   "metadata": {},
   "source": [
    "일반적으로 KN classifier 에 중요한 parameters 는 2개이다.\n",
    "- 데이터 포인트 사이의 거리를 재는 방법\n",
    "- 이웃의 수\n",
    "\n",
    "실제로 이웃의 수는 3개나 5개 정도로 적을 때 잘 작동하지만, 이 매개변수는 잘 조정해야 한다.\n",
    "\n",
    "거리 재는 방법은 보통 여러 환경에서 잘 동작하는 유클리디안 거리 방식을 사용한다."
   ]
  },
  {
   "cell_type": "markdown",
   "id": "e7555784",
   "metadata": {},
   "source": [
    "### linear model\n",
    "input features 에 따른 선형 함수를 만들어 예측을 수행한다."
   ]
  },
  {
   "cell_type": "code",
   "execution_count": 29,
   "id": "b2d09006",
   "metadata": {},
   "outputs": [
    {
     "name": "stdout",
     "output_type": "stream",
     "text": [
      "w[0]: 0.393906  b: -0.031804\n"
     ]
    },
    {
     "data": {
      "image/png": "[encoded data removed]",
      "text/plain": [
       "<Figure size 576x576 with 1 Axes>"
      ]
     },
     "metadata": {
      "needs_background": "light"
     },
     "output_type": "display_data"
    }
   ],
   "source": [
    "mglearn.plots.plot_linear_regression_wave()"
   ]
  },
  {
   "cell_type": "markdown",
   "id": "e35c3af0",
   "metadata": {},
   "source": [
    "회귀를 위한 선형 모델은 특성이 하나일 땐 직선, 두 개일 땐 평면이 되며, 더 높은 차원(features 가 더 많음) 에서는 초평면 hyperplane이 되는 회귀 모델의 특징을 가지고 있다."
   ]
  },
  {
   "cell_type": "markdown",
   "id": "7ada24c3",
   "metadata": {},
   "source": [
    "선형 회귀linear regression 또는 최소제곱법Ordinary Least Squares은 가장 간단하고 오래된 회귀용 선형 알고리즘이다. 선형 회귀는 예측과 훈련 세트에 있는 target y 사이의 평균제곱오차 mean squared error를 최소화하는 파라미터 w 와 b를 찾는다.\n",
    "\n",
    "MSE는 pred와 target 값의 차이의 제곱해 더한 후 샘플의 개수로 나눈 것이다.\n",
    "\n",
    "(pred^2 + target^2) / N\n",
    "\n",
    "선형 회귀는 매개변수가 없는 것이 장점이다. 하지만 모델의 복잡도를 제어할 방법이 없는 것이 단점이다."
   ]
  },
  {
   "cell_type": "code",
   "execution_count": 30,
   "id": "375d1492",
   "metadata": {},
   "outputs": [],
   "source": [
    "from sklearn.linear_model import LinearRegression\n",
    "X, y = mglearn.datasets.make_wave(n_samples=60)\n",
    "X_train, X_test, y_train, y_test = train_test_split(X, y, random_state=42)\n",
    "\n",
    "lr = LinearRegression().fit(X_train, y_train)"
   ]
  },
  {
   "cell_type": "markdown",
   "id": "2ae9083c",
   "metadata": {},
   "source": [
    "기울기 파라미터 w 는 가중치weight 또는 계수coefficient 라고 하며 lr 객체의 coef_ 속성에 저장되어 있다.\n",
    "\n",
    "편향 offset 또는 절편intercept 파라미터 b 는 intercept_ 속성에 저장되어 있다."
   ]
  },
  {
   "cell_type": "code",
   "execution_count": 31,
   "id": "9be93796",
   "metadata": {},
   "outputs": [
    {
     "name": "stdout",
     "output_type": "stream",
     "text": [
      "[0.39390555]\n"
     ]
    }
   ],
   "source": [
    "print(lr.coef_)"
   ]
  },
  {
   "cell_type": "code",
   "execution_count": 32,
   "id": "b56f4aed",
   "metadata": {},
   "outputs": [
    {
     "name": "stdout",
     "output_type": "stream",
     "text": [
      "-0.031804343026759746\n"
     ]
    }
   ],
   "source": [
    "print(lr.intercept_)"
   ]
  },
  {
   "cell_type": "code",
   "execution_count": 33,
   "id": "60d1cb7b",
   "metadata": {},
   "outputs": [
    {
     "name": "stdout",
     "output_type": "stream",
     "text": [
      "0.6700890315075756\n"
     ]
    }
   ],
   "source": [
    "print(lr.score(X_train, y_train))"
   ]
  },
  {
   "cell_type": "code",
   "execution_count": 34,
   "id": "6776f48e",
   "metadata": {},
   "outputs": [
    {
     "name": "stdout",
     "output_type": "stream",
     "text": [
      "0.65933685968637\n"
     ]
    }
   ],
   "source": [
    "print(lr.score(X_test, y_test))"
   ]
  },
  {
   "cell_type": "markdown",
   "id": "45fedd5f",
   "metadata": {},
   "source": [
    "위는 훈련할 features 가 적어서 underfitting 이 일어났다.\n",
    "\n",
    "아래는 보스턴 주택가격 데이터셋같은 복잡한 데이터셋에서 어떻게 동작하는지 보여준다."
   ]
  },
  {
   "cell_type": "code",
   "execution_count": 35,
   "id": "fb67ba3d",
   "metadata": {
    "scrolled": true
   },
   "outputs": [
    {
     "name": "stderr",
     "output_type": "stream",
     "text": [
      "C:\\Users\\pc\\anaconda3\\envs\\py\\lib\\site-packages\\sklearn\\utils\\deprecation.py:87: FutureWarning: Function load_boston is deprecated; `load_boston` is deprecated in 1.0 and will be removed in 1.2.\n",
      "\n",
      "    The Boston housing prices dataset has an ethical problem. You can refer to\n",
      "    the documentation of this function for further details.\n",
      "\n",
      "    The scikit-learn maintainers therefore strongly discourage the use of this\n",
      "    dataset unless the purpose of the code is to study and educate about\n",
      "    ethical issues in data science and machine learning.\n",
      "\n",
      "    In this special case, you can fetch the dataset from the original\n",
      "    source::\n",
      "\n",
      "        import pandas as pd\n",
      "        import numpy as np\n",
      "\n",
      "\n",
      "        data_url = \"http://lib.stat.cmu.edu/datasets/boston\"\n",
      "        raw_df = pd.read_csv(data_url, sep=\"\\s+\", skiprows=22, header=None)\n",
      "        data = np.hstack([raw_df.values[::2, :], raw_df.values[1::2, :2]])\n",
      "        target = raw_df.values[1::2, 2]\n",
      "\n",
      "    Alternative datasets include the California housing dataset (i.e.\n",
      "    :func:`~sklearn.datasets.fetch_california_housing`) and the Ames housing\n",
      "    dataset. You can load the datasets as follows::\n",
      "\n",
      "        from sklearn.datasets import fetch_california_housing\n",
      "        housing = fetch_california_housing()\n",
      "\n",
      "    for the California housing dataset and::\n",
      "\n",
      "        from sklearn.datasets import fetch_openml\n",
      "        housing = fetch_openml(name=\"house_prices\", as_frame=True)\n",
      "\n",
      "    for the Ames housing dataset.\n",
      "    \n",
      "  warnings.warn(msg, category=FutureWarning)\n"
     ]
    }
   ],
   "source": [
    "X, y = mglearn.datasets.load_extended_boston()"
   ]
  },
  {
   "cell_type": "code",
   "execution_count": 36,
   "id": "da4b1339",
   "metadata": {},
   "outputs": [],
   "source": [
    "X_train, X_test, y_train, y_test = train_test_split(X, y, random_state=0)\n",
    "lr = LinearRegression().fit(X_train, y_train)"
   ]
  },
  {
   "cell_type": "code",
   "execution_count": 37,
   "id": "759aa1fc",
   "metadata": {},
   "outputs": [
    {
     "name": "stdout",
     "output_type": "stream",
     "text": [
      "0.9520519609032729\n"
     ]
    }
   ],
   "source": [
    "print(lr.score(X_train, y_train))"
   ]
  },
  {
   "cell_type": "code",
   "execution_count": 38,
   "id": "e17c99a6",
   "metadata": {},
   "outputs": [
    {
     "name": "stdout",
     "output_type": "stream",
     "text": [
      "0.6074721959665943\n"
     ]
    }
   ],
   "source": [
    "print(lr.score(X_test, y_test))"
   ]
  },
  {
   "cell_type": "markdown",
   "id": "2a380a59",
   "metadata": {},
   "source": [
    "모델이 overfitting 되었다.\n",
    "\n",
    "따라서 복잡도를 제어할 수 있는 모델을 사용해야 한다.\n",
    "\n",
    "기본 선형 회구 방식 대신 가장 널리 쓰이는 모델은 리지 회귀이다."
   ]
  },
  {
   "cell_type": "markdown",
   "id": "c2bcc5bd",
   "metadata": {},
   "source": [
    "### 리지 회귀\n",
    "리지Ridge 도 회귀를 위한 선형 모델이기에 최소적합법에서 사용한 것과 가은 예측 함수를 사용한다. 하지만 리지 회귀에서의 가중치 w 선택은 훈련 데이터를 잘 예측하기 위해서 뿐만 아니라 추가 제약 조건을 만족시키기 위한 목적도 있다. \n",
    "\n",
    "가중치의 절댓값을 가능한 작게 만드는 것이다. 다시 말해 w의 모든 원소가 0에 가깝게 되길 원한다.\n",
    "\n",
    "직관적으로 생각하면 이는 모든 특성이 출력에 주는 영향을 최소한으로 만든다(기울기를 작게 만든다).\n",
    "\n",
    "이런 제약을 규제regularization 라고 한다. regularization은 overfitting 되지 않도록 모델을 강제로 제한하는 것이다. \n",
    "\n",
    "ridge regression에 사용하는 regularization 방식을 L2 regularization 이라고 한다."
   ]
  },
  {
   "cell_type": "code",
   "execution_count": 39,
   "id": "6f114374",
   "metadata": {},
   "outputs": [],
   "source": [
    "from sklearn.linear_model import Ridge"
   ]
  },
  {
   "cell_type": "code",
   "execution_count": 40,
   "id": "786b370f",
   "metadata": {},
   "outputs": [],
   "source": [
    "ridge = Ridge().fit(X_train, y_train)"
   ]
  },
  {
   "cell_type": "code",
   "execution_count": 41,
   "id": "e89b66bf",
   "metadata": {},
   "outputs": [
    {
     "name": "stdout",
     "output_type": "stream",
     "text": [
      "0.885796658517094\n"
     ]
    }
   ],
   "source": [
    "print(ridge.score(X_train, y_train))"
   ]
  },
  {
   "cell_type": "code",
   "execution_count": 42,
   "id": "a2cb5e47",
   "metadata": {},
   "outputs": [
    {
     "name": "stdout",
     "output_type": "stream",
     "text": [
      "0.7527683481744751\n"
     ]
    }
   ],
   "source": [
    "print(ridge.score(X_test, y_test))"
   ]
  },
  {
   "cell_type": "markdown",
   "id": "0fcc4c96",
   "metadata": {},
   "source": [
    "ridge 는 모델을 단순하게(계수를 0에 가깝게) 해주고 train set 에 대한 성능 사이를 절충하는 법을 제공한다.\n",
    "\n",
    "사용자는 alpha 매개변수로 훈련 셋의 성능 대비 모델을 얼마나 단순화할지를 지정할 수 있다.\n",
    "\n",
    "위에선 default 값인 alpha=1 을 사용했다.\n",
    "\n",
    "최적의 alpha 값은 사용하는 데이터셋마다 다르므로 잘 찾아야 한다.\n",
    "\n",
    "alpha 값을 높이면 계수를 0에 더 가깝게 만들어서 훈련 셋의 성능은 나빠지지만 일반화에 도움을 줄 수 있다."
   ]
  },
  {
   "cell_type": "code",
   "execution_count": 43,
   "id": "f3f079d4",
   "metadata": {},
   "outputs": [
    {
     "name": "stdout",
     "output_type": "stream",
     "text": [
      "0.7882787115369614\n",
      "0.6359411489177309\n"
     ]
    }
   ],
   "source": [
    "ridge10 = Ridge(alpha=10).fit(X_train, y_train)\n",
    "print(ridge10.score(X_train, y_train))\n",
    "print(ridge10.score(X_test, y_test))"
   ]
  },
  {
   "cell_type": "code",
   "execution_count": 44,
   "id": "f1e3f509",
   "metadata": {},
   "outputs": [
    {
     "name": "stdout",
     "output_type": "stream",
     "text": [
      "0.9282273685001989\n",
      "0.7722067936479802\n"
     ]
    }
   ],
   "source": [
    "ridge01 = Ridge(alpha=0.1).fit(X_train, y_train)\n",
    "print(ridge01.score(X_train, y_train))\n",
    "print(ridge01.score(X_test, y_test))"
   ]
  },
  {
   "cell_type": "code",
   "execution_count": 45,
   "id": "dd88dad4",
   "metadata": {},
   "outputs": [
    {
     "data": {
      "text/plain": [
       "[<matplotlib.lines.Line2D at 0x25f82612280>]"
      ]
     },
     "execution_count": 45,
     "metadata": {},
     "output_type": "execute_result"
    },
    {
     "data": {
      "text/plain": [
       "[<matplotlib.lines.Line2D at 0x25f826128b0>]"
      ]
     },
     "execution_count": 45,
     "metadata": {},
     "output_type": "execute_result"
    },
    {
     "data": {
      "text/plain": [
       "[<matplotlib.lines.Line2D at 0x25f82612af0>]"
      ]
     },
     "execution_count": 45,
     "metadata": {},
     "output_type": "execute_result"
    },
    {
     "data": {
      "text/plain": [
       "<matplotlib.legend.Legend at 0x25f8250e0d0>"
      ]
     },
     "execution_count": 45,
     "metadata": {},
     "output_type": "execute_result"
    },
    {
     "data": {
      "image/png": "[encoded data removed]",
      "text/plain": [
       "<Figure size 432x288 with 1 Axes>"
      ]
     },
     "metadata": {
      "needs_background": "light"
     },
     "output_type": "display_data"
    }
   ],
   "source": [
    "plt.plot(ridge10.coef_, '^', label=\"Ridge alpha=10\")\n",
    "plt.plot(ridge.coef_, 's', label=\"Ridge alpha=1\")\n",
    "plt.plot(ridge01.coef_, 'v', label=\"Ridge alpha=0.1\")\n",
    "plt.legend()"
   ]
  },
  {
   "cell_type": "markdown",
   "id": "5dda5cbb",
   "metadata": {},
   "source": [
    "alpha 값이 커질수록 일반화가 잘 되었고, alpha 값이 작아질 수록 일반화가 잘 되지 않는다. 일반선형회귀는 alpha 값이 0이다.\n",
    "\n",
    "아래는 데이터셋의 크기에 따른 모델의 성능 변화를 나타낸 그래프, 학습곡선 learning curve이다."
   ]
  },
  {
   "cell_type": "code",
   "execution_count": 46,
   "id": "eb7fd2e2",
   "metadata": {},
   "outputs": [
    {
     "name": "stderr",
     "output_type": "stream",
     "text": [
      "C:\\Users\\pc\\anaconda3\\envs\\py\\lib\\site-packages\\sklearn\\utils\\deprecation.py:87: FutureWarning: Function load_boston is deprecated; `load_boston` is deprecated in 1.0 and will be removed in 1.2.\n",
      "\n",
      "    The Boston housing prices dataset has an ethical problem. You can refer to\n",
      "    the documentation of this function for further details.\n",
      "\n",
      "    The scikit-learn maintainers therefore strongly discourage the use of this\n",
      "    dataset unless the purpose of the code is to study and educate about\n",
      "    ethical issues in data science and machine learning.\n",
      "\n",
      "    In this special case, you can fetch the dataset from the original\n",
      "    source::\n",
      "\n",
      "        import pandas as pd\n",
      "        import numpy as np\n",
      "\n",
      "\n",
      "        data_url = \"http://lib.stat.cmu.edu/datasets/boston\"\n",
      "        raw_df = pd.read_csv(data_url, sep=\"\\s+\", skiprows=22, header=None)\n",
      "        data = np.hstack([raw_df.values[::2, :], raw_df.values[1::2, :2]])\n",
      "        target = raw_df.values[1::2, 2]\n",
      "\n",
      "    Alternative datasets include the California housing dataset (i.e.\n",
      "    :func:`~sklearn.datasets.fetch_california_housing`) and the Ames housing\n",
      "    dataset. You can load the datasets as follows::\n",
      "\n",
      "        from sklearn.datasets import fetch_california_housing\n",
      "        housing = fetch_california_housing()\n",
      "\n",
      "    for the California housing dataset and::\n",
      "\n",
      "        from sklearn.datasets import fetch_openml\n",
      "        housing = fetch_openml(name=\"house_prices\", as_frame=True)\n",
      "\n",
      "    for the Ames housing dataset.\n",
      "    \n",
      "  warnings.warn(msg, category=FutureWarning)\n"
     ]
    },
    {
     "data": {
      "image/png": "[encoded data removed]",
      "text/plain": [
       "<Figure size 432x288 with 1 Axes>"
      ]
     },
     "metadata": {
      "needs_background": "light"
     },
     "output_type": "display_data"
    }
   ],
   "source": [
    "mglearn.plots.plot_ridge_n_samples()"
   ]
  },
  {
   "cell_type": "code",
   "execution_count": 47,
   "id": "d7b478c6",
   "metadata": {},
   "outputs": [],
   "source": [
    "# learning curve of ridge and linear for boston housing price datasets"
   ]
  },
  {
   "cell_type": "code",
   "execution_count": 48,
   "id": "50403705",
   "metadata": {},
   "outputs": [],
   "source": [
    "# important thing\n",
    "# if there is many datas, no more efficiency from regularizations"
   ]
  },
  {
   "cell_type": "markdown",
   "id": "188721e7",
   "metadata": {},
   "source": [
    "### 라소 Lasso\n",
    "ridge 회귀에서와 같이 lasso 도 계수를 0에 가깝게 만드려고 한다. 하지만 방식이 조금 다르다. 이를 L1 regularization 이라 한다. \n",
    "\n",
    "L1 규제의 결과로 lasso 를 사용할 때 어떤 계수는 정말 0이 된다. 즉, 모델에서 완전히 제외되는 특성이 생긴다는 것이다. 어찌보면 특성 선택 feature selection이 자동으로 이워진다고 볼 수 있다. 일부 계수를 0으로 만들면 모델을 이해하기 쉬워지고 이 모델의 가장 중요한 특성이 무엇인지 드러내준다.\n",
    "\n",
    "아래는 확장된 보스턴 주택가격 데이터셋에 라소를 적용한 것이다."
   ]
  },
  {
   "cell_type": "code",
   "execution_count": 49,
   "id": "0cc1d411",
   "metadata": {},
   "outputs": [
    {
     "name": "stdout",
     "output_type": "stream",
     "text": [
      "train set acc\n",
      "0.29323768991114607\n"
     ]
    }
   ],
   "source": [
    "from sklearn.linear_model import Lasso\n",
    "\n",
    "lasso = Lasso().fit(X_train,y_train)\n",
    "print(\"train set acc\")\n",
    "print(lasso.score(X_train,y_train))"
   ]
  },
  {
   "cell_type": "code",
   "execution_count": 50,
   "id": "0c5edb00",
   "metadata": {},
   "outputs": [
    {
     "name": "stdout",
     "output_type": "stream",
     "text": [
      "test set acc\n",
      "0.20937503255272294\n"
     ]
    }
   ],
   "source": [
    "print(\"test set acc\")\n",
    "print(lasso.score(X_test, y_test))"
   ]
  },
  {
   "cell_type": "code",
   "execution_count": 51,
   "id": "1536cfe3",
   "metadata": {},
   "outputs": [
    {
     "name": "stdout",
     "output_type": "stream",
     "text": [
      "used features are\n",
      "4\n"
     ]
    }
   ],
   "source": [
    "print(\"used features are\")\n",
    "print(np.sum(lasso.coef_ != 0))"
   ]
  },
  {
   "cell_type": "markdown",
   "id": "37630732",
   "metadata": {},
   "source": [
    "lasso는 train set test set 모두 결과가 좋지 않다. 이는 underfitting 이다.\n",
    "104개의 특성 중 4개만 사용한 것을 볼 수 있다.\n",
    "\n",
    "ridge와 마찬가지로 lasso도 계수를 얼마나 강하게 0으로 보낼지 조절하는 alpha 매개변수를 지원한다.\n",
    "\n",
    "underfitting 을 줄이기 위해 alpha 값을 줄여보겠다. 이렇게 한다면 max_iter(반복 실행 최대 횟수)의 기본값을 늘려야 한다."
   ]
  },
  {
   "cell_type": "code",
   "execution_count": 52,
   "id": "14315638",
   "metadata": {},
   "outputs": [
    {
     "name": "stdout",
     "output_type": "stream",
     "text": [
      "0.8962226511086497\n"
     ]
    }
   ],
   "source": [
    "lasso001 = Lasso(alpha=0.01, max_iter=100000).fit(X_train, y_train)\n",
    "print(lasso001.score(X_train, y_train))"
   ]
  },
  {
   "cell_type": "code",
   "execution_count": 53,
   "id": "b5fb3f53",
   "metadata": {},
   "outputs": [
    {
     "name": "stdout",
     "output_type": "stream",
     "text": [
      "0.7656571174549981\n"
     ]
    }
   ],
   "source": [
    "print(lasso001.score(X_test, y_test))"
   ]
  },
  {
   "cell_type": "code",
   "execution_count": 54,
   "id": "62a0dc01",
   "metadata": {},
   "outputs": [
    {
     "name": "stdout",
     "output_type": "stream",
     "text": [
      "33\n"
     ]
    }
   ],
   "source": [
    "print(np.sum(lasso001.coef_ != 0))"
   ]
  },
  {
   "cell_type": "markdown",
   "id": "5c4412a8",
   "metadata": {},
   "source": [
    "alpha 값을 낮추면 모델의 복잡도가 증가해 성능이 증가하낟.\n",
    "\n",
    "ridge 보다 성능은 잘 나왔으며, 특성이 33개 뿐이라 모델을 분석하기 쉽다.\n",
    "\n",
    "alpha 값을 너무 낮추면 regularization 효과가 없어져 overfitting 되므로 linear regression 결과와 비슷해진다."
   ]
  },
  {
   "cell_type": "code",
   "execution_count": 55,
   "id": "74eb39ec",
   "metadata": {},
   "outputs": [
    {
     "name": "stdout",
     "output_type": "stream",
     "text": [
      "0.9515087977585441\n"
     ]
    },
    {
     "name": "stderr",
     "output_type": "stream",
     "text": [
      "C:\\Users\\pc\\anaconda3\\envs\\py\\lib\\site-packages\\sklearn\\linear_model\\_coordinate_descent.py:647: ConvergenceWarning: Objective did not converge. You might want to increase the number of iterations, check the scale of the features or consider increasing regularisation. Duality gap: 4.958e+01, tolerance: 3.233e+00\n",
      "  model = cd_fast.enet_coordinate_descent(\n"
     ]
    }
   ],
   "source": [
    "lasso00001 = Lasso(alpha=0.00001, max_iter=100000).fit(X_train, y_train)\n",
    "print(lasso00001.score(X_train, y_train))"
   ]
  },
  {
   "cell_type": "code",
   "execution_count": 56,
   "id": "54e72c81",
   "metadata": {},
   "outputs": [
    {
     "name": "stdout",
     "output_type": "stream",
     "text": [
      "0.6193582257352681\n"
     ]
    }
   ],
   "source": [
    "print(lasso00001.score(X_test, y_test))"
   ]
  },
  {
   "cell_type": "code",
   "execution_count": 57,
   "id": "3ddd074a",
   "metadata": {},
   "outputs": [
    {
     "name": "stdout",
     "output_type": "stream",
     "text": [
      "103\n"
     ]
    }
   ],
   "source": [
    "print(np.sum(lasso00001.coef_ != 0))"
   ]
  },
  {
   "cell_type": "code",
   "execution_count": 58,
   "id": "7d539f45",
   "metadata": {},
   "outputs": [
    {
     "name": "stdout",
     "output_type": "stream",
     "text": [
      "plotting coefficient for each lasso models\n"
     ]
    },
    {
     "data": {
      "text/plain": [
       "[<matplotlib.lines.Line2D at 0x25ff738c790>]"
      ]
     },
     "execution_count": 58,
     "metadata": {},
     "output_type": "execute_result"
    },
    {
     "data": {
      "text/plain": [
       "[<matplotlib.lines.Line2D at 0x25ff738c280>]"
      ]
     },
     "execution_count": 58,
     "metadata": {},
     "output_type": "execute_result"
    },
    {
     "data": {
      "text/plain": [
       "[<matplotlib.lines.Line2D at 0x25ff738c7c0>]"
      ]
     },
     "execution_count": 58,
     "metadata": {},
     "output_type": "execute_result"
    },
    {
     "data": {
      "text/plain": [
       "[<matplotlib.lines.Line2D at 0x25ff738cb20>]"
      ]
     },
     "execution_count": 58,
     "metadata": {},
     "output_type": "execute_result"
    },
    {
     "data": {
      "image/png": "[encoded data removed]",
      "text/plain": [
       "<Figure size 432x288 with 1 Axes>"
      ]
     },
     "metadata": {
      "needs_background": "light"
     },
     "output_type": "display_data"
    }
   ],
   "source": [
    "print(\"plotting coefficient for each lasso models\")\n",
    "plt.plot(lasso.coef_, 's', label=\"Lasso alpha=1\")\n",
    "plt.plot(lasso001.coef_, '^', label=\"Lasso alpha=0.001\")\n",
    "plt.plot(lasso00001.coef_, 'v', label=\"Lasso alpha=0.00001\")\n",
    "plt.plot(ridge01.coef_, 'o', label=\"Ridge alpha=0.1\")"
   ]
  },
  {
   "cell_type": "markdown",
   "id": "54bfa08d",
   "metadata": {},
   "source": [
    "alpha=0.1 Ridge model은 alpha=0.01 Lasso model 과 성능이 비슷하지만 Ridge를 사용하면 어떤 계수도 0이 되지 않는다.\n",
    "\n",
    "실제로 이 두 모델 중 Ridge model을 더 선호한다.\n",
    "\n",
    "하지만 특성이 많고 그 중 이부분만 중요하다면 Lasso 가 더 좋은 선택일 수 있다.\n",
    "\n",
    "sklearn은 L1, L2 를 결합한 ElasticNet 도 제공한다. "
   ]
  },
  {
   "cell_type": "markdown",
   "id": "8cf4335e",
   "metadata": {},
   "source": [
    "### 분류용 선형 모델\n",
    "#### 이진 분류 binary classification\n",
    "회귀용 선형 모델에서는 출력 y^이 특성의 선형 함수였다. 즉 직선, 평면, 초평면이다.\n",
    "분류용 선형 모델에서 입력의 선형 함수는 결정 경계를 나타낸다.\n",
    "\n",
    "다른 말로하면 이진 선형 분류기는 선, 평면, 초평면을 사용해서 두 개의 클래스를 구분하는 분류기이다.\n",
    "\n",
    "선형 모델을 학습시키는 알고리즘을 다양하다. 아래는 분류 기준이다.\n",
    "- 특정 계수와 절편의 조합이 훈련 데이터에 얼마나 잘 맞는지 측정하는 방법\n",
    "- 사용할 수 있는 규제가 있는지, 있다면 어떤 방식인지\n"
   ]
  },
  {
   "cell_type": "markdown",
   "id": "25e8de16",
   "metadata": {},
   "source": [
    "가장 널리 알려진 두 개의 선형 분유 알고리즘은 linear_model.LogisticRegression에 구현된 logistic regression과 svm.LinearSVC (Support Vector Classifier) 에 구현된 suport vector machine 이다. \n",
    "\n",
    "LogisticRegression은 이름에 Regression이 들어가지만 회귀 알고리즘이 아니라 분류 알고리즘이므로 LinearRegression과 혼동하면 안 된다.\n",
    "\n",
    "아래는 forge datasets을 이용한 LogisticRegression과 LinearSVC 모델이다."
   ]
  },
  {
   "cell_type": "code",
   "execution_count": 59,
   "id": "9a541897",
   "metadata": {},
   "outputs": [],
   "source": [
    "from sklearn.linear_model import LogisticRegression\n",
    "from sklearn.svm import LinearSVC"
   ]
  },
  {
   "cell_type": "code",
   "execution_count": 60,
   "id": "6d504e71",
   "metadata": {},
   "outputs": [
    {
     "name": "stderr",
     "output_type": "stream",
     "text": [
      "C:\\Users\\pc\\anaconda3\\envs\\py\\lib\\site-packages\\sklearn\\utils\\deprecation.py:87: FutureWarning: Function make_blobs is deprecated; Please import make_blobs directly from scikit-learn\n",
      "  warnings.warn(msg, category=FutureWarning)\n"
     ]
    },
    {
     "data": {
      "text/plain": [
       "[<matplotlib.lines.Line2D at 0x25ff73382b0>,\n",
       " <matplotlib.lines.Line2D at 0x25ff7338a90>]"
      ]
     },
     "execution_count": 60,
     "metadata": {},
     "output_type": "execute_result"
    },
    {
     "data": {
      "text/plain": [
       "Text(0.5, 1.0, 'LinearSVC')"
      ]
     },
     "execution_count": 60,
     "metadata": {},
     "output_type": "execute_result"
    },
    {
     "data": {
      "text/plain": [
       "[<matplotlib.lines.Line2D at 0x25ff7338d30>,\n",
       " <matplotlib.lines.Line2D at 0x25f825128e0>]"
      ]
     },
     "execution_count": 60,
     "metadata": {},
     "output_type": "execute_result"
    },
    {
     "data": {
      "text/plain": [
       "Text(0.5, 1.0, 'LogisticRegression')"
      ]
     },
     "execution_count": 60,
     "metadata": {},
     "output_type": "execute_result"
    },
    {
     "data": {
      "text/plain": [
       "<matplotlib.legend.Legend at 0x25f824f3670>"
      ]
     },
     "execution_count": 60,
     "metadata": {},
     "output_type": "execute_result"
    },
    {
     "data": {
      "image/png": "[encoded data removed]",
      "text/plain": [
       "<Figure size 720x216 with 2 Axes>"
      ]
     },
     "metadata": {},
     "output_type": "display_data"
    }
   ],
   "source": [
    "X, y = mglearn.datasets.make_forge()\n",
    "fig, axes = plt.subplots(1, 2, figsize=(10,3))\n",
    "\n",
    "for model, ax in zip([LinearSVC(max_iter=5000), LogisticRegression()], axes):\n",
    "    clf = model.fit(X, y)\n",
    "    mglearn.plots.plot_2d_separator(clf, X, fill=False, eps=0.5,\n",
    "                                   ax=ax, alpha=0.7)\n",
    "    mglearn.discrete_scatter(X[:,0], X[:,1], y, ax=ax)\n",
    "    ax.set_title(clf.__class__.__name__)\n",
    "axes[0].legend()"
   ]
  },
  {
   "cell_type": "markdown",
   "id": "3992b680",
   "metadata": {},
   "source": [
    "LogisticRegession과 LinearSVC에서 규제의 강도를 결정하는 매개변수는 C이다. C의 값이 높아지면 규제가 감소한다.\n",
    "\n",
    "높은 C 값을 설정하면 이들은 훈련 셋에 가능한 최대로 맞추려 하고, 반면에 C 값을 낮추면 모델은 계수 벡터 w 가 0에 가까워지도록 만든다.\n",
    "\n",
    "C의 작동 방식을 다르게 설명할 수도 있다.\n",
    "\n",
    "C의 값이 낮아지면 데이터 포인트 중 다수에 맞추려고 하는 반면, C의 값을 높이면 개개의 데이터 포인트를 정확히 분류하려고 노력할 것이다."
   ]
  },
  {
   "cell_type": "code",
   "execution_count": 61,
   "id": "fc5884d4",
   "metadata": {},
   "outputs": [
    {
     "data": {
      "image/png": "[encoded data removed]",
      "text/plain": [
       "<Figure size 864x288 with 3 Axes>"
      ]
     },
     "metadata": {},
     "output_type": "display_data"
    }
   ],
   "source": [
    "mglearn.plots.plot_linear_svc_regularization()"
   ]
  },
  {
   "cell_type": "markdown",
   "id": "ec8ee7ee",
   "metadata": {},
   "source": [
    "오른쪽 모델은 overfitting 되었다."
   ]
  },
  {
   "cell_type": "markdown",
   "id": "99bc6b38",
   "metadata": {},
   "source": [
    "유방암 데이터셋을 사용해서 LogisticRegression을 좀더 자세히 보겠다."
   ]
  },
  {
   "cell_type": "code",
   "execution_count": 62,
   "id": "410edb33",
   "metadata": {},
   "outputs": [],
   "source": [
    "from sklearn.datasets import load_breast_cancer"
   ]
  },
  {
   "cell_type": "code",
   "execution_count": 63,
   "id": "2fbada62",
   "metadata": {},
   "outputs": [
    {
     "name": "stdout",
     "output_type": "stream",
     "text": [
      "train set\n",
      "0.9577464788732394\n",
      "test set\n",
      "0.958041958041958\n"
     ]
    }
   ],
   "source": [
    "cancer = load_breast_cancer()\n",
    "X_train, X_test, y_train,y_test = train_test_split(\n",
    "    cancer.data, cancer.target, stratify=cancer.target, random_state=42)\n",
    "\n",
    "# C=1 default\n",
    "logreg = LogisticRegression(max_iter=5000).fit(X_train,y_train)\n",
    "print(\"train set\")\n",
    "print(logreg.score(X_train,y_train))\n",
    "print(\"test set\")\n",
    "print(logreg.score(X_test, y_test))"
   ]
  },
  {
   "cell_type": "code",
   "execution_count": 64,
   "id": "f74a0435",
   "metadata": {},
   "outputs": [
    {
     "name": "stdout",
     "output_type": "stream",
     "text": [
      "0.9835680751173709\n",
      "0.965034965034965\n"
     ]
    },
    {
     "name": "stderr",
     "output_type": "stream",
     "text": [
      "C:\\Users\\pc\\anaconda3\\envs\\py\\lib\\site-packages\\sklearn\\linear_model\\_logistic.py:814: ConvergenceWarning: lbfgs failed to converge (status=1):\n",
      "STOP: TOTAL NO. of ITERATIONS REACHED LIMIT.\n",
      "\n",
      "Increase the number of iterations (max_iter) or scale the data as shown in:\n",
      "    https://scikit-learn.org/stable/modules/preprocessing.html\n",
      "Please also refer to the documentation for alternative solver options:\n",
      "    https://scikit-learn.org/stable/modules/linear_model.html#logistic-regression\n",
      "  n_iter_i = _check_optimize_result(\n"
     ]
    }
   ],
   "source": [
    "logreg100  = LogisticRegression(C=100, max_iter=5000).fit(X_train,y_train)\n",
    "print(logreg100.score(X_train, y_train))\n",
    "print(logreg100.score(X_test, y_test))"
   ]
  },
  {
   "cell_type": "markdown",
   "id": "9cf9abfc",
   "metadata": {},
   "source": [
    "C=100을 사용하니 전체적인 정확도가 높아졌다. 이는 복잡도가 높은 모델일수록 서능이 좋음을 말해준다.\n",
    "\n",
    "아래는 C=0.01을 사용한 결과이다."
   ]
  },
  {
   "cell_type": "code",
   "execution_count": 65,
   "id": "df9fa13a",
   "metadata": {},
   "outputs": [
    {
     "name": "stdout",
     "output_type": "stream",
     "text": [
      "train set\n",
      "0.9530516431924883\n",
      "test set\n",
      "0.951048951048951\n"
     ]
    }
   ],
   "source": [
    "logreg001 = LogisticRegression(C=0.01, max_iter=5000).fit(X_train,y_train)\n",
    "print(\"train set\")\n",
    "print(logreg001.score(X_train, y_train))\n",
    "print(\"test set\")\n",
    "print(logreg001.score(X_test, y_test))"
   ]
  },
  {
   "cell_type": "markdown",
   "id": "38c80958",
   "metadata": {},
   "source": [
    "이미 underfitting 된 모델에서 더 규제를 가했으므로정확도가 더욱 감소한다."
   ]
  },
  {
   "cell_type": "code",
   "execution_count": 66,
   "id": "7221fb6e",
   "metadata": {},
   "outputs": [
    {
     "data": {
      "text/plain": [
       "[<matplotlib.lines.Line2D at 0x25f846a6bb0>]"
      ]
     },
     "execution_count": 66,
     "metadata": {},
     "output_type": "execute_result"
    },
    {
     "data": {
      "text/plain": [
       "[<matplotlib.lines.Line2D at 0x25f846a6f70>]"
      ]
     },
     "execution_count": 66,
     "metadata": {},
     "output_type": "execute_result"
    },
    {
     "data": {
      "text/plain": [
       "[<matplotlib.lines.Line2D at 0x25f846b21f0>]"
      ]
     },
     "execution_count": 66,
     "metadata": {},
     "output_type": "execute_result"
    },
    {
     "data": {
      "text/plain": [
       "([<matplotlib.axis.XTick at 0x25f84682850>,\n",
       "  <matplotlib.axis.XTick at 0x25f84682820>,\n",
       "  <matplotlib.axis.XTick at 0x25f825f5d60>,\n",
       "  <matplotlib.axis.XTick at 0x25f846b29d0>,\n",
       "  <matplotlib.axis.XTick at 0x25f846b2e50>,\n",
       "  <matplotlib.axis.XTick at 0x25f846bd5e0>,\n",
       "  <matplotlib.axis.XTick at 0x25f846bdd30>,\n",
       "  <matplotlib.axis.XTick at 0x25f846c34c0>,\n",
       "  <matplotlib.axis.XTick at 0x25f846c3c10>,\n",
       "  <matplotlib.axis.XTick at 0x25f846c83a0>,\n",
       "  <matplotlib.axis.XTick at 0x25f846c3d00>,\n",
       "  <matplotlib.axis.XTick at 0x25f846bd9d0>,\n",
       "  <matplotlib.axis.XTick at 0x25f846c89d0>,\n",
       "  <matplotlib.axis.XTick at 0x25f846d1160>,\n",
       "  <matplotlib.axis.XTick at 0x25f846d18b0>,\n",
       "  <matplotlib.axis.XTick at 0x25f846d2040>,\n",
       "  <matplotlib.axis.XTick at 0x25f846d2790>,\n",
       "  <matplotlib.axis.XTick at 0x25f846d19a0>,\n",
       "  <matplotlib.axis.XTick at 0x25f846bd280>,\n",
       "  <matplotlib.axis.XTick at 0x25f846d22e0>,\n",
       "  <matplotlib.axis.XTick at 0x25f846df310>,\n",
       "  <matplotlib.axis.XTick at 0x25f846dfa60>,\n",
       "  <matplotlib.axis.XTick at 0x25f846e61f0>,\n",
       "  <matplotlib.axis.XTick at 0x25f846e6940>,\n",
       "  <matplotlib.axis.XTick at 0x25f846df700>,\n",
       "  <matplotlib.axis.XTick at 0x25f846d1130>,\n",
       "  <matplotlib.axis.XTick at 0x25f846e6d30>,\n",
       "  <matplotlib.axis.XTick at 0x25f846ed4c0>,\n",
       "  <matplotlib.axis.XTick at 0x25f846edc10>,\n",
       "  <matplotlib.axis.XTick at 0x25f846f23a0>],\n",
       " [Text(0, 0, 'mean radius'),\n",
       "  Text(1, 0, 'mean texture'),\n",
       "  Text(2, 0, 'mean perimeter'),\n",
       "  Text(3, 0, 'mean area'),\n",
       "  Text(4, 0, 'mean smoothness'),\n",
       "  Text(5, 0, 'mean compactness'),\n",
       "  Text(6, 0, 'mean concavity'),\n",
       "  Text(7, 0, 'mean concave points'),\n",
       "  Text(8, 0, 'mean symmetry'),\n",
       "  Text(9, 0, 'mean fractal dimension'),\n",
       "  Text(10, 0, 'radius error'),\n",
       "  Text(11, 0, 'texture error'),\n",
       "  Text(12, 0, 'perimeter error'),\n",
       "  Text(13, 0, 'area error'),\n",
       "  Text(14, 0, 'smoothness error'),\n",
       "  Text(15, 0, 'compactness error'),\n",
       "  Text(16, 0, 'concavity error'),\n",
       "  Text(17, 0, 'concave points error'),\n",
       "  Text(18, 0, 'symmetry error'),\n",
       "  Text(19, 0, 'fractal dimension error'),\n",
       "  Text(20, 0, 'worst radius'),\n",
       "  Text(21, 0, 'worst texture'),\n",
       "  Text(22, 0, 'worst perimeter'),\n",
       "  Text(23, 0, 'worst area'),\n",
       "  Text(24, 0, 'worst smoothness'),\n",
       "  Text(25, 0, 'worst compactness'),\n",
       "  Text(26, 0, 'worst concavity'),\n",
       "  Text(27, 0, 'worst concave points'),\n",
       "  Text(28, 0, 'worst symmetry'),\n",
       "  Text(29, 0, 'worst fractal dimension')])"
      ]
     },
     "execution_count": 66,
     "metadata": {},
     "output_type": "execute_result"
    },
    {
     "data": {
      "text/plain": [
       "<matplotlib.collections.LineCollection at 0x25f846a6d60>"
      ]
     },
     "execution_count": 66,
     "metadata": {},
     "output_type": "execute_result"
    },
    {
     "data": {
      "text/plain": [
       "<matplotlib.legend.Legend at 0x25f84679100>"
      ]
     },
     "execution_count": 66,
     "metadata": {},
     "output_type": "execute_result"
    },
    {
     "data": {
      "image/png": "[encoded data removed]",
      "text/plain": [
       "<Figure size 432x288 with 1 Axes>"
      ]
     },
     "metadata": {
      "needs_background": "light"
     },
     "output_type": "display_data"
    }
   ],
   "source": [
    "plt.plot(logreg100.coef_.T, '^', label=\"C=100\")\n",
    "plt.plot(logreg.coef_.T, 'o', label=\"C=1\")\n",
    "plt.plot(logreg001.coef_.T, 'v', label=\"C=0.01\")\n",
    "plt.xticks(range(cancer.data.shape[1]), cancer.feature_names, rotation=90)\n",
    "xlims = plt.xlim()\n",
    "plt.hlines(0, xlims[0], xlims[1])\n",
    "plt.legend()"
   ]
  },
  {
   "cell_type": "markdown",
   "id": "ae114d31",
   "metadata": {},
   "source": [
    "이해하기 쉬운 모델을 원한다면 비록 모델이 몇 개의 특성만 사용하게 되겠지만 L1 규제를 사용하는 것이 좋다."
   ]
  },
  {
   "cell_type": "code",
   "execution_count": 67,
   "id": "c75cac1b",
   "metadata": {
    "scrolled": true
   },
   "outputs": [
    {
     "name": "stdout",
     "output_type": "stream",
     "text": [
      "train\n",
      "0.001 0.9131455399061033\n",
      "test\n",
      "0.001 0.9230769230769231\n"
     ]
    },
    {
     "data": {
      "text/plain": [
       "[<matplotlib.lines.Line2D at 0x25f8475eca0>]"
      ]
     },
     "execution_count": 67,
     "metadata": {},
     "output_type": "execute_result"
    },
    {
     "name": "stdout",
     "output_type": "stream",
     "text": [
      "train\n",
      "1 0.960093896713615\n",
      "test\n",
      "1 0.958041958041958\n"
     ]
    },
    {
     "data": {
      "text/plain": [
       "[<matplotlib.lines.Line2D at 0x25f8476e1f0>]"
      ]
     },
     "execution_count": 67,
     "metadata": {},
     "output_type": "execute_result"
    },
    {
     "name": "stdout",
     "output_type": "stream",
     "text": [
      "train\n",
      "100 0.9859154929577465\n",
      "test\n",
      "100 0.9790209790209791\n"
     ]
    },
    {
     "data": {
      "text/plain": [
       "[<matplotlib.lines.Line2D at 0x25f8476e7f0>]"
      ]
     },
     "execution_count": 67,
     "metadata": {},
     "output_type": "execute_result"
    },
    {
     "data": {
      "image/png": "[encoded data removed]",
      "text/plain": [
       "<Figure size 432x288 with 1 Axes>"
      ]
     },
     "metadata": {
      "needs_background": "light"
     },
     "output_type": "display_data"
    }
   ],
   "source": [
    "for C, marker in zip([0.001, 1, 100], ['o', '^', 'v']):\n",
    "    lr_l1 = LogisticRegression(solver='liblinear', C=C, penalty=\"l1\", max_iter=1000).fit(X_train,y_train)\n",
    "    print(\"train\")\n",
    "    print(C, lr_l1.score(X_train,y_train))\n",
    "    print(\"test\")\n",
    "    print(C, lr_l1.score(X_test, y_test))\n",
    "    plt.plot(lr_l1.coef_.T, marker, label=str(C))"
   ]
  },
  {
   "cell_type": "markdown",
   "id": "b366b83b",
   "metadata": {},
   "source": [
    "이진 분류에서의 선형 모델과 회귀에서의 선형 모델 사이에는 유사점이 많다.\n",
    "\n"
   ]
  },
  {
   "cell_type": "markdown",
   "id": "f380364f",
   "metadata": {},
   "source": [
    "로지스틱 회귀를 제외하고 많은 선형 분류 모델은 태생적으로 이진 분류만을 지원한다. 즉 다중 클래스multiclass 를 지원하지 않는다.\n",
    "\n",
    "이진 분류 알고리즘을 다중 클래스 분류 알고리즘으로 확장하는 보편적인 기법은 일대다one-vs.-rest 방법이다. 일대다 방식은 각 클래스를 다른 모든 클래스와 구분하도록 이진 분류 모델을 학습시킨다. 예측할 때는 이렇게 만들어진 모든 이진 분류기가 작동해 가장 노은 점수를 내는 분류기의 클래스를 예측값으로 선택한다."
   ]
  },
  {
   "cell_type": "markdown",
   "id": "277ca6ce",
   "metadata": {},
   "source": [
    "다중 클래스 로지스틱 회귀 이면의 수학은 일대다 방식과 다르다. 하지만 여기서도 클래스마다 하나의 계수 벡터와 절편을 만들고, 예측 방법도 같다.\n",
    "\n",
    "세 개의 클래스를 가진 간단한 데이터셋에 일대다 방식을 적용해 볼 ㄳ이다.\n",
    "\n",
    "이 데이터셋은 2차원이며 각 클래스의 데이터는 정규분포(Gaussian distribution)을 따른다."
   ]
  },
  {
   "cell_type": "code",
   "execution_count": 68,
   "id": "fa6b8c60",
   "metadata": {},
   "outputs": [
    {
     "data": {
      "text/plain": [
       "[<matplotlib.lines.Line2D at 0x25f847db190>,\n",
       " <matplotlib.lines.Line2D at 0x25f847db460>,\n",
       " <matplotlib.lines.Line2D at 0x25f847db730>]"
      ]
     },
     "execution_count": 68,
     "metadata": {},
     "output_type": "execute_result"
    },
    {
     "data": {
      "text/plain": [
       "<matplotlib.legend.Legend at 0x25f84788fd0>"
      ]
     },
     "execution_count": 68,
     "metadata": {},
     "output_type": "execute_result"
    },
    {
     "data": {
      "image/png": "[encoded data removed]",
      "text/plain": [
       "<Figure size 432x288 with 1 Axes>"
      ]
     },
     "metadata": {
      "needs_background": "light"
     },
     "output_type": "display_data"
    }
   ],
   "source": [
    "from sklearn.datasets import make_blobs\n",
    "\n",
    "X, y = make_blobs(random_state=42)\n",
    "mglearn.discrete_scatter(X[:,0], X[:,1], y)\n",
    "plt.legend([\"clss 0\", \"class 1\", \"class 2\"])"
   ]
  },
  {
   "cell_type": "code",
   "execution_count": 69,
   "id": "9d5cdc2b",
   "metadata": {},
   "outputs": [],
   "source": [
    "# we will train LinearSVC clssifier by this datasets"
   ]
  },
  {
   "cell_type": "code",
   "execution_count": 70,
   "id": "b56289ed",
   "metadata": {},
   "outputs": [
    {
     "name": "stdout",
     "output_type": "stream",
     "text": [
      "(3, 2)\n",
      "(3,)\n"
     ]
    }
   ],
   "source": [
    "linear_svm = LinearSVC().fit(X, y)\n",
    "print(linear_svm.coef_.shape)\n",
    "print(linear_svm.intercept_.shape)"
   ]
  },
  {
   "cell_type": "markdown",
   "id": "acfc6be7",
   "metadata": {},
   "source": [
    "coef_ 배열 크기는 (3,2). coef_ 의 rows는 세 개의 클래스에 각각 대응하는 coef vector를 담고 있으며, cols은 각 특성에 따른 intercept 값(이 데이터셋은 두 개)을 가지고 있다.\n",
    "\n",
    "intercept_는 각 클래스의 절편은 담은 1차원 벡터이다."
   ]
  },
  {
   "cell_type": "code",
   "execution_count": 71,
   "id": "aaf82f32",
   "metadata": {},
   "outputs": [
    {
     "data": {
      "text/plain": [
       "[<matplotlib.lines.Line2D at 0x25f8485b070>,\n",
       " <matplotlib.lines.Line2D at 0x25f8485b340>,\n",
       " <matplotlib.lines.Line2D at 0x25f8485b610>]"
      ]
     },
     "execution_count": 71,
     "metadata": {},
     "output_type": "execute_result"
    },
    {
     "data": {
      "text/plain": [
       "[<matplotlib.lines.Line2D at 0x25f8485ba60>]"
      ]
     },
     "execution_count": 71,
     "metadata": {},
     "output_type": "execute_result"
    },
    {
     "data": {
      "text/plain": [
       "[<matplotlib.lines.Line2D at 0x25f8485bd60>]"
      ]
     },
     "execution_count": 71,
     "metadata": {},
     "output_type": "execute_result"
    },
    {
     "data": {
      "text/plain": [
       "[<matplotlib.lines.Line2D at 0x25f84866070>]"
      ]
     },
     "execution_count": 71,
     "metadata": {},
     "output_type": "execute_result"
    },
    {
     "data": {
      "text/plain": [
       "<matplotlib.legend.Legend at 0x25f84806670>"
      ]
     },
     "execution_count": 71,
     "metadata": {},
     "output_type": "execute_result"
    },
    {
     "data": {
      "image/png": "[encoded data removed]",
      "text/plain": [
       "<Figure size 432x288 with 1 Axes>"
      ]
     },
     "metadata": {
      "needs_background": "light"
     },
     "output_type": "display_data"
    }
   ],
   "source": [
    "mglearn.discrete_scatter(X[:,0], X[:,1], y)\n",
    "line = np.linspace(-15,15)\n",
    "for coef, intercept, color in zip(linear_svm.coef_, linear_svm.intercept_,\n",
    "                                 mglearn.cm3.colors):\n",
    "    plt.plot(line, -(line * coef[0] + intercept) / coef[1], c=color)\n",
    "    \n",
    "plt.legend(['c0', 'c1', 'c2', 'c0 border', 'c1 border', 'c2 border'])"
   ]
  },
  {
   "cell_type": "markdown",
   "id": "1e58ea2d",
   "metadata": {},
   "source": [
    "각각의 클래스에 따른 경계가 만들어졌다.\n",
    "\n",
    "각 클래스에 따라 0보다 크면 true 0보다 작으면 false를 가지며 분류될 것이다.\n",
    "\n",
    "#### 중앙의 삼각형 영역은 어떨까? \n",
    "세 분류기 모두 나머지로 분류한 이 곳의 데이터 포인트는 분류 공식의 결과가 가장 높은 클래스로 분류된다. 즉 가장 가까운 직선의 클래스가 된다."
   ]
  },
  {
   "cell_type": "code",
   "execution_count": 72,
   "id": "4bbb20a7",
   "metadata": {},
   "outputs": [
    {
     "data": {
      "text/plain": [
       "[<matplotlib.lines.Line2D at 0x25f848ee670>,\n",
       " <matplotlib.lines.Line2D at 0x25f848ee940>,\n",
       " <matplotlib.lines.Line2D at 0x25f848eec10>]"
      ]
     },
     "execution_count": 72,
     "metadata": {},
     "output_type": "execute_result"
    },
    {
     "data": {
      "text/plain": [
       "[<matplotlib.lines.Line2D at 0x25f848f7070>]"
      ]
     },
     "execution_count": 72,
     "metadata": {},
     "output_type": "execute_result"
    },
    {
     "data": {
      "text/plain": [
       "[<matplotlib.lines.Line2D at 0x25f848f7340>]"
      ]
     },
     "execution_count": 72,
     "metadata": {},
     "output_type": "execute_result"
    },
    {
     "data": {
      "text/plain": [
       "[<matplotlib.lines.Line2D at 0x25f848f7670>]"
      ]
     },
     "execution_count": 72,
     "metadata": {},
     "output_type": "execute_result"
    },
    {
     "data": {
      "image/png": "[encoded data removed]",
      "text/plain": [
       "<Figure size 432x288 with 1 Axes>"
      ]
     },
     "metadata": {},
     "output_type": "display_data"
    }
   ],
   "source": [
    "mglearn.plots.plot_2d_classification(linear_svm, X, fill=True, alpha=0.7)\n",
    "mglearn.discrete_scatter(X[:, 0], X[:, 1], y)\n",
    "line = np.linspace(-15,15)\n",
    "for coef, intercept, color in zip(linear_svm.coef_, linear_svm.intercept_,\n",
    "                                 mglearn.cm3.colors):\n",
    "    plt.plot(line,-(line * coef[0] + intercept) / coef[1], c=color)"
   ]
  },
  {
   "cell_type": "markdown",
   "id": "d3c697fe",
   "metadata": {},
   "source": [
    "세 개의 일대다 분류기가 만든 다중 클래스 결정 경계이다."
   ]
  },
  {
   "cell_type": "markdown",
   "id": "d0aa7cdf",
   "metadata": {},
   "source": [
    "선형 모델의 주요 매개변수는 회귀 모델에서는 alpha 였고 LinearSVC와 LogisticReression에서는 C 이다. alpha값이 클수록, C 값이 작을수록 모델이 단순해진다. \n",
    "\n",
    "특별히 회귀 모델에서 이 매개변수를 조정하는 일이 매우 중료하다. 보통 C와 alpha는 로그 스케일로 최적치를 정한다.\n",
    "\n",
    "그리고 L1 규제를 사용할지 L2 규제를 사용할지를 정해야 한다.\n",
    "\n",
    "중요한 특성이 많지 않다고 생각하면 l1, 그렇지 않으면 기본적으로 l2 규제를 사용해야 한다.\n"
   ]
  },
  {
   "cell_type": "markdown",
   "id": "b336b1c7",
   "metadata": {},
   "source": [
    "선형 모델은 학습 속도가 빠르고 예측도 빠르다. 매우 큰 데이터셋과 희소한 데이터셋에도 잘 작동한다.\n",
    "\n",
    "대용량이라면 기본설정보다 빨리 처리하도록 LogisticRegression 과 Ridge에 solver='sag' 옵션을 준다. 다른 대안으로는 선형모델의 대용량 처리 버전으로 구현된 SGDClassifier와 SGDRegressor를 사용한다."
   ]
  },
  {
   "cell_type": "markdown",
   "id": "dbd89aa5",
   "metadata": {},
   "source": [
    "선형 모델의 또 하나 장점은 앞서 본 공식을 사용해 예측이 어떻게 만들어지는지 비교적 쉽게 이해할 수 있다. 하지만 계수의 값들이 왜 그런지 명확하지 않을 때가 종종있다. 특히 특성들이 서로 깊게 연관되어 있다며 더욱 그렇다. 이럴 땐 계수를 분석하기도 매우 어려울 수 있다.\n",
    "\n"
   ]
  },
  {
   "cell_type": "markdown",
   "id": "1e7630d7",
   "metadata": {},
   "source": [
    "### 나이브 베이즈 분류기 naive bayes classifier\n",
    "naive bayes 분류기는 선형 모델과 매우 유사하다. logistic regression이나 linear SVC 같은 선형 분류기보다 훈련 속도가 빠른 편이지만, 그 대신 일반화 성능이 조금 약하다.\n",
    "\n",
    "나이브 베이즈 분류기가 효과적인 이유는 각 특성을 개별로 취급해 파라미터를 학습하고 각 특성에서 클래스별 통계를 단순하게 취합하기 때문이다.\n",
    "\n",
    "sklearn에 구현된 나이브 베이즈 분류기는 세 가지이다.\n",
    "- GaussianNB\n",
    "- BernoulliNB\n",
    "- MultinomialNB\n",
    "\n",
    "가우시안은 연속적인 어떤 데이터에도 적용할 수 있고 베르누이는 이진 데이터를, 멀티노미얼은 카운트 데이터(특성이 어떤 것을 헤아린 정수 카운트로, 예를 들면 문장에 나타난 단어의 횟수)에 적용된다. 베르누이, 멀티노미얼은 대부분 텍스트 데이터를 분류할 때 사용한다."
   ]
  },
  {
   "cell_type": "markdown",
   "id": "79d62ec5",
   "metadata": {},
   "source": [
    "베르누이 분류기는 각 클래스의 특성 중 0이 아닌 것이 몇 개 인지 센다."
   ]
  },
  {
   "cell_type": "code",
   "execution_count": 73,
   "id": "91b8c95b",
   "metadata": {},
   "outputs": [],
   "source": [
    "X = np.array([[0,1,0,1],\n",
    "             [1,0,1,1],\n",
    "             [0,0,0,1],\n",
    "             [1,0,1,0]])\n",
    "y = np.array([0,1,0,1])"
   ]
  },
  {
   "cell_type": "code",
   "execution_count": 74,
   "id": "9a1a46c7",
   "metadata": {},
   "outputs": [
    {
     "name": "stdout",
     "output_type": "stream",
     "text": [
      "feature counts\n",
      "{0: array([0, 1, 0, 2]), 1: array([2, 0, 2, 1])}\n"
     ]
    }
   ],
   "source": [
    "counts = {}\n",
    "for label in np.unique(y):\n",
    "    counts[label] = X[y == label].sum(axis=0)\n",
    "print(\"feature counts\")\n",
    "print(counts)"
   ]
  },
  {
   "cell_type": "code",
   "execution_count": 75,
   "id": "0e145697",
   "metadata": {},
   "outputs": [
    {
     "name": "stdout",
     "output_type": "stream",
     "text": [
      "[0 1]\n"
     ]
    }
   ],
   "source": [
    "print(np.unique(y))"
   ]
  },
  {
   "cell_type": "markdown",
   "id": "4764af29",
   "metadata": {},
   "source": [
    "멀티노미얼과 가우시안은 계산하는 통계 데이터의 종류가 조금 다르다. \n",
    "- 멀티노미얼\n",
    "    - 클래스별로 특성의 평균을 계산한다\n",
    "- 가우시안\n",
    "    - 클래스별로 각 특성의 표준편차와 평균을 저장한다\n",
    "\n",
    "예측할 땐 데이터 포인트를 클래스의 통계 값과 비교해서 가장 잘 맞는 클래스를 예측값으로 한다.\n",
    "\n",
    "멀티노미얼과 베르누이의 예측 공식은 선형 모델과 형태가 같다. 그러나 나이브 베이즈 모델의 coef_ 는 기울기 w가 아니라서 선형 모델과는 의미가 다르다."
   ]
  },
  {
   "cell_type": "markdown",
   "id": "a8167360",
   "metadata": {},
   "source": [
    "#### 장단점과 매개변수\n",
    "멀티노미얼과 베르누이는 alpha 매개변수 하나를 가지고 있다. alpha가 주어지면 알고리즘이 모든 특성에 양의 값을 가진 가상의 데이터 포인트를 alpha 개수만큼 추가한다. 이는 통계 데이터를 완만하게 만들어준다. \n",
    "\n",
    "alpha가 크면 더 완만해지고 모델의 복잡도가 낮아진다. alpha는 성능 향상에 크게 기여하지 않지만 이 값을 조정하면 어느 정도는 정확도를 높일 수 있다."
   ]
  },
  {
   "cell_type": "markdown",
   "id": "d51c0fb9",
   "metadata": {},
   "source": [
    "가우시안은 대부분 매우 고차원인 데이터셋에 사용하고, 베르누이와 멀티노미얼은 텍스트 같은 희소한 데이터를 카운트하는 데 사용한다.\n",
    "\n",
    "멀티노미얼은 보통 0이 아닌 특성이 비교적 많은 데이터셋 (e.g. 큰 문서) 에서 베르누이보다 성능이 높다."
   ]
  },
  {
   "cell_type": "markdown",
   "id": "767c122b",
   "metadata": {},
   "source": [
    "나이브 베이즈 모델과 선형 모델은 장단점은 비슷하다. 훈련과 예측 속도가 빠르며 훈련 과정을 이해하기 쉽다.\n",
    "\n",
    "희소한 고차원 데이터에서 잘 작동하며 비교적 매개변수에 민감하지 않다.\n",
    "\n",
    "선형 모델로 학습 시간이 너무 오래 걸리는 큰 데이터셋에는 나이브 베이즈 모델을 시도해볼 만하며 종종 사용된다."
   ]
  },
  {
   "cell_type": "markdown",
   "id": "274af110",
   "metadata": {},
   "source": [
    "### 결정 트리 decision tree\n",
    "분류와 회귀 문제에 널리 사용된다. 기본적으로 결정 트리는 결정에 다다르기 위해 예/아니오 질문을 이어 나가면서 학습한다."
   ]
  },
  {
   "cell_type": "markdown",
   "id": "49d5f855",
   "metadata": {},
   "source": [
    "일반적으로 트리 만들기를 모든 리프 노드가 순수 노드가 될 때까지 진행하면 모델이 매우 복잡해지고 훈련 데이터에 오버피팅된다. "
   ]
  },
  {
   "cell_type": "markdown",
   "id": "0f0c454e",
   "metadata": {},
   "source": [
    "오버피팅을 막는 전략은 크게 두 가지이다.\n",
    "\n",
    "- 사전 가지치기(pre-pruning)\n",
    "    - 트리 생성을 일찍 중단하는 전략\n",
    "        - 트리의 최대 깊이 제한\n",
    "        - 리프의 최대 개수 제한\n",
    "        - 노드가 분할하기 위한 포인트의 최소 개수 지정\n",
    "- 사후 가지치지 또는 가지치기(post-pruning or pruning)\n",
    "    - 트리를 만든 후 데이터 포인트가 적은 노드를 삭제하거나 병합하는 전략"
   ]
  },
  {
   "cell_type": "markdown",
   "id": "03e499c7",
   "metadata": {},
   "source": [
    "sklearn 에서 decision tree는 아래의 항목에 구현되어 있으며, sklearn은 사전 가지치기pre-pruning만 지원한다.\n",
    "\n",
    "- DecisionTreeRegressor\n",
    "- DecisionTreeClassifier"
   ]
  },
  {
   "cell_type": "code",
   "execution_count": 78,
   "id": "bccbb178",
   "metadata": {},
   "outputs": [],
   "source": [
    "from sklearn.tree import DecisionTreeClassifier"
   ]
  },
  {
   "cell_type": "code",
   "execution_count": 80,
   "id": "9f023df7",
   "metadata": {},
   "outputs": [
    {
     "data": {
      "text/plain": [
       "DecisionTreeClassifier(random_state=0)"
      ]
     },
     "execution_count": 80,
     "metadata": {},
     "output_type": "execute_result"
    }
   ],
   "source": [
    "cancer = load_breast_cancer()\n",
    "X_train, X_test, y_train, y_test = train_test_split(\n",
    "    cancer.data, cancer.target, stratify=cancer.target, random_state=42)\n",
    "tree = DecisionTreeClassifier(random_state=0)\n",
    "tree.fit(X_train,y_train)"
   ]
  },
  {
   "cell_type": "code",
   "execution_count": 83,
   "id": "5af1f0d1",
   "metadata": {},
   "outputs": [
    {
     "name": "stdout",
     "output_type": "stream",
     "text": [
      "train\n",
      "1.0\n",
      "test\n",
      "0.9370629370629371\n"
     ]
    }
   ],
   "source": [
    "print(\"train\")\n",
    "print(tree.score(X_train, y_train))\n",
    "print(\"test\")\n",
    "print(tree.score(X_test, y_test))"
   ]
  },
  {
   "cell_type": "markdown",
   "id": "7f6faa6b",
   "metadata": {},
   "source": [
    "모든 리프 노드가 순수 노드이므로 훈련 셋의 정확도는 100이다.\n",
    "\n",
    "\n",
    "즉 트리가 트레이닝 데이터의 모든 레이블을 완벽하게 기억할 만큼 충분히 깊게 만들어졌다. \n",
    "\n",
    "그리고 테스트 셋에 대한 퍼포먼스를 보면 오버피팅 된 것을 볼 수 있다.\n",
    "\n",
    "이제 사전 가지치기pre-pruning 를 적용해서 훈련 데이터에 완전히 학습되기 전에 트리의 성장을 막으려 한다.\n",
    "\n",
    "한 가지 방법은 일정 깊이에 도달하면 트리의 성장을 멈추게 하는 것이다.\n",
    "\n",
    "max_depth=4 옵션을 통해 제한해보겠다"
   ]
  },
  {
   "cell_type": "code",
   "execution_count": 84,
   "id": "572372c1",
   "metadata": {},
   "outputs": [
    {
     "data": {
      "text/plain": [
       "DecisionTreeClassifier(max_depth=4, random_state=0)"
      ]
     },
     "execution_count": 84,
     "metadata": {},
     "output_type": "execute_result"
    }
   ],
   "source": [
    "tree = DecisionTreeClassifier(max_depth=4, random_state=0)\n",
    "tree.fit(X_train, y_train)"
   ]
  },
  {
   "cell_type": "code",
   "execution_count": 85,
   "id": "1996498e",
   "metadata": {},
   "outputs": [
    {
     "name": "stdout",
     "output_type": "stream",
     "text": [
      "train\n",
      "0.9882629107981221\n",
      "test\n",
      "0.951048951048951\n"
     ]
    }
   ],
   "source": [
    "print(\"train\")\n",
    "print(tree.score(X_train,y_train))\n",
    "print(\"test\")\n",
    "print(tree.score(X_test, y_test))"
   ]
  },
  {
   "cell_type": "markdown",
   "id": "3a15e2cd",
   "metadata": {},
   "source": [
    "#### 결정 트리 분석 decision tree analysis\n"
   ]
  },
  {
   "cell_type": "code",
   "execution_count": 88,
   "id": "f12bd684",
   "metadata": {},
   "outputs": [],
   "source": [
    "from sklearn.tree import export_graphviz\n",
    "export_graphviz(tree, out_file=\"tree.dot\", class_names=[\"악성\", \"양성\"],\n",
    "               feature_names=cancer.feature_names, impurity=False, filled=True)"
   ]
  },
  {
   "cell_type": "code",
   "execution_count": 89,
   "id": "97d9cad0",
   "metadata": {},
   "outputs": [
    {
     "ename": "UnicodeDecodeError",
     "evalue": "'cp949' codec can't decode byte 0xec in position 197: illegal multibyte sequence",
     "output_type": "error",
     "traceback": [
      "\u001b[1;31m---------------------------------------------------------------------------\u001b[0m",
      "\u001b[1;31mUnicodeDecodeError\u001b[0m                        Traceback (most recent call last)",
      "\u001b[1;32m~\\AppData\\Local\\Temp/ipykernel_2652/3048926644.py\u001b[0m in \u001b[0;36m<module>\u001b[1;34m\u001b[0m\n\u001b[0;32m      2\u001b[0m \u001b[1;33m\u001b[0m\u001b[0m\n\u001b[0;32m      3\u001b[0m \u001b[1;32mwith\u001b[0m \u001b[0mopen\u001b[0m\u001b[1;33m(\u001b[0m\u001b[1;34m\"tree.dot\"\u001b[0m\u001b[1;33m)\u001b[0m \u001b[1;32mas\u001b[0m \u001b[0mf\u001b[0m\u001b[1;33m:\u001b[0m\u001b[1;33m\u001b[0m\u001b[1;33m\u001b[0m\u001b[0m\n\u001b[1;32m----> 4\u001b[1;33m     \u001b[0mdot_graph\u001b[0m \u001b[1;33m=\u001b[0m \u001b[0mf\u001b[0m\u001b[1;33m.\u001b[0m\u001b[0mread\u001b[0m\u001b[1;33m(\u001b[0m\u001b[1;33m)\u001b[0m\u001b[1;33m\u001b[0m\u001b[1;33m\u001b[0m\u001b[0m\n\u001b[0m\u001b[0;32m      5\u001b[0m \u001b[0mdisplay\u001b[0m\u001b[1;33m(\u001b[0m\u001b[0mgraphviz\u001b[0m\u001b[1;33m.\u001b[0m\u001b[0mSource\u001b[0m\u001b[1;33m(\u001b[0m\u001b[0mdot_graph\u001b[0m\u001b[1;33m)\u001b[0m\u001b[1;33m)\u001b[0m\u001b[1;33m\u001b[0m\u001b[1;33m\u001b[0m\u001b[0m\n",
      "\u001b[1;31mUnicodeDecodeError\u001b[0m: 'cp949' codec can't decode byte 0xec in position 197: illegal multibyte sequence"
     ]
    }
   ],
   "source": [
    "import graphviz\n",
    "\n",
    "with open(\"tree.dot\") as f:\n",
    "    dot_graph = f.read()\n",
    "display(graphviz.Source(dot_graph))"
   ]
  },
  {
   "cell_type": "code",
   "execution_count": 90,
   "id": "d15ebb7d",
   "metadata": {},
   "outputs": [],
   "source": [
    "# graphviz 는 에러가 겁나 뜬다.\n",
    "# 안 쓰는 게 나을 거 같다"
   ]
  },
  {
   "cell_type": "code",
   "execution_count": null,
   "id": "4257c54a",
   "metadata": {},
   "outputs": [],
   "source": []
  }
 ],
 "metadata": {
  "kernelspec": {
   "display_name": "Python 3 (ipykernel)",
   "language": "python",
   "name": "python3"
  },
  "language_info": {
   "codemirror_mode": {
    "name": "ipython",
    "version": 3
   },
   "file_extension": ".py",
   "mimetype": "text/x-python",
   "name": "python",
   "nbconvert_exporter": "python",
   "pygments_lexer": "ipython3",
   "version": "3.9.7"
  }
 },
 "nbformat": 4,
 "nbformat_minor": 5
}
