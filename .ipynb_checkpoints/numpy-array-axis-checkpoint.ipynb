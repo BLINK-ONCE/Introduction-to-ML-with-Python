{
 "cells": [
  {
   "cell_type": "code",
   "execution_count": 4,
   "id": "3959c001",
   "metadata": {},
   "outputs": [],
   "source": [
    "# 배열의 축??\n",
    "# numpy array 의 축에 대해 공부해보자"
   ]
  },
  {
   "cell_type": "markdown",
   "id": "e20416a0",
   "metadata": {},
   "source": [
    "https://pybasall.tistory.com/129"
   ]
  },
  {
   "cell_type": "code",
   "execution_count": 5,
   "id": "2fb8cd4c",
   "metadata": {},
   "outputs": [
    {
     "data": {
      "text/plain": [
       "array([1, 2, 3, 4, 5])"
      ]
     },
     "execution_count": 5,
     "metadata": {},
     "output_type": "execute_result"
    }
   ],
   "source": [
    "import numpy as np\n",
    "\n",
    "A1 = np.array([1,2,3,4,5])\n",
    "A1"
   ]
  },
  {
   "cell_type": "code",
   "execution_count": 6,
   "id": "3ff259c6",
   "metadata": {},
   "outputs": [],
   "source": [
    "# 이때 축은 axis0 하나 뿐이다. 이때는 행과 열의 개념이 없다."
   ]
  },
  {
   "cell_type": "code",
   "execution_count": 8,
   "id": "79b7ad2e",
   "metadata": {},
   "outputs": [
    {
     "data": {
      "text/plain": [
       "array([[0, 1, 2],\n",
       "       [3, 4, 5]])"
      ]
     },
     "execution_count": 8,
     "metadata": {},
     "output_type": "execute_result"
    }
   ],
   "source": [
    "A2 = np.arange(6).reshape(2,3)\n",
    "A2"
   ]
  },
  {
   "cell_type": "code",
   "execution_count": 9,
   "id": "969d2d39",
   "metadata": {},
   "outputs": [],
   "source": [
    "# 우리는 위 배열을 2행 3열로 해석한다.\n",
    "# 위 array는 사실 단지 중첩일 뿐이다.\n",
    "# 2차원이니 축은 2개이다.\n",
    "# 각각은 다음과 같이 매칭된다.\n",
    "# axis0 -> 행\n",
    "# axis1 -> 열"
   ]
  },
  {
   "cell_type": "code",
   "execution_count": 10,
   "id": "88bfc606",
   "metadata": {},
   "outputs": [],
   "source": [
    "# 왜 그런지 이유를 알아보자\n",
    "# axis0는 행, axis1는 열로 외우면 3차원에서 이 규칙이 유지되지 않기 때문에 문제가 된다."
   ]
  },
  {
   "cell_type": "code",
   "execution_count": 11,
   "id": "22b28e45",
   "metadata": {},
   "outputs": [
    {
     "data": {
      "text/plain": [
       "array([[[ 0,  1,  2,  3],\n",
       "        [ 4,  5,  6,  7],\n",
       "        [ 8,  9, 10, 11]],\n",
       "\n",
       "       [[12, 13, 14, 15],\n",
       "        [16, 17, 18, 19],\n",
       "        [20, 21, 22, 23]]])"
      ]
     },
     "execution_count": 11,
     "metadata": {},
     "output_type": "execute_result"
    }
   ],
   "source": [
    "A3 = np.arange(24).reshape(2,3,4)\n",
    "A3"
   ]
  },
  {
   "cell_type": "code",
   "execution_count": 12,
   "id": "cecfcd66",
   "metadata": {},
   "outputs": [],
   "source": [
    "# 위 배열은 3행 4열의 행렬이 두 층 쌓인 것으로 해석 될 수 있다.\n",
    "# 3차원이므로 축이 3개이다.\n",
    "# 행, 열, 높이라 두고 축을 대응하면 아래와 같다.\n",
    "# axis0 -> 높이\n",
    "# axis1 -> 행\n",
    "# axis2 -> 열"
   ]
  },
  {
   "cell_type": "code",
   "execution_count": 13,
   "id": "5c44c1b1",
   "metadata": {},
   "outputs": [],
   "source": [
    "# 3차원에서는 행렬의 규칙이 깨지며, \n",
    "# 4차원 이상이 되면 더 이상 행렬 개념으로 이해할 수 없다."
   ]
  },
  {
   "cell_type": "code",
   "execution_count": 14,
   "id": "341a57b1",
   "metadata": {},
   "outputs": [],
   "source": [
    "# 배열에 대한 생각을 바꿔보자\n",
    "# 위 배열들은 단지 중첩일 뿐이다.\n",
    "# 축은 단지 가장 바깥 리스트에서 안쪽 리스트 순서대로 0부터 이름을 붙인 것이다."
   ]
  },
  {
   "cell_type": "code",
   "execution_count": 16,
   "id": "efb9a50f",
   "metadata": {},
   "outputs": [
    {
     "data": {
      "text/plain": [
       "array([[0, 1, 2],\n",
       "       [3, 4, 5]])"
      ]
     },
     "execution_count": 16,
     "metadata": {},
     "output_type": "execute_result"
    }
   ],
   "source": [
    "# 예를 들어 아래와 같은 배열이 있다고 하자\n",
    "A2"
   ]
  },
  {
   "cell_type": "code",
   "execution_count": 17,
   "id": "4d7e790a",
   "metadata": {},
   "outputs": [],
   "source": [
    "# axis0는 [0,1,2] -> [3,4,5] 로 진행되는 방향이다.\n",
    "# axis1은 0->1->2 또는 3->4->5 로 진행되는 방향이다.\n",
    "\n",
    "# axis0을 행방향(위 -> 아래), axis1을 열방향(좌 -> 우)로 해석할 수도 있다.\n",
    "# 하지만 굳이 그러지 않아도 상관 없다."
   ]
  },
  {
   "cell_type": "code",
   "execution_count": 20,
   "id": "c96aeb08",
   "metadata": {},
   "outputs": [
    {
     "data": {
      "text/plain": [
       "array([[[1, 2],\n",
       "        [3, 4]],\n",
       "\n",
       "       [[5, 6],\n",
       "        [7, 8]]])"
      ]
     },
     "execution_count": 20,
     "metadata": {},
     "output_type": "execute_result"
    }
   ],
   "source": [
    "A4 = np.arange(1, 9).reshape(2,2,2)\n",
    "A4"
   ]
  },
  {
   "cell_type": "code",
   "execution_count": 21,
   "id": "dd33b73e",
   "metadata": {},
   "outputs": [],
   "source": [
    "# 차원을 하나 높여서 보자.\n",
    "# axis0 는 [[1,2],[3,4]] -> [[5,6],[7,8]] 로 진행되는 방향이다.\n",
    "# axis1 은 [1,2] -> [3,4] 또는 [5,6],[7,8] 로 진행되는 방향이다.\n",
    "# axis2 는 1->2 또는 3->4 또는 5->6 또는 7->8 로 진행되는 방향이다."
   ]
  },
  {
   "cell_type": "code",
   "execution_count": null,
   "id": "45701e33",
   "metadata": {},
   "outputs": [],
   "source": []
  }
 ],
 "metadata": {
  "kernelspec": {
   "display_name": "Python 3 (ipykernel)",
   "language": "python",
   "name": "python3"
  },
  "language_info": {
   "codemirror_mode": {
    "name": "ipython",
    "version": 3
   },
   "file_extension": ".py",
   "mimetype": "text/x-python",
   "name": "python",
   "nbconvert_exporter": "python",
   "pygments_lexer": "ipython3",
   "version": "3.9.7"
  }
 },
 "nbformat": 4,
 "nbformat_minor": 5
}
